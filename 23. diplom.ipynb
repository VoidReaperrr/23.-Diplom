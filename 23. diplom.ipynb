{
 "cells": [
  {
   "cell_type": "markdown",
   "metadata": {},
   "source": [
    "# Описание проекта. Телеком  \n",
    "Оператор связи «ТелеДом» хочет бороться с оттоком клиентов. Для этого его сотрудники начнут предлагать промокоды и специальные условия всем, кто планирует отказаться от услуг связи. Чтобы заранее находить таких пользователей, «ТелеДому» нужна модель, которая будет предсказывать, разорвёт ли абонент договор. Команда оператора собрала персональные данные о некоторых клиентах, информацию об их тарифах и услугах. Ваша задача — обучить на этих данных модель для прогноза оттока клиентов.\n",
    "\n",
    "### Описание услуг  \n",
    "Оператор предоставляет два основных типа услуг:  \n",
    "Стационарную телефонную связь. Телефон можно подключить к нескольким линиям одновременно.\n",
    "Интернет. Подключение бывает двух типов: через телефонную линию DSL (англ. digital subscriber line — «цифровая абонентская линия») или оптоволоконный кабель (англ. fiber optic).  \n",
    "Также абонентам доступен ряд услуг:  \n",
    "Интернет-безопасность: антивирус (Device Protection) и блокировка опасных сайтов (Online Security);  \n",
    "Выделенная линия технической поддержки (Tech Support);  \n",
    "Облачное хранилище файлов для резервного копирования данных (Online Backup);  \n",
    "Стриминговое телевидение (Streaming TV) и каталог фильмов (Streaming Movies).  \n",
    "За услуги клиенты могут платить ежемесячно или раз в 1–2 года.  \n",
    "Доступны различные способы расчёта и возможность получить электронный чек.  \n",
    "### Описание данных\n",
    "Данные хранятся в базе данных PostgreSQL. Она состоит из нескольких таблиц:  \n",
    "contract — информация о договорах;  \n",
    "personal — персональные данные клиентов;  \n",
    "internet — информация об интернет-услугах;  \n",
    "phone — информация об услугах телефонии. \n",
    "\n",
    "Таблица `telecom.contract`   \n",
    "customerID — ID абонента;  \n",
    "BeginDate — дата начала действия договора;  \n",
    "EndDate — дата окончания действия договора;  \n",
    "Type — тип оплаты: раз в год-два или ежемесячно;  \n",
    "PaperlessBilling — электронный расчётный лист;  \n",
    "PaymentMethod — тип платежа;  \n",
    "MonthlyCharges — расходы за месяц;  \n",
    "TotalCharges — общие расходы абонента.  \n",
    "\n",
    "Таблица `telecom.personal`  \n",
    "customerID — ID пользователя;  \n",
    "gender — пол;  \n",
    "SeniorCitizen — является ли абонент пенсионером;  \n",
    "Partner — есть ли у абонента супруг или супруга;  \n",
    "Dependents — есть ли у абонента дети.  \n",
    "\n",
    "Таблица `telecom.internet`   \n",
    "customerID — ID пользователя;  \n",
    "InternetService — тип подключения;  \n",
    "OnlineSecurity — блокировка опасных сайтов;  \n",
    "OnlineBackup — облачное хранилище файлов для резервного копирования данных;  \n",
    "DeviceProtection — антивирус;  \n",
    "TechSupport — выделенная линия технической поддержки;  \n",
    "StreamingTV — стриминговое телевидение;  \n",
    "StreamingMovies — каталог фильмов.  \n",
    "\n",
    "Таблица `telecom.phone`  \n",
    "customerID — ID пользователя;  \n",
    "MultipleLines — подключение телефона к нескольким линиям одновременно.  \n",
    "\n",
    "Информация о договорах актуальна на 1 февраля 2020."
   ]
  },
  {
   "cell_type": "markdown",
   "metadata": {},
   "source": [
    "## Импорт библиотек и загрузка данных"
   ]
  },
  {
   "cell_type": "markdown",
   "metadata": {},
   "source": [
    "### Импорт библиотек"
   ]
  },
  {
   "cell_type": "code",
   "execution_count": 1,
   "metadata": {},
   "outputs": [
    {
     "name": "stdout",
     "output_type": "stream",
     "text": [
      "Requirement already satisfied: phik in /opt/conda/lib/python3.9/site-packages (0.12.3)\n",
      "Requirement already satisfied: pandas>=0.25.1 in /opt/conda/lib/python3.9/site-packages (from phik) (1.2.4)\n",
      "Requirement already satisfied: joblib>=0.14.1 in /opt/conda/lib/python3.9/site-packages (from phik) (1.1.0)\n",
      "Requirement already satisfied: scipy>=1.5.2 in /opt/conda/lib/python3.9/site-packages (from phik) (1.9.1)\n",
      "Requirement already satisfied: numpy>=1.18.0 in /opt/conda/lib/python3.9/site-packages (from phik) (1.21.1)\n",
      "Requirement already satisfied: matplotlib>=2.2.3 in /opt/conda/lib/python3.9/site-packages (from phik) (3.3.4)\n",
      "Requirement already satisfied: pillow>=6.2.0 in /opt/conda/lib/python3.9/site-packages (from matplotlib>=2.2.3->phik) (8.4.0)\n",
      "Requirement already satisfied: cycler>=0.10 in /opt/conda/lib/python3.9/site-packages (from matplotlib>=2.2.3->phik) (0.11.0)\n",
      "Requirement already satisfied: python-dateutil>=2.1 in /opt/conda/lib/python3.9/site-packages (from matplotlib>=2.2.3->phik) (2.8.1)\n",
      "Requirement already satisfied: pyparsing!=2.0.4,!=2.1.2,!=2.1.6,>=2.0.3 in /opt/conda/lib/python3.9/site-packages (from matplotlib>=2.2.3->phik) (2.4.7)\n",
      "Requirement already satisfied: kiwisolver>=1.0.1 in /opt/conda/lib/python3.9/site-packages (from matplotlib>=2.2.3->phik) (1.4.4)\n",
      "Requirement already satisfied: pytz>=2017.3 in /opt/conda/lib/python3.9/site-packages (from pandas>=0.25.1->phik) (2021.1)\n",
      "Requirement already satisfied: six>=1.5 in /opt/conda/lib/python3.9/site-packages (from python-dateutil>=2.1->matplotlib>=2.2.3->phik) (1.16.0)\n"
     ]
    }
   ],
   "source": [
    "!pip install phik"
   ]
  },
  {
   "cell_type": "code",
   "execution_count": 2,
   "metadata": {},
   "outputs": [],
   "source": [
    "import pandas as pd\n",
    "import numpy as np \n",
    "\n",
    "import matplotlib.pyplot as plt\n",
    "import seaborn as sns\n",
    "import phik\n",
    "from scipy.stats import shapiro\n",
    "import scipy.stats as stats\n",
    "\n",
    "from sklearn.model_selection import train_test_split\n",
    "from sklearn.preprocessing import StandardScaler\n",
    "from sklearn.metrics import accuracy_score, roc_auc_score, confusion_matrix, precision_recall_curve\n",
    "from sklearn.tree import DecisionTreeClassifier\n",
    "from sklearn.ensemble import RandomForestClassifier, GradientBoostingClassifier\n",
    "from sklearn.model_selection import GridSearchCV, RandomizedSearchCV\n",
    "from sklearn.preprocessing import StandardScaler, OneHotEncoder\n",
    "from catboost import CatBoostClassifier\n",
    "from sklearn.utils import class_weight\n",
    "from sklearn.neural_network import MLPClassifier\n",
    "import warnings\n",
    "from sqlalchemy import create_engine\n",
    "import psycopg2\n",
    "RANDOM_STATE = 22823"
   ]
  },
  {
   "cell_type": "markdown",
   "metadata": {},
   "source": [
    "### Загрузка данных"
   ]
  },
  {
   "cell_type": "code",
   "execution_count": 3,
   "metadata": {},
   "outputs": [],
   "source": [
    "db_config = {\n",
    "            'user': 'praktikum_student', # Имя пользователя\n",
    "            'pwd': 'Sdf4$2;d-d30pp', # Пароль\n",
    "            'host': 'rc1b-wcoijxj3yxfsf3fs.mdb.yandexcloud.net', # Хост\n",
    "            'port': 6432, # Порт подключения\n",
    "            'db': 'data-science-final' # Название базы данных,\n",
    "            }\n",
    "\n",
    "connection_string = 'postgresql://{}:{}@{}:{}/{}'.format(\n",
    "    db_config['user'],\n",
    "    db_config['pwd'],\n",
    "    db_config['host'],\n",
    "    db_config['port'],\n",
    "    db_config['db'],\n",
    ") \n",
    "\n",
    "engine = create_engine(connection_string)"
   ]
  },
  {
   "cell_type": "code",
   "execution_count": 4,
   "metadata": {},
   "outputs": [],
   "source": [
    "    query_contract = \"SELECT * FROM telecom.contract\"\n",
    "    query_personal = \"SELECT * FROM telecom.personal\"\n",
    "    query_internet = \"SELECT * FROM telecom.internet\"\n",
    "    query_phone = \"SELECT * FROM telecom.phone\"\n",
    "    \n",
    "    contract_df = pd.read_sql(query_contract, engine)\n",
    "    personal_df = pd.read_sql(query_personal, engine)\n",
    "    internet_df = pd.read_sql(query_internet, engine)\n",
    "    phone_df = pd.read_sql(query_phone, engine)"
   ]
  },
  {
   "cell_type": "code",
   "execution_count": 5,
   "metadata": {},
   "outputs": [
    {
     "data": {
      "text/html": [
       "<div>\n",
       "<style scoped>\n",
       "    .dataframe tbody tr th:only-of-type {\n",
       "        vertical-align: middle;\n",
       "    }\n",
       "\n",
       "    .dataframe tbody tr th {\n",
       "        vertical-align: top;\n",
       "    }\n",
       "\n",
       "    .dataframe thead th {\n",
       "        text-align: right;\n",
       "    }\n",
       "</style>\n",
       "<table border=\"1\" class=\"dataframe\">\n",
       "  <thead>\n",
       "    <tr style=\"text-align: right;\">\n",
       "      <th></th>\n",
       "      <th>customerID</th>\n",
       "      <th>BeginDate</th>\n",
       "      <th>EndDate</th>\n",
       "      <th>Type</th>\n",
       "      <th>PaperlessBilling</th>\n",
       "      <th>PaymentMethod</th>\n",
       "      <th>MonthlyCharges</th>\n",
       "      <th>TotalCharges</th>\n",
       "    </tr>\n",
       "  </thead>\n",
       "  <tbody>\n",
       "    <tr>\n",
       "      <th>0</th>\n",
       "      <td>4472-LVYGI</td>\n",
       "      <td>2020-02-01</td>\n",
       "      <td>None</td>\n",
       "      <td>Two year</td>\n",
       "      <td>Yes</td>\n",
       "      <td>Bank transfer (automatic)</td>\n",
       "      <td>52.55</td>\n",
       "      <td>NaN</td>\n",
       "    </tr>\n",
       "    <tr>\n",
       "      <th>1</th>\n",
       "      <td>3115-CZMZD</td>\n",
       "      <td>2020-02-01</td>\n",
       "      <td>None</td>\n",
       "      <td>Two year</td>\n",
       "      <td>No</td>\n",
       "      <td>Mailed check</td>\n",
       "      <td>20.25</td>\n",
       "      <td>NaN</td>\n",
       "    </tr>\n",
       "    <tr>\n",
       "      <th>2</th>\n",
       "      <td>3668-QPYBK</td>\n",
       "      <td>2018-08-09</td>\n",
       "      <td>2019-12-01</td>\n",
       "      <td>Month-to-month</td>\n",
       "      <td>Yes</td>\n",
       "      <td>Mailed check</td>\n",
       "      <td>53.85</td>\n",
       "      <td>108.15</td>\n",
       "    </tr>\n",
       "    <tr>\n",
       "      <th>3</th>\n",
       "      <td>5709-LVOEQ</td>\n",
       "      <td>2020-02-01</td>\n",
       "      <td>None</td>\n",
       "      <td>Two year</td>\n",
       "      <td>No</td>\n",
       "      <td>Mailed check</td>\n",
       "      <td>80.85</td>\n",
       "      <td>NaN</td>\n",
       "    </tr>\n",
       "    <tr>\n",
       "      <th>4</th>\n",
       "      <td>9237-HQITU</td>\n",
       "      <td>2019-01-26</td>\n",
       "      <td>2019-11-01</td>\n",
       "      <td>Month-to-month</td>\n",
       "      <td>Yes</td>\n",
       "      <td>Electronic check</td>\n",
       "      <td>70.70</td>\n",
       "      <td>151.65</td>\n",
       "    </tr>\n",
       "  </tbody>\n",
       "</table>\n",
       "</div>"
      ],
      "text/plain": [
       "   customerID   BeginDate     EndDate            Type PaperlessBilling  \\\n",
       "0  4472-LVYGI  2020-02-01        None        Two year              Yes   \n",
       "1  3115-CZMZD  2020-02-01        None        Two year               No   \n",
       "2  3668-QPYBK  2018-08-09  2019-12-01  Month-to-month              Yes   \n",
       "3  5709-LVOEQ  2020-02-01        None        Two year               No   \n",
       "4  9237-HQITU  2019-01-26  2019-11-01  Month-to-month              Yes   \n",
       "\n",
       "               PaymentMethod  MonthlyCharges  TotalCharges  \n",
       "0  Bank transfer (automatic)           52.55           NaN  \n",
       "1               Mailed check           20.25           NaN  \n",
       "2               Mailed check           53.85        108.15  \n",
       "3               Mailed check           80.85           NaN  \n",
       "4           Electronic check           70.70        151.65  "
      ]
     },
     "execution_count": 5,
     "metadata": {},
     "output_type": "execute_result"
    }
   ],
   "source": [
    "contract_df.head()"
   ]
  },
  {
   "cell_type": "code",
   "execution_count": 6,
   "metadata": {
    "scrolled": true
   },
   "outputs": [
    {
     "name": "stdout",
     "output_type": "stream",
     "text": [
      "<class 'pandas.core.frame.DataFrame'>\n",
      "RangeIndex: 7043 entries, 0 to 7042\n",
      "Data columns (total 8 columns):\n",
      " #   Column            Non-Null Count  Dtype  \n",
      "---  ------            --------------  -----  \n",
      " 0   customerID        7043 non-null   object \n",
      " 1   BeginDate         7043 non-null   object \n",
      " 2   EndDate           1869 non-null   object \n",
      " 3   Type              7043 non-null   object \n",
      " 4   PaperlessBilling  7043 non-null   object \n",
      " 5   PaymentMethod     7043 non-null   object \n",
      " 6   MonthlyCharges    7043 non-null   float64\n",
      " 7   TotalCharges      7032 non-null   float64\n",
      "dtypes: float64(2), object(6)\n",
      "memory usage: 440.3+ KB\n"
     ]
    }
   ],
   "source": [
    "contract_df.info()"
   ]
  },
  {
   "cell_type": "code",
   "execution_count": 7,
   "metadata": {},
   "outputs": [
    {
     "data": {
      "text/html": [
       "<div>\n",
       "<style scoped>\n",
       "    .dataframe tbody tr th:only-of-type {\n",
       "        vertical-align: middle;\n",
       "    }\n",
       "\n",
       "    .dataframe tbody tr th {\n",
       "        vertical-align: top;\n",
       "    }\n",
       "\n",
       "    .dataframe thead th {\n",
       "        text-align: right;\n",
       "    }\n",
       "</style>\n",
       "<table border=\"1\" class=\"dataframe\">\n",
       "  <thead>\n",
       "    <tr style=\"text-align: right;\">\n",
       "      <th></th>\n",
       "      <th>customerID</th>\n",
       "      <th>gender</th>\n",
       "      <th>SeniorCitizen</th>\n",
       "      <th>Partner</th>\n",
       "      <th>Dependents</th>\n",
       "    </tr>\n",
       "  </thead>\n",
       "  <tbody>\n",
       "    <tr>\n",
       "      <th>0</th>\n",
       "      <td>7590-VHVEG</td>\n",
       "      <td>Female</td>\n",
       "      <td>0</td>\n",
       "      <td>Yes</td>\n",
       "      <td>No</td>\n",
       "    </tr>\n",
       "    <tr>\n",
       "      <th>1</th>\n",
       "      <td>5575-GNVDE</td>\n",
       "      <td>Male</td>\n",
       "      <td>0</td>\n",
       "      <td>No</td>\n",
       "      <td>No</td>\n",
       "    </tr>\n",
       "    <tr>\n",
       "      <th>2</th>\n",
       "      <td>3668-QPYBK</td>\n",
       "      <td>Male</td>\n",
       "      <td>0</td>\n",
       "      <td>No</td>\n",
       "      <td>No</td>\n",
       "    </tr>\n",
       "    <tr>\n",
       "      <th>3</th>\n",
       "      <td>7795-CFOCW</td>\n",
       "      <td>Male</td>\n",
       "      <td>0</td>\n",
       "      <td>No</td>\n",
       "      <td>No</td>\n",
       "    </tr>\n",
       "    <tr>\n",
       "      <th>4</th>\n",
       "      <td>9237-HQITU</td>\n",
       "      <td>Female</td>\n",
       "      <td>0</td>\n",
       "      <td>No</td>\n",
       "      <td>No</td>\n",
       "    </tr>\n",
       "  </tbody>\n",
       "</table>\n",
       "</div>"
      ],
      "text/plain": [
       "   customerID  gender  SeniorCitizen Partner Dependents\n",
       "0  7590-VHVEG  Female              0     Yes         No\n",
       "1  5575-GNVDE    Male              0      No         No\n",
       "2  3668-QPYBK    Male              0      No         No\n",
       "3  7795-CFOCW    Male              0      No         No\n",
       "4  9237-HQITU  Female              0      No         No"
      ]
     },
     "execution_count": 7,
     "metadata": {},
     "output_type": "execute_result"
    }
   ],
   "source": [
    "personal_df.head()"
   ]
  },
  {
   "cell_type": "code",
   "execution_count": 8,
   "metadata": {},
   "outputs": [
    {
     "name": "stdout",
     "output_type": "stream",
     "text": [
      "<class 'pandas.core.frame.DataFrame'>\n",
      "RangeIndex: 7043 entries, 0 to 7042\n",
      "Data columns (total 5 columns):\n",
      " #   Column         Non-Null Count  Dtype \n",
      "---  ------         --------------  ----- \n",
      " 0   customerID     7043 non-null   object\n",
      " 1   gender         7043 non-null   object\n",
      " 2   SeniorCitizen  7043 non-null   int64 \n",
      " 3   Partner        7043 non-null   object\n",
      " 4   Dependents     7043 non-null   object\n",
      "dtypes: int64(1), object(4)\n",
      "memory usage: 275.2+ KB\n"
     ]
    }
   ],
   "source": [
    "personal_df.info()"
   ]
  },
  {
   "cell_type": "code",
   "execution_count": 9,
   "metadata": {
    "scrolled": true
   },
   "outputs": [
    {
     "data": {
      "text/html": [
       "<div>\n",
       "<style scoped>\n",
       "    .dataframe tbody tr th:only-of-type {\n",
       "        vertical-align: middle;\n",
       "    }\n",
       "\n",
       "    .dataframe tbody tr th {\n",
       "        vertical-align: top;\n",
       "    }\n",
       "\n",
       "    .dataframe thead th {\n",
       "        text-align: right;\n",
       "    }\n",
       "</style>\n",
       "<table border=\"1\" class=\"dataframe\">\n",
       "  <thead>\n",
       "    <tr style=\"text-align: right;\">\n",
       "      <th></th>\n",
       "      <th>c1</th>\n",
       "      <th>c2</th>\n",
       "      <th>c3</th>\n",
       "      <th>c4</th>\n",
       "      <th>c5</th>\n",
       "      <th>c6</th>\n",
       "      <th>c7</th>\n",
       "      <th>c8</th>\n",
       "    </tr>\n",
       "  </thead>\n",
       "  <tbody>\n",
       "    <tr>\n",
       "      <th>0</th>\n",
       "      <td>customerID</td>\n",
       "      <td>InternetService</td>\n",
       "      <td>OnlineSecurity</td>\n",
       "      <td>OnlineBackup</td>\n",
       "      <td>DeviceProtection</td>\n",
       "      <td>TechSupport</td>\n",
       "      <td>StreamingTV</td>\n",
       "      <td>StreamingMovies</td>\n",
       "    </tr>\n",
       "    <tr>\n",
       "      <th>1</th>\n",
       "      <td>7590-VHVEG</td>\n",
       "      <td>DSL</td>\n",
       "      <td>No</td>\n",
       "      <td>Yes</td>\n",
       "      <td>No</td>\n",
       "      <td>No</td>\n",
       "      <td>No</td>\n",
       "      <td>No</td>\n",
       "    </tr>\n",
       "    <tr>\n",
       "      <th>2</th>\n",
       "      <td>5575-GNVDE</td>\n",
       "      <td>DSL</td>\n",
       "      <td>Yes</td>\n",
       "      <td>No</td>\n",
       "      <td>Yes</td>\n",
       "      <td>No</td>\n",
       "      <td>No</td>\n",
       "      <td>No</td>\n",
       "    </tr>\n",
       "    <tr>\n",
       "      <th>3</th>\n",
       "      <td>3668-QPYBK</td>\n",
       "      <td>DSL</td>\n",
       "      <td>Yes</td>\n",
       "      <td>Yes</td>\n",
       "      <td>No</td>\n",
       "      <td>No</td>\n",
       "      <td>No</td>\n",
       "      <td>No</td>\n",
       "    </tr>\n",
       "    <tr>\n",
       "      <th>4</th>\n",
       "      <td>7795-CFOCW</td>\n",
       "      <td>DSL</td>\n",
       "      <td>Yes</td>\n",
       "      <td>No</td>\n",
       "      <td>Yes</td>\n",
       "      <td>Yes</td>\n",
       "      <td>No</td>\n",
       "      <td>No</td>\n",
       "    </tr>\n",
       "  </tbody>\n",
       "</table>\n",
       "</div>"
      ],
      "text/plain": [
       "           c1               c2              c3            c4  \\\n",
       "0  customerID  InternetService  OnlineSecurity  OnlineBackup   \n",
       "1  7590-VHVEG              DSL              No           Yes   \n",
       "2  5575-GNVDE              DSL             Yes            No   \n",
       "3  3668-QPYBK              DSL             Yes           Yes   \n",
       "4  7795-CFOCW              DSL             Yes            No   \n",
       "\n",
       "                 c5           c6           c7               c8  \n",
       "0  DeviceProtection  TechSupport  StreamingTV  StreamingMovies  \n",
       "1                No           No           No               No  \n",
       "2               Yes           No           No               No  \n",
       "3                No           No           No               No  \n",
       "4               Yes          Yes           No               No  "
      ]
     },
     "execution_count": 9,
     "metadata": {},
     "output_type": "execute_result"
    }
   ],
   "source": [
    "internet_df.head()"
   ]
  },
  {
   "cell_type": "code",
   "execution_count": 10,
   "metadata": {},
   "outputs": [
    {
     "name": "stdout",
     "output_type": "stream",
     "text": [
      "<class 'pandas.core.frame.DataFrame'>\n",
      "RangeIndex: 5518 entries, 0 to 5517\n",
      "Data columns (total 8 columns):\n",
      " #   Column  Non-Null Count  Dtype \n",
      "---  ------  --------------  ----- \n",
      " 0   c1      5518 non-null   object\n",
      " 1   c2      5518 non-null   object\n",
      " 2   c3      5518 non-null   object\n",
      " 3   c4      5518 non-null   object\n",
      " 4   c5      5518 non-null   object\n",
      " 5   c6      5518 non-null   object\n",
      " 6   c7      5518 non-null   object\n",
      " 7   c8      5518 non-null   object\n",
      "dtypes: object(8)\n",
      "memory usage: 345.0+ KB\n"
     ]
    }
   ],
   "source": [
    "internet_df.info()"
   ]
  },
  {
   "cell_type": "code",
   "execution_count": 11,
   "metadata": {
    "scrolled": true
   },
   "outputs": [
    {
     "data": {
      "text/html": [
       "<div>\n",
       "<style scoped>\n",
       "    .dataframe tbody tr th:only-of-type {\n",
       "        vertical-align: middle;\n",
       "    }\n",
       "\n",
       "    .dataframe tbody tr th {\n",
       "        vertical-align: top;\n",
       "    }\n",
       "\n",
       "    .dataframe thead th {\n",
       "        text-align: right;\n",
       "    }\n",
       "</style>\n",
       "<table border=\"1\" class=\"dataframe\">\n",
       "  <thead>\n",
       "    <tr style=\"text-align: right;\">\n",
       "      <th></th>\n",
       "      <th>c1</th>\n",
       "      <th>c2</th>\n",
       "      <th>c3</th>\n",
       "      <th>c4</th>\n",
       "      <th>c5</th>\n",
       "      <th>c6</th>\n",
       "      <th>c7</th>\n",
       "      <th>c8</th>\n",
       "    </tr>\n",
       "  </thead>\n",
       "  <tbody>\n",
       "    <tr>\n",
       "      <th>0</th>\n",
       "      <td>customerID</td>\n",
       "      <td>InternetService</td>\n",
       "      <td>OnlineSecurity</td>\n",
       "      <td>OnlineBackup</td>\n",
       "      <td>DeviceProtection</td>\n",
       "      <td>TechSupport</td>\n",
       "      <td>StreamingTV</td>\n",
       "      <td>StreamingMovies</td>\n",
       "    </tr>\n",
       "    <tr>\n",
       "      <th>1</th>\n",
       "      <td>7590-VHVEG</td>\n",
       "      <td>DSL</td>\n",
       "      <td>No</td>\n",
       "      <td>Yes</td>\n",
       "      <td>No</td>\n",
       "      <td>No</td>\n",
       "      <td>No</td>\n",
       "      <td>No</td>\n",
       "    </tr>\n",
       "    <tr>\n",
       "      <th>2</th>\n",
       "      <td>5575-GNVDE</td>\n",
       "      <td>DSL</td>\n",
       "      <td>Yes</td>\n",
       "      <td>No</td>\n",
       "      <td>Yes</td>\n",
       "      <td>No</td>\n",
       "      <td>No</td>\n",
       "      <td>No</td>\n",
       "    </tr>\n",
       "    <tr>\n",
       "      <th>3</th>\n",
       "      <td>3668-QPYBK</td>\n",
       "      <td>DSL</td>\n",
       "      <td>Yes</td>\n",
       "      <td>Yes</td>\n",
       "      <td>No</td>\n",
       "      <td>No</td>\n",
       "      <td>No</td>\n",
       "      <td>No</td>\n",
       "    </tr>\n",
       "    <tr>\n",
       "      <th>4</th>\n",
       "      <td>7795-CFOCW</td>\n",
       "      <td>DSL</td>\n",
       "      <td>Yes</td>\n",
       "      <td>No</td>\n",
       "      <td>Yes</td>\n",
       "      <td>Yes</td>\n",
       "      <td>No</td>\n",
       "      <td>No</td>\n",
       "    </tr>\n",
       "  </tbody>\n",
       "</table>\n",
       "</div>"
      ],
      "text/plain": [
       "           c1               c2              c3            c4  \\\n",
       "0  customerID  InternetService  OnlineSecurity  OnlineBackup   \n",
       "1  7590-VHVEG              DSL              No           Yes   \n",
       "2  5575-GNVDE              DSL             Yes            No   \n",
       "3  3668-QPYBK              DSL             Yes           Yes   \n",
       "4  7795-CFOCW              DSL             Yes            No   \n",
       "\n",
       "                 c5           c6           c7               c8  \n",
       "0  DeviceProtection  TechSupport  StreamingTV  StreamingMovies  \n",
       "1                No           No           No               No  \n",
       "2               Yes           No           No               No  \n",
       "3                No           No           No               No  \n",
       "4               Yes          Yes           No               No  "
      ]
     },
     "execution_count": 11,
     "metadata": {},
     "output_type": "execute_result"
    }
   ],
   "source": [
    "internet_df.head()"
   ]
  },
  {
   "cell_type": "code",
   "execution_count": 12,
   "metadata": {},
   "outputs": [
    {
     "name": "stdout",
     "output_type": "stream",
     "text": [
      "<class 'pandas.core.frame.DataFrame'>\n",
      "RangeIndex: 5518 entries, 0 to 5517\n",
      "Data columns (total 8 columns):\n",
      " #   Column  Non-Null Count  Dtype \n",
      "---  ------  --------------  ----- \n",
      " 0   c1      5518 non-null   object\n",
      " 1   c2      5518 non-null   object\n",
      " 2   c3      5518 non-null   object\n",
      " 3   c4      5518 non-null   object\n",
      " 4   c5      5518 non-null   object\n",
      " 5   c6      5518 non-null   object\n",
      " 6   c7      5518 non-null   object\n",
      " 7   c8      5518 non-null   object\n",
      "dtypes: object(8)\n",
      "memory usage: 345.0+ KB\n"
     ]
    }
   ],
   "source": [
    "internet_df.info()"
   ]
  },
  {
   "cell_type": "code",
   "execution_count": 13,
   "metadata": {},
   "outputs": [
    {
     "data": {
      "text/html": [
       "<div>\n",
       "<style scoped>\n",
       "    .dataframe tbody tr th:only-of-type {\n",
       "        vertical-align: middle;\n",
       "    }\n",
       "\n",
       "    .dataframe tbody tr th {\n",
       "        vertical-align: top;\n",
       "    }\n",
       "\n",
       "    .dataframe thead th {\n",
       "        text-align: right;\n",
       "    }\n",
       "</style>\n",
       "<table border=\"1\" class=\"dataframe\">\n",
       "  <thead>\n",
       "    <tr style=\"text-align: right;\">\n",
       "      <th></th>\n",
       "      <th>c1</th>\n",
       "      <th>c2</th>\n",
       "    </tr>\n",
       "  </thead>\n",
       "  <tbody>\n",
       "    <tr>\n",
       "      <th>0</th>\n",
       "      <td>customerID</td>\n",
       "      <td>MultipleLines</td>\n",
       "    </tr>\n",
       "    <tr>\n",
       "      <th>1</th>\n",
       "      <td>5575-GNVDE</td>\n",
       "      <td>No</td>\n",
       "    </tr>\n",
       "    <tr>\n",
       "      <th>2</th>\n",
       "      <td>3668-QPYBK</td>\n",
       "      <td>No</td>\n",
       "    </tr>\n",
       "    <tr>\n",
       "      <th>3</th>\n",
       "      <td>9237-HQITU</td>\n",
       "      <td>No</td>\n",
       "    </tr>\n",
       "    <tr>\n",
       "      <th>4</th>\n",
       "      <td>9305-CDSKC</td>\n",
       "      <td>Yes</td>\n",
       "    </tr>\n",
       "  </tbody>\n",
       "</table>\n",
       "</div>"
      ],
      "text/plain": [
       "           c1             c2\n",
       "0  customerID  MultipleLines\n",
       "1  5575-GNVDE             No\n",
       "2  3668-QPYBK             No\n",
       "3  9237-HQITU             No\n",
       "4  9305-CDSKC            Yes"
      ]
     },
     "execution_count": 13,
     "metadata": {},
     "output_type": "execute_result"
    }
   ],
   "source": [
    "phone_df.head()"
   ]
  },
  {
   "cell_type": "code",
   "execution_count": 14,
   "metadata": {
    "scrolled": true
   },
   "outputs": [
    {
     "name": "stdout",
     "output_type": "stream",
     "text": [
      "<class 'pandas.core.frame.DataFrame'>\n",
      "RangeIndex: 6362 entries, 0 to 6361\n",
      "Data columns (total 2 columns):\n",
      " #   Column  Non-Null Count  Dtype \n",
      "---  ------  --------------  ----- \n",
      " 0   c1      6362 non-null   object\n",
      " 1   c2      6362 non-null   object\n",
      "dtypes: object(2)\n",
      "memory usage: 99.5+ KB\n"
     ]
    }
   ],
   "source": [
    "phone_df.info()"
   ]
  },
  {
   "cell_type": "markdown",
   "metadata": {},
   "source": [
    "Считали данные\n",
    "4 таблицы, во всех таблицах надо изменить название столбца 'customerID' на 'CustomerID'\n",
    "`contract_df` в столбце EndDate заменить пропуски на `01.02.2020`, перевести в в формат даты, как и  `BeginDate` , но до этого из `contract_df` вытянуть данные с значением , none, поскольку это целевой признак\n"
   ]
  },
  {
   "cell_type": "markdown",
   "metadata": {},
   "source": [
    "## Предобработка данных"
   ]
  },
  {
   "cell_type": "markdown",
   "metadata": {},
   "source": [
    "Создадим новый столбец с целевым признаком `Target` Если человек перестал пользоваться услугами то укажем `1`, если полузуется то `0`"
   ]
  },
  {
   "cell_type": "code",
   "execution_count": 15,
   "metadata": {},
   "outputs": [],
   "source": [
    "contract_df['Target'] = contract_df['EndDate'].apply(lambda x: 0 if x is None else 1)"
   ]
  },
  {
   "cell_type": "markdown",
   "metadata": {},
   "source": [
    "Удаляем пустые строки в столбце `TotalCharges`, их там всего 11, думаю это не сильно повлияет на результат"
   ]
  },
  {
   "cell_type": "code",
   "execution_count": 16,
   "metadata": {},
   "outputs": [],
   "source": [
    "contract_df = contract_df.dropna(subset=['TotalCharges'])"
   ]
  },
  {
   "cell_type": "markdown",
   "metadata": {},
   "source": [
    "Заменим пропуски с столбце `EndDate` на на 1 февраля 2020."
   ]
  },
  {
   "cell_type": "code",
   "execution_count": 17,
   "metadata": {},
   "outputs": [],
   "source": [
    "contract_df['EndDate'].fillna('01-02-2020', inplace=True)"
   ]
  },
  {
   "cell_type": "markdown",
   "metadata": {},
   "source": [
    "изменим тип данных в столбцах которые несут дату"
   ]
  },
  {
   "cell_type": "code",
   "execution_count": 18,
   "metadata": {},
   "outputs": [],
   "source": [
    "contract_df['EndDate'] = pd.to_datetime(contract_df['EndDate'])\n",
    "contract_df['BeginDate'] = pd.to_datetime(contract_df['BeginDate'])"
   ]
  },
  {
   "cell_type": "markdown",
   "metadata": {},
   "source": [
    "Создадим столбец с далительностю пользования услугами, думаюю это интересный столбец "
   ]
  },
  {
   "cell_type": "code",
   "execution_count": 19,
   "metadata": {},
   "outputs": [],
   "source": [
    "contract_df['Used'] = (contract_df['EndDate'] - contract_df['BeginDate']).dt.days"
   ]
  },
  {
   "cell_type": "code",
   "execution_count": 20,
   "metadata": {},
   "outputs": [],
   "source": [
    "contract_df['Used'] = contract_df['Used'].apply(lambda x: max(x, 0))"
   ]
  },
  {
   "cell_type": "markdown",
   "metadata": {},
   "source": [
    "В таблицах phone_df и internet_df попроваим названия столбцов"
   ]
  },
  {
   "cell_type": "code",
   "execution_count": 21,
   "metadata": {},
   "outputs": [],
   "source": [
    "new_columns = internet_df.iloc[0]\n",
    "internet_df.columns = new_columns\n",
    "internet_df = internet_df[1:]"
   ]
  },
  {
   "cell_type": "code",
   "execution_count": 22,
   "metadata": {},
   "outputs": [],
   "source": [
    "new_columns_phone = phone_df.iloc[0]\n",
    "phone_df.columns = new_columns_phone\n",
    "phone_df = phone_df[1:]"
   ]
  },
  {
   "cell_type": "markdown",
   "metadata": {},
   "source": [
    "Приведем customerID вов сех таблицах к стандартному виду\n"
   ]
  },
  {
   "cell_type": "code",
   "execution_count": 23,
   "metadata": {},
   "outputs": [],
   "source": [
    "contract_df.rename(columns={'customerID': 'CustomerID'}, inplace=True)\n",
    "personal_df.rename(columns={'customerID': 'CustomerID'}, inplace=True)\n",
    "internet_df.rename(columns={'customerID': 'CustomerID'}, inplace=True)\n",
    "phone_df.rename(columns={'customerID': 'CustomerID'}, inplace=True)"
   ]
  },
  {
   "cell_type": "markdown",
   "metadata": {},
   "source": [
    "Соеденим все в одну таблицу"
   ]
  },
  {
   "cell_type": "code",
   "execution_count": 24,
   "metadata": {},
   "outputs": [],
   "source": [
    "df = contract_df.merge(personal_df, on='CustomerID', how='left')\n",
    "df = df.merge(internet_df, on='CustomerID', how='left')\n",
    "df = df.merge(phone_df, on='CustomerID', how='left')"
   ]
  },
  {
   "cell_type": "markdown",
   "metadata": {},
   "source": [
    "Еще не много подчистим пропуска"
   ]
  },
  {
   "cell_type": "code",
   "execution_count": 25,
   "metadata": {},
   "outputs": [
    {
     "data": {
      "text/plain": [
       "array(['No', 'Yes', nan], dtype=object)"
      ]
     },
     "execution_count": 25,
     "metadata": {},
     "output_type": "execute_result"
    }
   ],
   "source": [
    "df['MultipleLines'].unique()"
   ]
  },
  {
   "cell_type": "code",
   "execution_count": 26,
   "metadata": {},
   "outputs": [],
   "source": [
    "df.fillna('No', inplace=True)"
   ]
  },
  {
   "cell_type": "code",
   "execution_count": 27,
   "metadata": {},
   "outputs": [],
   "source": [
    "df.replace({'Yes': 1, 'No': 0}, inplace=True)"
   ]
  },
  {
   "cell_type": "code",
   "execution_count": 28,
   "metadata": {
    "scrolled": false
   },
   "outputs": [
    {
     "name": "stdout",
     "output_type": "stream",
     "text": [
      "<class 'pandas.core.frame.DataFrame'>\n",
      "Int64Index: 7032 entries, 0 to 7031\n",
      "Data columns (total 22 columns):\n",
      " #   Column            Non-Null Count  Dtype         \n",
      "---  ------            --------------  -----         \n",
      " 0   CustomerID        7032 non-null   object        \n",
      " 1   BeginDate         7032 non-null   datetime64[ns]\n",
      " 2   EndDate           7032 non-null   datetime64[ns]\n",
      " 3   Type              7032 non-null   object        \n",
      " 4   PaperlessBilling  7032 non-null   int64         \n",
      " 5   PaymentMethod     7032 non-null   object        \n",
      " 6   MonthlyCharges    7032 non-null   float64       \n",
      " 7   TotalCharges      7032 non-null   float64       \n",
      " 8   Target            7032 non-null   int64         \n",
      " 9   Used              7032 non-null   int64         \n",
      " 10  gender            7032 non-null   object        \n",
      " 11  SeniorCitizen     7032 non-null   int64         \n",
      " 12  Partner           7032 non-null   int64         \n",
      " 13  Dependents        7032 non-null   int64         \n",
      " 14  InternetService   7032 non-null   object        \n",
      " 15  OnlineSecurity    7032 non-null   int64         \n",
      " 16  OnlineBackup      7032 non-null   int64         \n",
      " 17  DeviceProtection  7032 non-null   int64         \n",
      " 18  TechSupport       7032 non-null   int64         \n",
      " 19  StreamingTV       7032 non-null   int64         \n",
      " 20  StreamingMovies   7032 non-null   int64         \n",
      " 21  MultipleLines     7032 non-null   int64         \n",
      "dtypes: datetime64[ns](2), float64(2), int64(13), object(5)\n",
      "memory usage: 1.2+ MB\n"
     ]
    }
   ],
   "source": [
    "df.info()"
   ]
  },
  {
   "cell_type": "code",
   "execution_count": 29,
   "metadata": {
    "scrolled": false
   },
   "outputs": [
    {
     "data": {
      "text/html": [
       "<div>\n",
       "<style scoped>\n",
       "    .dataframe tbody tr th:only-of-type {\n",
       "        vertical-align: middle;\n",
       "    }\n",
       "\n",
       "    .dataframe tbody tr th {\n",
       "        vertical-align: top;\n",
       "    }\n",
       "\n",
       "    .dataframe thead th {\n",
       "        text-align: right;\n",
       "    }\n",
       "</style>\n",
       "<table border=\"1\" class=\"dataframe\">\n",
       "  <thead>\n",
       "    <tr style=\"text-align: right;\">\n",
       "      <th></th>\n",
       "      <th>CustomerID</th>\n",
       "      <th>BeginDate</th>\n",
       "      <th>EndDate</th>\n",
       "      <th>Type</th>\n",
       "      <th>PaperlessBilling</th>\n",
       "      <th>PaymentMethod</th>\n",
       "      <th>MonthlyCharges</th>\n",
       "      <th>TotalCharges</th>\n",
       "      <th>Target</th>\n",
       "      <th>Used</th>\n",
       "      <th>...</th>\n",
       "      <th>Partner</th>\n",
       "      <th>Dependents</th>\n",
       "      <th>InternetService</th>\n",
       "      <th>OnlineSecurity</th>\n",
       "      <th>OnlineBackup</th>\n",
       "      <th>DeviceProtection</th>\n",
       "      <th>TechSupport</th>\n",
       "      <th>StreamingTV</th>\n",
       "      <th>StreamingMovies</th>\n",
       "      <th>MultipleLines</th>\n",
       "    </tr>\n",
       "  </thead>\n",
       "  <tbody>\n",
       "    <tr>\n",
       "      <th>0</th>\n",
       "      <td>3668-QPYBK</td>\n",
       "      <td>2018-08-09</td>\n",
       "      <td>2019-12-01</td>\n",
       "      <td>Month-to-month</td>\n",
       "      <td>1</td>\n",
       "      <td>Mailed check</td>\n",
       "      <td>53.85</td>\n",
       "      <td>108.15</td>\n",
       "      <td>1</td>\n",
       "      <td>479</td>\n",
       "      <td>...</td>\n",
       "      <td>0</td>\n",
       "      <td>0</td>\n",
       "      <td>DSL</td>\n",
       "      <td>1</td>\n",
       "      <td>1</td>\n",
       "      <td>0</td>\n",
       "      <td>0</td>\n",
       "      <td>0</td>\n",
       "      <td>0</td>\n",
       "      <td>0</td>\n",
       "    </tr>\n",
       "    <tr>\n",
       "      <th>1</th>\n",
       "      <td>9237-HQITU</td>\n",
       "      <td>2019-01-26</td>\n",
       "      <td>2019-11-01</td>\n",
       "      <td>Month-to-month</td>\n",
       "      <td>1</td>\n",
       "      <td>Electronic check</td>\n",
       "      <td>70.70</td>\n",
       "      <td>151.65</td>\n",
       "      <td>1</td>\n",
       "      <td>279</td>\n",
       "      <td>...</td>\n",
       "      <td>0</td>\n",
       "      <td>0</td>\n",
       "      <td>Fiber optic</td>\n",
       "      <td>0</td>\n",
       "      <td>0</td>\n",
       "      <td>0</td>\n",
       "      <td>0</td>\n",
       "      <td>0</td>\n",
       "      <td>0</td>\n",
       "      <td>0</td>\n",
       "    </tr>\n",
       "    <tr>\n",
       "      <th>2</th>\n",
       "      <td>9305-CDSKC</td>\n",
       "      <td>2018-12-26</td>\n",
       "      <td>2019-11-01</td>\n",
       "      <td>Month-to-month</td>\n",
       "      <td>1</td>\n",
       "      <td>Electronic check</td>\n",
       "      <td>99.65</td>\n",
       "      <td>820.50</td>\n",
       "      <td>1</td>\n",
       "      <td>310</td>\n",
       "      <td>...</td>\n",
       "      <td>0</td>\n",
       "      <td>0</td>\n",
       "      <td>Fiber optic</td>\n",
       "      <td>0</td>\n",
       "      <td>0</td>\n",
       "      <td>1</td>\n",
       "      <td>0</td>\n",
       "      <td>1</td>\n",
       "      <td>1</td>\n",
       "      <td>1</td>\n",
       "    </tr>\n",
       "    <tr>\n",
       "      <th>3</th>\n",
       "      <td>7892-POOKP</td>\n",
       "      <td>2019-04-27</td>\n",
       "      <td>2019-11-01</td>\n",
       "      <td>Month-to-month</td>\n",
       "      <td>1</td>\n",
       "      <td>Electronic check</td>\n",
       "      <td>104.80</td>\n",
       "      <td>3046.05</td>\n",
       "      <td>1</td>\n",
       "      <td>188</td>\n",
       "      <td>...</td>\n",
       "      <td>1</td>\n",
       "      <td>0</td>\n",
       "      <td>Fiber optic</td>\n",
       "      <td>0</td>\n",
       "      <td>0</td>\n",
       "      <td>1</td>\n",
       "      <td>1</td>\n",
       "      <td>1</td>\n",
       "      <td>1</td>\n",
       "      <td>1</td>\n",
       "    </tr>\n",
       "    <tr>\n",
       "      <th>4</th>\n",
       "      <td>0280-XJGEX</td>\n",
       "      <td>2018-11-13</td>\n",
       "      <td>2019-10-01</td>\n",
       "      <td>Month-to-month</td>\n",
       "      <td>1</td>\n",
       "      <td>Bank transfer (automatic)</td>\n",
       "      <td>103.70</td>\n",
       "      <td>5036.30</td>\n",
       "      <td>1</td>\n",
       "      <td>322</td>\n",
       "      <td>...</td>\n",
       "      <td>0</td>\n",
       "      <td>0</td>\n",
       "      <td>Fiber optic</td>\n",
       "      <td>0</td>\n",
       "      <td>1</td>\n",
       "      <td>1</td>\n",
       "      <td>0</td>\n",
       "      <td>1</td>\n",
       "      <td>1</td>\n",
       "      <td>1</td>\n",
       "    </tr>\n",
       "  </tbody>\n",
       "</table>\n",
       "<p>5 rows × 22 columns</p>\n",
       "</div>"
      ],
      "text/plain": [
       "   CustomerID  BeginDate    EndDate            Type  PaperlessBilling  \\\n",
       "0  3668-QPYBK 2018-08-09 2019-12-01  Month-to-month                 1   \n",
       "1  9237-HQITU 2019-01-26 2019-11-01  Month-to-month                 1   \n",
       "2  9305-CDSKC 2018-12-26 2019-11-01  Month-to-month                 1   \n",
       "3  7892-POOKP 2019-04-27 2019-11-01  Month-to-month                 1   \n",
       "4  0280-XJGEX 2018-11-13 2019-10-01  Month-to-month                 1   \n",
       "\n",
       "               PaymentMethod  MonthlyCharges  TotalCharges  Target  Used  ...  \\\n",
       "0               Mailed check           53.85        108.15       1   479  ...   \n",
       "1           Electronic check           70.70        151.65       1   279  ...   \n",
       "2           Electronic check           99.65        820.50       1   310  ...   \n",
       "3           Electronic check          104.80       3046.05       1   188  ...   \n",
       "4  Bank transfer (automatic)          103.70       5036.30       1   322  ...   \n",
       "\n",
       "  Partner  Dependents  InternetService  OnlineSecurity OnlineBackup  \\\n",
       "0       0           0              DSL               1            1   \n",
       "1       0           0      Fiber optic               0            0   \n",
       "2       0           0      Fiber optic               0            0   \n",
       "3       1           0      Fiber optic               0            0   \n",
       "4       0           0      Fiber optic               0            1   \n",
       "\n",
       "   DeviceProtection  TechSupport  StreamingTV  StreamingMovies  MultipleLines  \n",
       "0                 0            0            0                0              0  \n",
       "1                 0            0            0                0              0  \n",
       "2                 1            0            1                1              1  \n",
       "3                 1            1            1                1              1  \n",
       "4                 1            0            1                1              1  \n",
       "\n",
       "[5 rows x 22 columns]"
      ]
     },
     "execution_count": 29,
     "metadata": {},
     "output_type": "execute_result"
    }
   ],
   "source": [
    "df.head()"
   ]
  },
  {
   "cell_type": "markdown",
   "metadata": {},
   "source": [
    "### Выводы:"
   ]
  },
  {
   "cell_type": "markdown",
   "metadata": {},
   "source": [
    "1. Создали столбец таргет с целевым признаком\n",
    "2. Избавились от пропусков  \n",
    "3. Создали столбец с длительностью пользования услугами  \n",
    "4. Поравили названия столбцов  \n",
    "5. Собрали все в одну общую таблицу"
   ]
  },
  {
   "cell_type": "markdown",
   "metadata": {},
   "source": [
    "## Анализ данных"
   ]
  },
  {
   "cell_type": "markdown",
   "metadata": {},
   "source": [
    "### Построим графики, ознакомимся с зависимостями"
   ]
  },
  {
   "cell_type": "code",
   "execution_count": 30,
   "metadata": {
    "scrolled": false
   },
   "outputs": [
    {
     "data": {
      "image/png": "[encoded data removed]",
      "text/plain": [
       "<Figure size 864x576 with 2 Axes>"
      ]
     },
     "metadata": {
      "needs_background": "light"
     },
     "output_type": "display_data"
    }
   ],
   "source": [
    "numerical_features = ['MonthlyCharges', 'TotalCharges']\n",
    "df[numerical_features].hist(bins=20, figsize=(12, 8))\n",
    "plt.show()"
   ]
  },
  {
   "cell_type": "markdown",
   "metadata": {},
   "source": [
    "можно ознакомится с распределением расходов по месяцам  и общие расходы пользователей"
   ]
  },
  {
   "cell_type": "code",
   "execution_count": 31,
   "metadata": {
    "scrolled": false
   },
   "outputs": [
    {
     "data": {
      "image/png": "[encoded data removed]",
      "text/plain": [
       "<Figure size 720x432 with 1 Axes>"
      ]
     },
     "metadata": {
      "needs_background": "light"
     },
     "output_type": "display_data"
    },
    {
     "data": {
      "image/png": "[encoded data removed]",
      "text/plain": [
       "<Figure size 720x432 with 1 Axes>"
      ]
     },
     "metadata": {
      "needs_background": "light"
     },
     "output_type": "display_data"
    },
    {
     "data": {
      "image/png": "[encoded data removed]",
      "text/plain": [
       "<Figure size 720x432 with 1 Axes>"
      ]
     },
     "metadata": {
      "needs_background": "light"
     },
     "output_type": "display_data"
    },
    {
     "data": {
      "image/png": "[encoded data removed]",
      "text/plain": [
       "<Figure size 720x432 with 1 Axes>"
      ]
     },
     "metadata": {
      "needs_background": "light"
     },
     "output_type": "display_data"
    }
   ],
   "source": [
    "categorical_features = ['Type', 'PaymentMethod', 'InternetService', 'gender']\n",
    "for feature in categorical_features:\n",
    "    plt.figure(figsize=(10, 6))\n",
    "    sns.countplot(data=df, x=feature, hue='Target')\n",
    "    plt.xticks(rotation=45)\n",
    "    plt.show()"
   ]
  },
  {
   "cell_type": "markdown",
   "metadata": {},
   "source": [
    "На первом графике показано распределение типов платежа, а так же перестал ли человек пользоваться услугами  \n",
    "На втором графике тип оплаты  \n",
    "на третьем тип подключение интернета или подключен ли он вообще  \n",
    "на четвертом пол клиента"
   ]
  },
  {
   "cell_type": "code",
   "execution_count": 32,
   "metadata": {
    "scrolled": false
   },
   "outputs": [],
   "source": [
    "# num_features = ['SeniorCitizen', 'Partner', 'Dependents', 'OnlineSecurity', 'OnlineBackup', 'DeviceProtection',\n",
    "#                 'TechSupport', 'StreamingTV', 'StreamingMovies', 'MultipleLines']\n",
    "# for feature in num_features:\n",
    "#     plt.figure(figsize=(10, 6))\n",
    "#     sns.countplot(data=df, x=feature, hue='Target')\n",
    "#     plt.xticks(rotation=45)\n",
    "#     plt.show()"
   ]
  },
  {
   "cell_type": "markdown",
   "metadata": {},
   "source": [
    "Посмотрим на корреляцию признаков"
   ]
  },
  {
   "cell_type": "code",
   "execution_count": 33,
   "metadata": {},
   "outputs": [],
   "source": [
    "# correlation_matrix = df.corr()\n",
    "# plt.figure(figsize=(12, 8))\n",
    "# sns.heatmap(correlation_matrix, annot=True, cmap='coolwarm')\n",
    "# plt.show()"
   ]
  },
  {
   "cell_type": "code",
   "execution_count": 34,
   "metadata": {
    "scrolled": false
   },
   "outputs": [
    {
     "data": {
      "image/png": "[encoded data removed]",
      "text/plain": [
       "<Figure size 720x432 with 2 Axes>"
      ]
     },
     "metadata": {
      "needs_background": "light"
     },
     "output_type": "display_data"
    },
    {
     "data": {
      "image/png": "[encoded data removed]",
      "text/plain": [
       "<Figure size 720x432 with 2 Axes>"
      ]
     },
     "metadata": {
      "needs_background": "light"
     },
     "output_type": "display_data"
    },
    {
     "data": {
      "image/png": "[encoded data removed]",
      "text/plain": [
       "<Figure size 720x432 with 2 Axes>"
      ]
     },
     "metadata": {
      "needs_background": "light"
     },
     "output_type": "display_data"
    }
   ],
   "source": [
    "columns_to_check = ['MonthlyCharges', 'TotalCharges', 'Used']\n",
    "\n",
    "for column in columns_to_check:\n",
    "    plt.figure(figsize=(10, 6))\n",
    "    \n",
    "    plt.subplot(1, 2, 1)\n",
    "    plt.hist(df[column], bins=20, density=True, alpha=0.6, color='b', label='Data')\n",
    "    mu, sigma = df[column].mean(), df[column].std()\n",
    "    x = np.linspace(mu - 3*sigma, mu + 3*sigma, 100)\n",
    "    plt.plot(x, stats.norm.pdf(x, mu, sigma), color='r', label='Normal Distribution')\n",
    "    plt.title(f'Histogram and Normal Distribution for {column}')\n",
    "    plt.xlabel(column)\n",
    "    plt.ylabel('Density')\n",
    "    plt.legend()\n",
    "    \n",
    "    plt.subplot(1, 2, 2)\n",
    "    stats.probplot(df[column], plot=plt)\n",
    "    plt.title(f'Q-Q Plot for {column}')\n",
    "    \n",
    "    plt.tight_layout()\n",
    "    plt.show()\n",
    "\n"
   ]
  },
  {
   "cell_type": "code",
   "execution_count": 35,
   "metadata": {
    "scrolled": false
   },
   "outputs": [
    {
     "name": "stdout",
     "output_type": "stream",
     "text": [
      "interval columns not set, guessing: ['PaperlessBilling', 'MonthlyCharges', 'TotalCharges', 'Target', 'Used', 'SeniorCitizen', 'Partner', 'Dependents', 'OnlineSecurity', 'OnlineBackup', 'DeviceProtection', 'TechSupport', 'StreamingTV', 'StreamingMovies', 'MultipleLines']\n"
     ]
    },
    {
     "name": "stderr",
     "output_type": "stream",
     "text": [
      "/opt/conda/lib/python3.9/site-packages/phik/data_quality.py:59: UserWarning: The number of unique values of variable CustomerID is large: 7032. Are you sure this is not an interval variable? Analysis for pairs of variables including CustomerID can be slow.\n",
      "  warnings.warn(\n",
      "/opt/conda/lib/python3.9/site-packages/phik/bivariate.py:241: UserWarning: Many cells: 3614448. Are interval variables set correctly?\n",
      "  warnings.warn(\n"
     ]
    },
    {
     "data": {
      "image/png": "[encoded data removed]",
      "text/plain": [
       "<Figure size 1440x1080 with 2 Axes>"
      ]
     },
     "metadata": {
      "needs_background": "light"
     },
     "output_type": "display_data"
    }
   ],
   "source": [
    "correlation_matrix_phik = df.phik_matrix()\n",
    "\n",
    "# Построение тепловой карты для корреляции phik\n",
    "plt.figure(figsize=(20, 15))\n",
    "sns.heatmap(correlation_matrix_phik, annot=True, cmap='coolwarm')\n",
    "plt.title(\"Phik Correlation Heatmap\")\n",
    "plt.show()"
   ]
  },
  {
   "cell_type": "markdown",
   "metadata": {},
   "source": [
    "Видна сильная зависимость суммы оплаты от подключеных  услуг"
   ]
  },
  {
   "cell_type": "code",
   "execution_count": 36,
   "metadata": {
    "scrolled": false
   },
   "outputs": [
    {
     "data": {
      "text/html": [
       "<div>\n",
       "<style scoped>\n",
       "    .dataframe tbody tr th:only-of-type {\n",
       "        vertical-align: middle;\n",
       "    }\n",
       "\n",
       "    .dataframe tbody tr th {\n",
       "        vertical-align: top;\n",
       "    }\n",
       "\n",
       "    .dataframe thead th {\n",
       "        text-align: right;\n",
       "    }\n",
       "</style>\n",
       "<table border=\"1\" class=\"dataframe\">\n",
       "  <thead>\n",
       "    <tr style=\"text-align: right;\">\n",
       "      <th></th>\n",
       "      <th>PaperlessBilling</th>\n",
       "      <th>MonthlyCharges</th>\n",
       "      <th>TotalCharges</th>\n",
       "      <th>Target</th>\n",
       "      <th>Used</th>\n",
       "      <th>SeniorCitizen</th>\n",
       "      <th>Partner</th>\n",
       "      <th>Dependents</th>\n",
       "      <th>OnlineSecurity</th>\n",
       "      <th>OnlineBackup</th>\n",
       "      <th>DeviceProtection</th>\n",
       "      <th>TechSupport</th>\n",
       "      <th>StreamingTV</th>\n",
       "      <th>StreamingMovies</th>\n",
       "      <th>MultipleLines</th>\n",
       "    </tr>\n",
       "  </thead>\n",
       "  <tbody>\n",
       "    <tr>\n",
       "      <th>count</th>\n",
       "      <td>7032.000000</td>\n",
       "      <td>7032.000000</td>\n",
       "      <td>7032.000000</td>\n",
       "      <td>7032.000000</td>\n",
       "      <td>7032.000000</td>\n",
       "      <td>7032.000000</td>\n",
       "      <td>7032.000000</td>\n",
       "      <td>7032.000000</td>\n",
       "      <td>7032.000000</td>\n",
       "      <td>7032.000000</td>\n",
       "      <td>7032.000000</td>\n",
       "      <td>7032.000000</td>\n",
       "      <td>7032.000000</td>\n",
       "      <td>7032.000000</td>\n",
       "      <td>7032.000000</td>\n",
       "    </tr>\n",
       "    <tr>\n",
       "      <th>mean</th>\n",
       "      <td>0.592719</td>\n",
       "      <td>64.798208</td>\n",
       "      <td>2283.300441</td>\n",
       "      <td>0.265785</td>\n",
       "      <td>275.821815</td>\n",
       "      <td>0.162400</td>\n",
       "      <td>0.482509</td>\n",
       "      <td>0.298493</td>\n",
       "      <td>0.286547</td>\n",
       "      <td>0.344852</td>\n",
       "      <td>0.343857</td>\n",
       "      <td>0.290102</td>\n",
       "      <td>0.384386</td>\n",
       "      <td>0.388367</td>\n",
       "      <td>0.421928</td>\n",
       "    </tr>\n",
       "    <tr>\n",
       "      <th>std</th>\n",
       "      <td>0.491363</td>\n",
       "      <td>30.085974</td>\n",
       "      <td>2266.771362</td>\n",
       "      <td>0.441782</td>\n",
       "      <td>84.341784</td>\n",
       "      <td>0.368844</td>\n",
       "      <td>0.499729</td>\n",
       "      <td>0.457629</td>\n",
       "      <td>0.452180</td>\n",
       "      <td>0.475354</td>\n",
       "      <td>0.475028</td>\n",
       "      <td>0.453842</td>\n",
       "      <td>0.486484</td>\n",
       "      <td>0.487414</td>\n",
       "      <td>0.493902</td>\n",
       "    </tr>\n",
       "    <tr>\n",
       "      <th>min</th>\n",
       "      <td>0.000000</td>\n",
       "      <td>18.250000</td>\n",
       "      <td>18.800000</td>\n",
       "      <td>0.000000</td>\n",
       "      <td>0.000000</td>\n",
       "      <td>0.000000</td>\n",
       "      <td>0.000000</td>\n",
       "      <td>0.000000</td>\n",
       "      <td>0.000000</td>\n",
       "      <td>0.000000</td>\n",
       "      <td>0.000000</td>\n",
       "      <td>0.000000</td>\n",
       "      <td>0.000000</td>\n",
       "      <td>0.000000</td>\n",
       "      <td>0.000000</td>\n",
       "    </tr>\n",
       "    <tr>\n",
       "      <th>25%</th>\n",
       "      <td>0.000000</td>\n",
       "      <td>35.587500</td>\n",
       "      <td>401.450000</td>\n",
       "      <td>0.000000</td>\n",
       "      <td>220.000000</td>\n",
       "      <td>0.000000</td>\n",
       "      <td>0.000000</td>\n",
       "      <td>0.000000</td>\n",
       "      <td>0.000000</td>\n",
       "      <td>0.000000</td>\n",
       "      <td>0.000000</td>\n",
       "      <td>0.000000</td>\n",
       "      <td>0.000000</td>\n",
       "      <td>0.000000</td>\n",
       "      <td>0.000000</td>\n",
       "    </tr>\n",
       "    <tr>\n",
       "      <th>50%</th>\n",
       "      <td>1.000000</td>\n",
       "      <td>70.350000</td>\n",
       "      <td>1397.475000</td>\n",
       "      <td>0.000000</td>\n",
       "      <td>276.000000</td>\n",
       "      <td>0.000000</td>\n",
       "      <td>0.000000</td>\n",
       "      <td>0.000000</td>\n",
       "      <td>0.000000</td>\n",
       "      <td>0.000000</td>\n",
       "      <td>0.000000</td>\n",
       "      <td>0.000000</td>\n",
       "      <td>0.000000</td>\n",
       "      <td>0.000000</td>\n",
       "      <td>0.000000</td>\n",
       "    </tr>\n",
       "    <tr>\n",
       "      <th>75%</th>\n",
       "      <td>1.000000</td>\n",
       "      <td>89.862500</td>\n",
       "      <td>3794.737500</td>\n",
       "      <td>1.000000</td>\n",
       "      <td>331.000000</td>\n",
       "      <td>0.000000</td>\n",
       "      <td>1.000000</td>\n",
       "      <td>1.000000</td>\n",
       "      <td>1.000000</td>\n",
       "      <td>1.000000</td>\n",
       "      <td>1.000000</td>\n",
       "      <td>1.000000</td>\n",
       "      <td>1.000000</td>\n",
       "      <td>1.000000</td>\n",
       "      <td>1.000000</td>\n",
       "    </tr>\n",
       "    <tr>\n",
       "      <th>max</th>\n",
       "      <td>1.000000</td>\n",
       "      <td>118.750000</td>\n",
       "      <td>8684.800000</td>\n",
       "      <td>1.000000</td>\n",
       "      <td>554.000000</td>\n",
       "      <td>1.000000</td>\n",
       "      <td>1.000000</td>\n",
       "      <td>1.000000</td>\n",
       "      <td>1.000000</td>\n",
       "      <td>1.000000</td>\n",
       "      <td>1.000000</td>\n",
       "      <td>1.000000</td>\n",
       "      <td>1.000000</td>\n",
       "      <td>1.000000</td>\n",
       "      <td>1.000000</td>\n",
       "    </tr>\n",
       "  </tbody>\n",
       "</table>\n",
       "</div>"
      ],
      "text/plain": [
       "       PaperlessBilling  MonthlyCharges  TotalCharges       Target  \\\n",
       "count       7032.000000     7032.000000   7032.000000  7032.000000   \n",
       "mean           0.592719       64.798208   2283.300441     0.265785   \n",
       "std            0.491363       30.085974   2266.771362     0.441782   \n",
       "min            0.000000       18.250000     18.800000     0.000000   \n",
       "25%            0.000000       35.587500    401.450000     0.000000   \n",
       "50%            1.000000       70.350000   1397.475000     0.000000   \n",
       "75%            1.000000       89.862500   3794.737500     1.000000   \n",
       "max            1.000000      118.750000   8684.800000     1.000000   \n",
       "\n",
       "              Used  SeniorCitizen      Partner   Dependents  OnlineSecurity  \\\n",
       "count  7032.000000    7032.000000  7032.000000  7032.000000     7032.000000   \n",
       "mean    275.821815       0.162400     0.482509     0.298493        0.286547   \n",
       "std      84.341784       0.368844     0.499729     0.457629        0.452180   \n",
       "min       0.000000       0.000000     0.000000     0.000000        0.000000   \n",
       "25%     220.000000       0.000000     0.000000     0.000000        0.000000   \n",
       "50%     276.000000       0.000000     0.000000     0.000000        0.000000   \n",
       "75%     331.000000       0.000000     1.000000     1.000000        1.000000   \n",
       "max     554.000000       1.000000     1.000000     1.000000        1.000000   \n",
       "\n",
       "       OnlineBackup  DeviceProtection  TechSupport  StreamingTV  \\\n",
       "count   7032.000000       7032.000000  7032.000000  7032.000000   \n",
       "mean       0.344852          0.343857     0.290102     0.384386   \n",
       "std        0.475354          0.475028     0.453842     0.486484   \n",
       "min        0.000000          0.000000     0.000000     0.000000   \n",
       "25%        0.000000          0.000000     0.000000     0.000000   \n",
       "50%        0.000000          0.000000     0.000000     0.000000   \n",
       "75%        1.000000          1.000000     1.000000     1.000000   \n",
       "max        1.000000          1.000000     1.000000     1.000000   \n",
       "\n",
       "       StreamingMovies  MultipleLines  \n",
       "count      7032.000000    7032.000000  \n",
       "mean          0.388367       0.421928  \n",
       "std           0.487414       0.493902  \n",
       "min           0.000000       0.000000  \n",
       "25%           0.000000       0.000000  \n",
       "50%           0.000000       0.000000  \n",
       "75%           1.000000       1.000000  \n",
       "max           1.000000       1.000000  "
      ]
     },
     "execution_count": 36,
     "metadata": {},
     "output_type": "execute_result"
    }
   ],
   "source": [
    "df.describe()"
   ]
  },
  {
   "cell_type": "markdown",
   "metadata": {},
   "source": [
    "Посмотрим распределение целевого признака"
   ]
  },
  {
   "cell_type": "code",
   "execution_count": 37,
   "metadata": {},
   "outputs": [
    {
     "data": {
      "image/png": "[encoded data removed]",
      "text/plain": [
       "<Figure size 432x432 with 1 Axes>"
      ]
     },
     "metadata": {},
     "output_type": "display_data"
    }
   ],
   "source": [
    "target_counts = df['Target'].value_counts()\n",
    "labels = ['Stayed', 'Churned']\n",
    "colors = ['lightblue', 'coral']\n",
    "\n",
    "plt.figure(figsize=(6, 6))\n",
    "plt.pie(target_counts, labels=labels, colors=colors, autopct='%1.1f%%')\n",
    "plt.title('Ушедшие и оставшиеся пользователи')\n",
    "plt.axis('equal')\n",
    "plt.show()"
   ]
  },
  {
   "cell_type": "code",
   "execution_count": 38,
   "metadata": {},
   "outputs": [],
   "source": [
    "df['InternetService'] = df['InternetService'].replace(0, 'no')"
   ]
  },
  {
   "cell_type": "code",
   "execution_count": 39,
   "metadata": {},
   "outputs": [
    {
     "name": "stdout",
     "output_type": "stream",
     "text": [
      "<class 'pandas.core.frame.DataFrame'>\n",
      "Int64Index: 7032 entries, 0 to 7031\n",
      "Data columns (total 22 columns):\n",
      " #   Column            Non-Null Count  Dtype         \n",
      "---  ------            --------------  -----         \n",
      " 0   CustomerID        7032 non-null   object        \n",
      " 1   BeginDate         7032 non-null   datetime64[ns]\n",
      " 2   EndDate           7032 non-null   datetime64[ns]\n",
      " 3   Type              7032 non-null   object        \n",
      " 4   PaperlessBilling  7032 non-null   int64         \n",
      " 5   PaymentMethod     7032 non-null   object        \n",
      " 6   MonthlyCharges    7032 non-null   float64       \n",
      " 7   TotalCharges      7032 non-null   float64       \n",
      " 8   Target            7032 non-null   int64         \n",
      " 9   Used              7032 non-null   int64         \n",
      " 10  gender            7032 non-null   object        \n",
      " 11  SeniorCitizen     7032 non-null   int64         \n",
      " 12  Partner           7032 non-null   int64         \n",
      " 13  Dependents        7032 non-null   int64         \n",
      " 14  InternetService   7032 non-null   object        \n",
      " 15  OnlineSecurity    7032 non-null   int64         \n",
      " 16  OnlineBackup      7032 non-null   int64         \n",
      " 17  DeviceProtection  7032 non-null   int64         \n",
      " 18  TechSupport       7032 non-null   int64         \n",
      " 19  StreamingTV       7032 non-null   int64         \n",
      " 20  StreamingMovies   7032 non-null   int64         \n",
      " 21  MultipleLines     7032 non-null   int64         \n",
      "dtypes: datetime64[ns](2), float64(2), int64(13), object(5)\n",
      "memory usage: 1.5+ MB\n"
     ]
    }
   ],
   "source": [
    "df.info()"
   ]
  },
  {
   "cell_type": "markdown",
   "metadata": {},
   "source": [
    "## Обучение моделей"
   ]
  },
  {
   "cell_type": "code",
   "execution_count": 40,
   "metadata": {},
   "outputs": [],
   "source": [
    "# selected_features = [\n",
    "#     'Type', 'PaperlessBilling', 'PaymentMethod', 'MonthlyCharges', 'TotalCharges',\n",
    "#     'Used', 'gender', 'SeniorCitizen', 'Partner', 'Dependents',\n",
    "#     'InternetService', 'OnlineSecurity', 'OnlineBackup', 'DeviceProtection',\n",
    "#     'TechSupport', 'StreamingTV', 'StreamingMovies', 'MultipleLines'\n",
    "# ]\n",
    "\n",
    "# # Извлекаем только выбранные признаки\n",
    "# selected_df = df[selected_features]\n",
    "\n",
    "# # Применяем One-Hot Encoding к категориальным переменным\n",
    "# categorical_columns = ['Type', 'PaymentMethod', 'gender', 'InternetService']\n",
    "# ohe = OneHotEncoder(drop='first', sparse=False)  # drop='first' чтобы избежать дамми-ловушки\n",
    "\n",
    "# encoded_categorical = ohe.fit_transform(selected_df[categorical_columns])\n",
    "# encoded_df = pd.DataFrame(encoded_categorical, columns=ohe.get_feature_names(categorical_columns))\n",
    "\n",
    "# # Объединяем закодированные признаки с остальными\n",
    "# X = pd.concat([selected_df.drop(categorical_columns, axis=1), encoded_df], axis=1)\n",
    "# y = df['Target']"
   ]
  },
  {
   "cell_type": "code",
   "execution_count": 41,
   "metadata": {},
   "outputs": [],
   "source": [
    "# X_train, X_test, y_train, y_test = train_test_split(X, y, test_size=0.2, random_state=RANDOM_STATE)\n"
   ]
  },
  {
   "cell_type": "code",
   "execution_count": 42,
   "metadata": {},
   "outputs": [],
   "source": [
    "# scaler = StandardScaler()\n",
    "# X_train_scaled = scaler.fit_transform(X_train)\n",
    "# X_test_scaled = scaler.transform(X_test)"
   ]
  },
  {
   "cell_type": "code",
   "execution_count": 43,
   "metadata": {},
   "outputs": [],
   "source": [
    "selected_features = [\n",
    "    'Type', 'PaperlessBilling', 'PaymentMethod', 'MonthlyCharges', 'TotalCharges',\n",
    "    'Used', 'gender', 'SeniorCitizen', 'Partner', 'Dependents',\n",
    "    'InternetService', 'OnlineSecurity', 'OnlineBackup', 'DeviceProtection',\n",
    "    'TechSupport', 'StreamingTV', 'StreamingMovies', 'MultipleLines'\n",
    "]\n",
    "\n",
    "# Извлекаем только выбранные признаки\n",
    "selected_df = df[selected_features]\n",
    "\n",
    "# Разбиваем на обучающую и тестовую выборки\n",
    "X_train, X_test, y_train, y_test = train_test_split(selected_df, df['Target'], test_size=0.2, random_state=RANDOM_STATE)\n",
    "\n",
    "# Отделяем категориальные признаки для кодирования\n",
    "categorical_columns = ['Type', 'PaymentMethod', 'gender', 'InternetService']\n",
    "\n",
    "# Применяем One-Hot Encoding к категориальным переменным на тренировочной выборке\n",
    "ohe = OneHotEncoder(drop='first', sparse=False)\n",
    "encoded_categorical = ohe.fit_transform(X_train[categorical_columns])\n",
    "encoded_columns = ohe.get_feature_names(categorical_columns)\n",
    "encoded_df_train = pd.DataFrame(encoded_categorical, columns=encoded_columns, index=X_train.index)\n",
    "\n",
    "# Применяем One-Hot Encoding на тестовой выборке\n",
    "encoded_categorical_test = ohe.transform(X_test[categorical_columns])\n",
    "encoded_df_test = pd.DataFrame(encoded_categorical_test, columns=encoded_columns, index=X_test.index)\n",
    "\n",
    "# Соединяем закодированные признаки с остальными для обеих выборок\n",
    "X_train_encoded = pd.concat([X_train.drop(categorical_columns, axis=1), encoded_df_train], axis=1)\n",
    "X_test_encoded = pd.concat([X_test.drop(categorical_columns, axis=1), encoded_df_test], axis=1)\n",
    "\n",
    "# Применяем стандартизацию\n",
    "scaler = StandardScaler()\n",
    "X_train_scaled = scaler.fit_transform(X_train_encoded)\n",
    "X_test_scaled = scaler.transform(X_test_encoded)"
   ]
  },
  {
   "cell_type": "code",
   "execution_count": 44,
   "metadata": {
    "scrolled": true
   },
   "outputs": [
    {
     "name": "stdout",
     "output_type": "stream",
     "text": [
      "Размер тренировочной выборки (X_train_scaled): (5625, 22)\n",
      "Размер тестовой выборки (X_test_scaled): (1407, 22)\n",
      "Размер тренировочной выборки (y_train): (5625,)\n",
      "Размер тестовой выборки (y_test): (1407,)\n"
     ]
    }
   ],
   "source": [
    "print(\"Размер тренировочной выборки (X_train_scaled):\", X_train_scaled.shape)\n",
    "print(\"Размер тестовой выборки (X_test_scaled):\", X_test_scaled.shape)\n",
    "print(\"Размер тренировочной выборки (y_train):\", y_train.shape)\n",
    "print(\"Размер тестовой выборки (y_test):\", y_test.shape)"
   ]
  },
  {
   "cell_type": "markdown",
   "metadata": {},
   "source": [
    "У нас имеется дисбаланс, поэтому будем использовать параметр class_weight"
   ]
  },
  {
   "cell_type": "markdown",
   "metadata": {},
   "source": [
    "### RandomForest"
   ]
  },
  {
   "cell_type": "code",
   "execution_count": 45,
   "metadata": {},
   "outputs": [
    {
     "name": "stdout",
     "output_type": "stream",
     "text": [
      "Лучшие параметры для случайного леса: {'max_depth': 10, 'n_estimators': 200}\n",
      "ROC-AUC для случайного леса на кросс-валидации: 0.849558631660605\n"
     ]
    }
   ],
   "source": [
    "class_weights = class_weight.compute_class_weight('balanced', classes=[0, 1], y=y_train)\n",
    "class_weight_dict = {0: class_weights[0], 1: class_weights[1]}\n",
    "\n",
    "# Создание модели случайного леса\n",
    "rf_model = RandomForestClassifier(class_weight=class_weight_dict, random_state=RANDOM_STATE)\n",
    "\n",
    "# Подготовка параметров для GridSearchCV\n",
    "param_grid_rf = {\n",
    "    'n_estimators': [100, 200],\n",
    "    'max_depth': [None, 10],\n",
    "}\n",
    "\n",
    "# Создание объекта GridSearchCV\n",
    "grid_search_rf = GridSearchCV(estimator=rf_model, param_grid=param_grid_rf, scoring='roc_auc', cv=5)\n",
    "\n",
    "# Обучение модели с использованием GridSearchCV\n",
    "grid_search_rf.fit(X_train_scaled, y_train)\n",
    "\n",
    "# Получение лучшей модели\n",
    "best_rf_model = grid_search_rf.best_estimator_\n",
    "\n",
    "# Сравнение моделей на основе grid.best_score_\n",
    "roc_auc_best_rf = grid_search_rf.best_score_\n",
    "\n",
    "print(\"Лучшие параметры для случайного леса:\", grid_search_rf.best_params_)\n",
    "print(\"ROC-AUC для случайного леса на кросс-валидации:\", roc_auc_best_rf)"
   ]
  },
  {
   "cell_type": "markdown",
   "metadata": {},
   "source": [
    "### CatBoost"
   ]
  },
  {
   "cell_type": "code",
   "execution_count": 46,
   "metadata": {},
   "outputs": [
    {
     "name": "stdout",
     "output_type": "stream",
     "text": [
      "Лучшие параметры для CatBoost: {'depth': 4, 'iterations': 100}\n",
      "ROC-AUC для CatBoost на тренировочных данных: 0.8516790091737618\n",
      "CPU times: user 8.35 s, sys: 390 ms, total: 8.74 s\n",
      "Wall time: 24.3 s\n"
     ]
    }
   ],
   "source": [
    "%%time\n",
    "\n",
    "class_weights = class_weight.compute_class_weight('balanced', classes=[0, 1], y=y_train)\n",
    "class_weight_dict = {0: class_weights[0], 1: class_weights[1]}\n",
    "\n",
    "# Создание модели CatBoost\n",
    "catboost_model = CatBoostClassifier(class_weights=class_weight_dict, random_state=RANDOM_STATE, verbose=False)\n",
    "\n",
    "# Подготовка параметров для GridSearchCV\n",
    "param_grid_catboost = {\n",
    "    'iterations': [100, 200],\n",
    "    'depth': [4, 6],\n",
    "}\n",
    "\n",
    "# Создание объекта GridSearchCV\n",
    "grid_search_catboost = GridSearchCV(estimator=catboost_model, param_grid=param_grid_catboost, scoring='roc_auc', cv=5)\n",
    "\n",
    "# Обучение модели с использованием GridSearchCV\n",
    "grid_search_catboost.fit(X_train_scaled, y_train)\n",
    "\n",
    "# Получение лучшей модели\n",
    "best_catboost_model = grid_search_catboost.best_estimator_\n",
    "\n",
    "# Прогнозирование вероятностей на тренировочных данных\n",
    "y_pred_train_catboost = best_catboost_model.predict_proba(X_train_scaled)[:, 1]\n",
    "roc_auc_train_catboost = grid_search_catboost.best_score_\n",
    "\n",
    "print(\"Лучшие параметры для CatBoost:\", grid_search_catboost.best_params_)\n",
    "print(\"ROC-AUC для CatBoost на тренировочных данных:\", roc_auc_train_catboost)"
   ]
  },
  {
   "cell_type": "markdown",
   "metadata": {},
   "source": [
    "### Нейронка"
   ]
  },
  {
   "cell_type": "code",
   "execution_count": 47,
   "metadata": {
    "scrolled": false
   },
   "outputs": [
    {
     "name": "stdout",
     "output_type": "stream",
     "text": [
      "CPU times: user 2 µs, sys: 1 µs, total: 3 µs\n",
      "Wall time: 5.48 µs\n"
     ]
    },
    {
     "name": "stderr",
     "output_type": "stream",
     "text": [
      "/opt/conda/lib/python3.9/site-packages/sklearn/neural_network/_multilayer_perceptron.py:614: ConvergenceWarning: Stochastic Optimizer: Maximum iterations (200) reached and the optimization hasn't converged yet.\n",
      "  warnings.warn(\n",
      "/opt/conda/lib/python3.9/site-packages/sklearn/neural_network/_multilayer_perceptron.py:614: ConvergenceWarning: Stochastic Optimizer: Maximum iterations (200) reached and the optimization hasn't converged yet.\n",
      "  warnings.warn(\n",
      "/opt/conda/lib/python3.9/site-packages/sklearn/neural_network/_multilayer_perceptron.py:614: ConvergenceWarning: Stochastic Optimizer: Maximum iterations (200) reached and the optimization hasn't converged yet.\n",
      "  warnings.warn(\n",
      "/opt/conda/lib/python3.9/site-packages/sklearn/neural_network/_multilayer_perceptron.py:614: ConvergenceWarning: Stochastic Optimizer: Maximum iterations (200) reached and the optimization hasn't converged yet.\n",
      "  warnings.warn(\n",
      "/opt/conda/lib/python3.9/site-packages/sklearn/neural_network/_multilayer_perceptron.py:614: ConvergenceWarning: Stochastic Optimizer: Maximum iterations (200) reached and the optimization hasn't converged yet.\n",
      "  warnings.warn(\n",
      "/opt/conda/lib/python3.9/site-packages/sklearn/neural_network/_multilayer_perceptron.py:614: ConvergenceWarning: Stochastic Optimizer: Maximum iterations (200) reached and the optimization hasn't converged yet.\n",
      "  warnings.warn(\n"
     ]
    },
    {
     "name": "stdout",
     "output_type": "stream",
     "text": [
      "Лучшие параметры для нейронной сети: {'hidden_layer_sizes': (50,)}\n",
      "ROC-AUC для нейронной сети на тренировочных данных: 0.831426723849817\n"
     ]
    },
    {
     "name": "stderr",
     "output_type": "stream",
     "text": [
      "/opt/conda/lib/python3.9/site-packages/sklearn/neural_network/_multilayer_perceptron.py:614: ConvergenceWarning: Stochastic Optimizer: Maximum iterations (200) reached and the optimization hasn't converged yet.\n",
      "  warnings.warn(\n"
     ]
    }
   ],
   "source": [
    "%time\n",
    "\n",
    "\n",
    "# Создание модели нейронной сети\n",
    "nn_model = MLPClassifier(random_state=RANDOM_STATE)\n",
    "\n",
    "# Подготовка параметров для GridSearchCV\n",
    "param_grid_nn = {\n",
    "    'hidden_layer_sizes': [(50,), (100,)],\n",
    "}\n",
    "\n",
    "# Создание объекта GridSearchCV\n",
    "grid_search_nn = GridSearchCV(estimator=nn_model, param_grid=param_grid_nn, scoring='roc_auc', cv=3)\n",
    "\n",
    "# Обучение модели с использованием GridSearchCV\n",
    "grid_search_nn.fit(X_train_scaled, y_train)\n",
    "\n",
    "# Получение лучшей модели\n",
    "best_nn_model = grid_search_nn.best_estimator_\n",
    "\n",
    "# Прогнозирование вероятностей на тренировочных данных\n",
    "y_pred_train_nn = best_nn_model.predict_proba(X_train_scaled)[:, 1]\n",
    "roc_auc_train_nn =  grid_search_nn.best_score_\n",
    "\n",
    "print(\"Лучшие параметры для нейронной сети:\", grid_search_nn.best_params_)\n",
    "print(\"ROC-AUC для нейронной сети на тренировочных данных:\", roc_auc_train_nn)"
   ]
  },
  {
   "cell_type": "code",
   "execution_count": 48,
   "metadata": {},
   "outputs": [
    {
     "name": "stdout",
     "output_type": "stream",
     "text": [
      "ROC-AUC для случайного леса на тренировочных данных: 0.849558631660605\n",
      "ROC-AUC для CatBoost на тренировочных данных: 0.8516790091737618\n",
      "ROC-AUC для нейронной сети на тренировочных данных: 0.831426723849817\n"
     ]
    }
   ],
   "source": [
    "print(\"ROC-AUC для случайного леса на тренировочных данных:\", roc_auc_best_rf)\n",
    "print(\"ROC-AUC для CatBoost на тренировочных данных:\", roc_auc_train_catboost)\n",
    "print(\"ROC-AUC для нейронной сети на тренировочных данных:\", roc_auc_train_nn)"
   ]
  },
  {
   "cell_type": "markdown",
   "metadata": {},
   "source": [
    "3 типа модели обучили  \n",
    "лучший результат показал градиентный бустинг 0.85"
   ]
  },
  {
   "cell_type": "markdown",
   "metadata": {},
   "source": [
    "## Тестирование лучше модели"
   ]
  },
  {
   "cell_type": "markdown",
   "metadata": {},
   "source": [
    "Прогоним лучшую модель на тестовых данных"
   ]
  },
  {
   "cell_type": "code",
   "execution_count": 49,
   "metadata": {
    "scrolled": true
   },
   "outputs": [
    {
     "name": "stdout",
     "output_type": "stream",
     "text": [
      "ROC-AUC для градиентного бустинга на тестовой выборке: 0.8585254663592536\n",
      "Accuracy для градиентного бустинга на тестовой выборке: 0.7647476901208244\n"
     ]
    }
   ],
   "source": [
    "y_pred_cb = best_catboost_model.predict_proba(X_test_scaled)[:, 1]\n",
    "\n",
    "# Вычисление метрик\n",
    "roc_auc_test_cb = roc_auc_score(y_test, y_pred_cb)\n",
    "accuracy_test_cb = accuracy_score(y_test, best_catboost_model.predict(X_test_scaled))\n",
    "\n",
    "print(\"ROC-AUC для градиентного бустинга на тестовой выборке:\", roc_auc_test_cb)\n",
    "print(\"Accuracy для градиентного бустинга на тестовой выборке:\", accuracy_test_cb)"
   ]
  },
  {
   "cell_type": "code",
   "execution_count": 50,
   "metadata": {
    "scrolled": false
   },
   "outputs": [
    {
     "data": {
      "image/png": "[encoded data removed]",
      "text/plain": [
       "<Figure size 576x432 with 2 Axes>"
      ]
     },
     "metadata": {
      "needs_background": "light"
     },
     "output_type": "display_data"
    }
   ],
   "source": [
    "conf_matrix_cb = confusion_matrix(y_test, y_pred_cb > 0.5)\n",
    "\n",
    "# Построение тепловой карты\n",
    "plt.figure(figsize=(8, 6))\n",
    "sns.heatmap(conf_matrix_cb, annot=True, fmt=\"d\", cmap=\"Blues\")\n",
    "plt.xlabel('Predicted')\n",
    "plt.ylabel('Actual')\n",
    "plt.title('Confusion Matrix')\n",
    "plt.show()"
   ]
  },
  {
   "cell_type": "markdown",
   "metadata": {},
   "source": [
    "В верхней левой ячейке (789) указано количество верно предсказанных негативных случаев (True Negatives).  \n",
    "В верхней правой ячейке (251) указано количество неверно предсказанных положительных случаев (False Positives).  \n",
    "В нижней левой ячейке (80) указано количество неверно предсказанных негативных случаев (False Negatives).  \n",
    "В нижней правой ячейке (287) указано количество верно предсказанных положительных случаев (True Positives).\n",
    "\n"
   ]
  },
  {
   "cell_type": "code",
   "execution_count": 51,
   "metadata": {
    "scrolled": false
   },
   "outputs": [
    {
     "name": "stdout",
     "output_type": "stream",
     "text": [
      "TotalCharges: 21.3661\n",
      "Type_Two year: 19.4137\n",
      "Used: 11.7348\n",
      "MonthlyCharges: 10.2537\n",
      "Type_One year: 7.6783\n",
      "InternetService_Fiber optic: 6.7687\n",
      "InternetService_no: 5.0842\n",
      "PaymentMethod_Electronic check: 3.2350\n",
      "PaperlessBilling: 2.0136\n",
      "StreamingMovies: 1.9139\n",
      "TechSupport: 1.7410\n",
      "MultipleLines: 1.4683\n",
      "StreamingTV: 1.1795\n",
      "SeniorCitizen: 1.1711\n",
      "OnlineSecurity: 1.0553\n",
      "Dependents: 0.8822\n",
      "gender_Male: 0.7232\n",
      "PaymentMethod_Mailed check: 0.6020\n",
      "PaymentMethod_Credit card (automatic): 0.5931\n",
      "DeviceProtection: 0.5280\n",
      "OnlineBackup: 0.4867\n",
      "Partner: 0.1077\n"
     ]
    },
    {
     "data": {
      "image/png": "[encoded data removed]",
      "text/plain": [
       "<Figure size 720x432 with 1 Axes>"
      ]
     },
     "metadata": {
      "needs_background": "light"
     },
     "output_type": "display_data"
    }
   ],
   "source": [
    "importances = best_catboost_model.feature_importances_\n",
    "indices = np.argsort(importances)[::-1]\n",
    "\n",
    "# Вывод важности признаков\n",
    "for i in range(X_train_encoded.shape[1]):\n",
    "    print(f\"{X_train_encoded.columns[indices[i]]}: {importances[indices[i]]:.4f}\")\n",
    "\n",
    "# Построение графика важности признаков\n",
    "plt.figure(figsize=(10, 6))\n",
    "plt.title(\"Feature Importances\")\n",
    "plt.bar(range(X_train_encoded.shape[1]), importances[indices])\n",
    "plt.xticks(range(X_train_encoded.shape[1]), X_train_encoded.columns[indices], rotation=90)\n",
    "plt.show()"
   ]
  },
  {
   "cell_type": "markdown",
   "metadata": {},
   "source": [
    "Значения важности для каждого признака, отсортированные в порядке убывания. Это позволяет увидеть, какие признаки оказывают наибольшее влияние на принятие решений моделью \"TotalCharges\", \"Type_Month-to-month\" и \"Used\" оказываются среди наиболее важных признаков для модели."
   ]
  },
  {
   "cell_type": "code",
   "execution_count": 52,
   "metadata": {},
   "outputs": [
    {
     "data": {
      "image/png": "[encoded data removed]",
      "text/plain": [
       "<Figure size 720x432 with 1 Axes>"
      ]
     },
     "metadata": {
      "needs_background": "light"
     },
     "output_type": "display_data"
    }
   ],
   "source": [
    "churn_df = df[df['Target'] == 1]\n",
    "not_churn_df = df[df['Target'] == 0]\n",
    "\n",
    "# Выбор одного из важных признаков (например, 'MonthlyCharges')\n",
    "selected_feature = 'MonthlyCharges'\n",
    "\n",
    "# Построение гистограмм распределения признака для каждого класса\n",
    "plt.figure(figsize=(10, 6))\n",
    "sns.histplot(data=not_churn_df, x=selected_feature, label='Оcтались', color='blue', kde=True)\n",
    "sns.histplot(data=churn_df, x=selected_feature, label='Ушли', color='orange', kde=True)\n",
    "plt.xlabel(selected_feature)\n",
    "plt.ylabel('Density')\n",
    "plt.title(f'Distribution of {selected_feature} Target')\n",
    "plt.legend()\n",
    "plt.show()"
   ]
  },
  {
   "cell_type": "markdown",
   "metadata": {},
   "source": [
    "# Выводы"
   ]
  },
  {
   "cell_type": "markdown",
   "metadata": {},
   "source": [
    "Была проведена предобработка и алнализх данных, так же обучено 3 типа моделей:\n",
    "Лес\n",
    "КэтБуст\n",
    "Нейронная сеть\n",
    "Наилучший результат показал случайный лес, после прогона модели на тестовых данных мы полуичли результат `roc_auc = 0.85`\n",
    "Так же проанализировали важности признаков для обучения моделей"
   ]
  }
 ],
 "metadata": {
  "ExecuteTimeLog": [
   {
    "duration": 1954,
    "start_time": "2023-08-21T21:05:58.480Z"
   },
   {
    "duration": 3,
    "start_time": "2023-08-21T21:06:10.730Z"
   },
   {
    "duration": 6,
    "start_time": "2023-08-21T21:07:26.607Z"
   },
   {
    "duration": 11416,
    "start_time": "2023-08-21T21:07:48.892Z"
   },
   {
    "duration": 269,
    "start_time": "2023-08-21T21:08:00.311Z"
   },
   {
    "duration": 300,
    "start_time": "2023-08-21T21:09:10.940Z"
   },
   {
    "duration": 363,
    "start_time": "2023-08-21T21:09:27.725Z"
   },
   {
    "duration": 59,
    "start_time": "2023-08-21T21:11:50.974Z"
   },
   {
    "duration": 622,
    "start_time": "2023-08-21T21:17:41.522Z"
   },
   {
    "duration": 17,
    "start_time": "2023-08-21T21:17:53.682Z"
   },
   {
    "duration": 124,
    "start_time": "2023-08-21T21:27:04.636Z"
   },
   {
    "duration": 118,
    "start_time": "2023-08-21T21:27:13.179Z"
   },
   {
    "duration": 21,
    "start_time": "2023-08-21T21:27:35.283Z"
   },
   {
    "duration": 4,
    "start_time": "2023-08-21T21:27:48.194Z"
   },
   {
    "duration": 18,
    "start_time": "2023-08-21T21:27:48.917Z"
   },
   {
    "duration": 71,
    "start_time": "2023-08-21T21:27:56.215Z"
   },
   {
    "duration": 202,
    "start_time": "2023-08-21T21:28:58.491Z"
   },
   {
    "duration": 207,
    "start_time": "2023-08-21T21:29:08.130Z"
   },
   {
    "duration": 234,
    "start_time": "2023-08-21T21:29:12.752Z"
   },
   {
    "duration": 234,
    "start_time": "2023-08-21T21:29:58.023Z"
   },
   {
    "duration": 11,
    "start_time": "2023-08-21T21:30:05.811Z"
   },
   {
    "duration": 19,
    "start_time": "2023-08-21T21:30:51.948Z"
   },
   {
    "duration": 16,
    "start_time": "2023-08-21T21:31:05.493Z"
   },
   {
    "duration": 19,
    "start_time": "2023-08-21T21:31:05.707Z"
   },
   {
    "duration": 14,
    "start_time": "2023-08-21T21:31:06.206Z"
   },
   {
    "duration": 17,
    "start_time": "2023-08-21T21:31:38.089Z"
   },
   {
    "duration": 6,
    "start_time": "2023-08-21T21:33:53.396Z"
   },
   {
    "duration": 22,
    "start_time": "2023-08-21T21:34:51.675Z"
   },
   {
    "duration": 20,
    "start_time": "2023-08-21T21:35:06.457Z"
   },
   {
    "duration": 11,
    "start_time": "2023-08-21T21:35:12.336Z"
   },
   {
    "duration": 15,
    "start_time": "2023-08-21T21:35:21.649Z"
   },
   {
    "duration": 25,
    "start_time": "2023-08-21T21:35:28.076Z"
   },
   {
    "duration": 33,
    "start_time": "2023-08-21T21:35:28.348Z"
   },
   {
    "duration": 15,
    "start_time": "2023-08-21T21:35:28.467Z"
   },
   {
    "duration": 22,
    "start_time": "2023-08-21T21:35:28.584Z"
   },
   {
    "duration": 11,
    "start_time": "2023-08-21T21:35:28.701Z"
   },
   {
    "duration": 12,
    "start_time": "2023-08-21T21:35:28.816Z"
   },
   {
    "duration": 6,
    "start_time": "2023-08-21T21:35:28.914Z"
   },
   {
    "duration": 16,
    "start_time": "2023-08-21T21:35:29.045Z"
   },
   {
    "duration": 12,
    "start_time": "2023-08-21T21:47:59.877Z"
   },
   {
    "duration": 4,
    "start_time": "2023-08-21T21:49:07.387Z"
   },
   {
    "duration": 13,
    "start_time": "2023-08-21T21:49:13.368Z"
   },
   {
    "duration": 18,
    "start_time": "2023-08-21T21:49:16.979Z"
   },
   {
    "duration": 4,
    "start_time": "2023-08-21T21:49:20.116Z"
   },
   {
    "duration": 10,
    "start_time": "2023-08-21T21:49:23.738Z"
   },
   {
    "duration": 5,
    "start_time": "2023-08-21T21:49:29.225Z"
   },
   {
    "duration": 7,
    "start_time": "2023-08-21T21:49:32.868Z"
   },
   {
    "duration": 26,
    "start_time": "2023-08-21T21:49:39.944Z"
   },
   {
    "duration": 18,
    "start_time": "2023-08-21T21:50:22.337Z"
   },
   {
    "duration": 14369,
    "start_time": "2023-08-21T21:50:45.139Z"
   },
   {
    "duration": 21,
    "start_time": "2023-08-21T21:50:59.512Z"
   },
   {
    "duration": 154,
    "start_time": "2023-08-21T21:50:59.535Z"
   },
   {
    "duration": 0,
    "start_time": "2023-08-21T21:50:59.694Z"
   },
   {
    "duration": 0,
    "start_time": "2023-08-21T21:50:59.696Z"
   },
   {
    "duration": 0,
    "start_time": "2023-08-21T21:50:59.697Z"
   },
   {
    "duration": 0,
    "start_time": "2023-08-21T21:50:59.698Z"
   },
   {
    "duration": 0,
    "start_time": "2023-08-21T21:50:59.698Z"
   },
   {
    "duration": 0,
    "start_time": "2023-08-21T21:50:59.699Z"
   },
   {
    "duration": 0,
    "start_time": "2023-08-21T21:50:59.703Z"
   },
   {
    "duration": 0,
    "start_time": "2023-08-21T21:50:59.704Z"
   },
   {
    "duration": 0,
    "start_time": "2023-08-21T21:50:59.705Z"
   },
   {
    "duration": 0,
    "start_time": "2023-08-21T21:50:59.706Z"
   },
   {
    "duration": 0,
    "start_time": "2023-08-21T21:50:59.708Z"
   },
   {
    "duration": 0,
    "start_time": "2023-08-21T21:50:59.709Z"
   },
   {
    "duration": 0,
    "start_time": "2023-08-21T21:50:59.711Z"
   },
   {
    "duration": 0,
    "start_time": "2023-08-21T21:50:59.712Z"
   },
   {
    "duration": 0,
    "start_time": "2023-08-21T21:50:59.713Z"
   },
   {
    "duration": 0,
    "start_time": "2023-08-21T21:50:59.715Z"
   },
   {
    "duration": 923,
    "start_time": "2023-08-21T21:52:00.380Z"
   },
   {
    "duration": 16,
    "start_time": "2023-08-21T21:52:08.599Z"
   },
   {
    "duration": 16,
    "start_time": "2023-08-21T21:52:09.097Z"
   },
   {
    "duration": 8,
    "start_time": "2023-08-21T21:52:09.127Z"
   },
   {
    "duration": 20,
    "start_time": "2023-08-21T21:52:09.176Z"
   },
   {
    "duration": 11,
    "start_time": "2023-08-21T21:52:09.200Z"
   },
   {
    "duration": 13,
    "start_time": "2023-08-21T21:52:09.238Z"
   },
   {
    "duration": 13,
    "start_time": "2023-08-21T21:52:09.271Z"
   },
   {
    "duration": 11,
    "start_time": "2023-08-21T21:52:09.299Z"
   },
   {
    "duration": 7,
    "start_time": "2023-08-21T21:52:09.379Z"
   },
   {
    "duration": 10,
    "start_time": "2023-08-21T21:52:09.394Z"
   },
   {
    "duration": 4,
    "start_time": "2023-08-21T21:52:09.419Z"
   },
   {
    "duration": 4,
    "start_time": "2023-08-21T21:52:09.451Z"
   },
   {
    "duration": 11,
    "start_time": "2023-08-21T21:52:09.499Z"
   },
   {
    "duration": 5,
    "start_time": "2023-08-21T21:52:09.528Z"
   },
   {
    "duration": 9,
    "start_time": "2023-08-21T21:52:09.571Z"
   },
   {
    "duration": 24,
    "start_time": "2023-08-21T21:52:09.596Z"
   },
   {
    "duration": 19,
    "start_time": "2023-08-21T21:52:23.038Z"
   },
   {
    "duration": 26,
    "start_time": "2023-08-21T21:52:46.655Z"
   },
   {
    "duration": 8,
    "start_time": "2023-08-21T21:56:26.998Z"
   },
   {
    "duration": 47,
    "start_time": "2023-08-21T21:56:29.231Z"
   },
   {
    "duration": 22,
    "start_time": "2023-08-21T21:56:44.714Z"
   },
   {
    "duration": 31,
    "start_time": "2023-08-21T21:56:56.343Z"
   },
   {
    "duration": 16,
    "start_time": "2023-08-21T21:57:00.793Z"
   },
   {
    "duration": 52,
    "start_time": "2023-08-21T21:57:04.972Z"
   },
   {
    "duration": 21,
    "start_time": "2023-08-21T21:57:40.595Z"
   },
   {
    "duration": 5,
    "start_time": "2023-08-21T21:57:56.841Z"
   },
   {
    "duration": 8,
    "start_time": "2023-08-21T21:58:03.719Z"
   },
   {
    "duration": 18,
    "start_time": "2023-08-21T21:58:05.128Z"
   },
   {
    "duration": 16,
    "start_time": "2023-08-21T21:58:11.746Z"
   },
   {
    "duration": 21,
    "start_time": "2023-08-21T21:58:17.920Z"
   },
   {
    "duration": 25,
    "start_time": "2023-08-21T21:59:08.083Z"
   },
   {
    "duration": 14664,
    "start_time": "2023-08-21T22:00:28.576Z"
   },
   {
    "duration": 37,
    "start_time": "2023-08-21T22:00:43.242Z"
   },
   {
    "duration": 870,
    "start_time": "2023-08-21T22:00:43.292Z"
   },
   {
    "duration": 21,
    "start_time": "2023-08-21T22:00:44.175Z"
   },
   {
    "duration": 16,
    "start_time": "2023-08-21T22:00:44.197Z"
   },
   {
    "duration": 15,
    "start_time": "2023-08-21T22:00:44.214Z"
   },
   {
    "duration": 15,
    "start_time": "2023-08-21T22:00:44.230Z"
   },
   {
    "duration": 21,
    "start_time": "2023-08-21T22:00:44.246Z"
   },
   {
    "duration": 19,
    "start_time": "2023-08-21T22:00:44.269Z"
   },
   {
    "duration": 9,
    "start_time": "2023-08-21T22:00:44.290Z"
   },
   {
    "duration": 12,
    "start_time": "2023-08-21T22:00:44.301Z"
   },
   {
    "duration": 5,
    "start_time": "2023-08-21T22:00:44.315Z"
   },
   {
    "duration": 10,
    "start_time": "2023-08-21T22:00:44.323Z"
   },
   {
    "duration": 28,
    "start_time": "2023-08-21T22:00:44.335Z"
   },
   {
    "duration": 7,
    "start_time": "2023-08-21T22:00:44.365Z"
   },
   {
    "duration": 16,
    "start_time": "2023-08-21T22:00:44.374Z"
   },
   {
    "duration": 5,
    "start_time": "2023-08-21T22:00:44.394Z"
   },
   {
    "duration": 7,
    "start_time": "2023-08-21T22:00:44.401Z"
   },
   {
    "duration": 31,
    "start_time": "2023-08-21T22:00:44.409Z"
   },
   {
    "duration": 38,
    "start_time": "2023-08-21T22:00:44.441Z"
   },
   {
    "duration": 150,
    "start_time": "2023-08-21T22:00:44.481Z"
   },
   {
    "duration": 0,
    "start_time": "2023-08-21T22:00:44.633Z"
   },
   {
    "duration": 0,
    "start_time": "2023-08-21T22:00:44.633Z"
   },
   {
    "duration": 0,
    "start_time": "2023-08-21T22:00:44.635Z"
   },
   {
    "duration": 0,
    "start_time": "2023-08-21T22:00:44.637Z"
   },
   {
    "duration": 14,
    "start_time": "2023-08-21T22:00:58.497Z"
   },
   {
    "duration": 6,
    "start_time": "2023-08-21T22:00:59.888Z"
   },
   {
    "duration": 6,
    "start_time": "2023-08-21T22:01:00.129Z"
   },
   {
    "duration": 25,
    "start_time": "2023-08-21T22:01:00.567Z"
   },
   {
    "duration": 8,
    "start_time": "2023-08-22T18:50:20.723Z"
   },
   {
    "duration": 8737,
    "start_time": "2023-08-22T18:52:32.478Z"
   },
   {
    "duration": 20,
    "start_time": "2023-08-22T18:52:41.218Z"
   },
   {
    "duration": 219,
    "start_time": "2023-08-22T18:52:41.239Z"
   },
   {
    "duration": 16,
    "start_time": "2023-08-22T18:52:41.460Z"
   },
   {
    "duration": 17,
    "start_time": "2023-08-22T18:52:41.478Z"
   },
   {
    "duration": 24,
    "start_time": "2023-08-22T18:52:41.497Z"
   },
   {
    "duration": 41,
    "start_time": "2023-08-22T18:52:41.522Z"
   },
   {
    "duration": 13,
    "start_time": "2023-08-22T18:52:41.565Z"
   },
   {
    "duration": 26,
    "start_time": "2023-08-22T18:52:41.580Z"
   },
   {
    "duration": 12,
    "start_time": "2023-08-22T18:53:02.532Z"
   },
   {
    "duration": 14,
    "start_time": "2023-08-22T18:53:03.173Z"
   },
   {
    "duration": 3,
    "start_time": "2023-08-22T18:53:03.688Z"
   },
   {
    "duration": 12,
    "start_time": "2023-08-22T18:53:10.049Z"
   },
   {
    "duration": 4,
    "start_time": "2023-08-22T18:53:21.127Z"
   },
   {
    "duration": 143,
    "start_time": "2023-08-22T18:53:21.400Z"
   },
   {
    "duration": 9824,
    "start_time": "2023-08-22T19:06:14.343Z"
   },
   {
    "duration": 29,
    "start_time": "2023-08-22T19:06:27.361Z"
   },
   {
    "duration": 247,
    "start_time": "2023-08-22T19:06:27.547Z"
   },
   {
    "duration": 16,
    "start_time": "2023-08-22T19:06:27.797Z"
   },
   {
    "duration": 14,
    "start_time": "2023-08-22T19:06:27.985Z"
   },
   {
    "duration": 12,
    "start_time": "2023-08-22T19:06:28.169Z"
   },
   {
    "duration": 13,
    "start_time": "2023-08-22T19:06:28.352Z"
   },
   {
    "duration": 11,
    "start_time": "2023-08-22T19:06:28.511Z"
   },
   {
    "duration": 13,
    "start_time": "2023-08-22T19:06:28.942Z"
   },
   {
    "duration": 4,
    "start_time": "2023-08-22T19:06:30.933Z"
   },
   {
    "duration": 12,
    "start_time": "2023-08-22T19:06:31.581Z"
   },
   {
    "duration": 8,
    "start_time": "2023-08-22T19:06:52.793Z"
   },
   {
    "duration": 11,
    "start_time": "2023-08-22T19:06:53.030Z"
   },
   {
    "duration": 3,
    "start_time": "2023-08-22T19:08:04.943Z"
   },
   {
    "duration": 8,
    "start_time": "2023-08-22T19:08:17.999Z"
   },
   {
    "duration": 5,
    "start_time": "2023-08-22T19:08:19.789Z"
   },
   {
    "duration": 12,
    "start_time": "2023-08-22T19:08:19.932Z"
   },
   {
    "duration": 4,
    "start_time": "2023-08-22T19:08:20.078Z"
   },
   {
    "duration": 4,
    "start_time": "2023-08-22T19:08:20.240Z"
   },
   {
    "duration": 13,
    "start_time": "2023-08-22T19:08:20.395Z"
   },
   {
    "duration": 4,
    "start_time": "2023-08-22T19:08:20.539Z"
   },
   {
    "duration": 6,
    "start_time": "2023-08-22T19:08:20.677Z"
   },
   {
    "duration": 146,
    "start_time": "2023-08-22T19:08:20.824Z"
   },
   {
    "duration": 0,
    "start_time": "2023-08-22T19:08:20.972Z"
   },
   {
    "duration": 16,
    "start_time": "2023-08-22T19:08:21.068Z"
   },
   {
    "duration": 6,
    "start_time": "2023-08-22T19:08:21.188Z"
   },
   {
    "duration": 14,
    "start_time": "2023-08-22T19:08:24.310Z"
   },
   {
    "duration": 5,
    "start_time": "2023-08-22T19:08:29.401Z"
   },
   {
    "duration": 7,
    "start_time": "2023-08-22T19:08:29.634Z"
   },
   {
    "duration": 17,
    "start_time": "2023-08-22T19:08:29.838Z"
   },
   {
    "duration": 24,
    "start_time": "2023-08-22T19:09:16.072Z"
   },
   {
    "duration": 24,
    "start_time": "2023-08-22T19:09:22.198Z"
   },
   {
    "duration": 19,
    "start_time": "2023-08-22T19:09:48.840Z"
   },
   {
    "duration": 8678,
    "start_time": "2023-08-22T19:14:45.474Z"
   },
   {
    "duration": 25,
    "start_time": "2023-08-22T19:14:54.155Z"
   },
   {
    "duration": 222,
    "start_time": "2023-08-22T19:14:54.182Z"
   },
   {
    "duration": 15,
    "start_time": "2023-08-22T19:14:54.406Z"
   },
   {
    "duration": 15,
    "start_time": "2023-08-22T19:14:54.423Z"
   },
   {
    "duration": 24,
    "start_time": "2023-08-22T19:14:54.440Z"
   },
   {
    "duration": 20,
    "start_time": "2023-08-22T19:14:54.466Z"
   },
   {
    "duration": 23,
    "start_time": "2023-08-22T19:14:54.488Z"
   },
   {
    "duration": 24,
    "start_time": "2023-08-22T19:14:54.512Z"
   },
   {
    "duration": 23,
    "start_time": "2023-08-22T19:14:54.538Z"
   },
   {
    "duration": 30,
    "start_time": "2023-08-22T19:14:54.562Z"
   },
   {
    "duration": 26,
    "start_time": "2023-08-22T19:14:54.594Z"
   },
   {
    "duration": 15,
    "start_time": "2023-08-22T19:14:54.622Z"
   },
   {
    "duration": 8,
    "start_time": "2023-08-22T19:31:29.790Z"
   },
   {
    "duration": 23,
    "start_time": "2023-08-22T19:31:35.786Z"
   },
   {
    "duration": 7,
    "start_time": "2023-08-22T19:31:47.365Z"
   },
   {
    "duration": 6,
    "start_time": "2023-08-22T19:31:49.578Z"
   },
   {
    "duration": 19,
    "start_time": "2023-08-22T19:31:50.675Z"
   },
   {
    "duration": 8758,
    "start_time": "2023-08-22T19:32:01.888Z"
   },
   {
    "duration": 21,
    "start_time": "2023-08-22T19:32:10.649Z"
   },
   {
    "duration": 218,
    "start_time": "2023-08-22T19:32:10.672Z"
   },
   {
    "duration": 19,
    "start_time": "2023-08-22T19:32:10.893Z"
   },
   {
    "duration": 20,
    "start_time": "2023-08-22T19:32:10.914Z"
   },
   {
    "duration": 22,
    "start_time": "2023-08-22T19:32:10.936Z"
   },
   {
    "duration": 37,
    "start_time": "2023-08-22T19:32:10.960Z"
   },
   {
    "duration": 18,
    "start_time": "2023-08-22T19:32:10.998Z"
   },
   {
    "duration": 16,
    "start_time": "2023-08-22T19:32:11.018Z"
   },
   {
    "duration": 12,
    "start_time": "2023-08-22T19:32:11.036Z"
   },
   {
    "duration": 9,
    "start_time": "2023-08-22T19:32:11.049Z"
   },
   {
    "duration": 11,
    "start_time": "2023-08-22T19:32:11.060Z"
   },
   {
    "duration": 8,
    "start_time": "2023-08-22T19:32:11.073Z"
   },
   {
    "duration": 6,
    "start_time": "2023-08-22T19:32:20.239Z"
   },
   {
    "duration": 16,
    "start_time": "2023-08-22T19:32:20.590Z"
   },
   {
    "duration": 9,
    "start_time": "2023-08-22T19:33:29.685Z"
   },
   {
    "duration": 16,
    "start_time": "2023-08-22T19:33:34.374Z"
   },
   {
    "duration": 14,
    "start_time": "2023-08-22T19:33:44.695Z"
   },
   {
    "duration": 8,
    "start_time": "2023-08-22T19:34:37.785Z"
   },
   {
    "duration": 6,
    "start_time": "2023-08-22T19:34:52.837Z"
   },
   {
    "duration": 16,
    "start_time": "2023-08-22T19:34:54.523Z"
   },
   {
    "duration": 19,
    "start_time": "2023-08-22T19:35:01.837Z"
   },
   {
    "duration": 18,
    "start_time": "2023-08-22T19:36:31.837Z"
   },
   {
    "duration": 13,
    "start_time": "2023-08-22T19:36:45.942Z"
   },
   {
    "duration": 18,
    "start_time": "2023-08-22T19:37:32.816Z"
   },
   {
    "duration": 15,
    "start_time": "2023-08-22T19:37:33.917Z"
   },
   {
    "duration": 102,
    "start_time": "2023-08-22T19:38:26.687Z"
   },
   {
    "duration": 19,
    "start_time": "2023-08-22T19:38:27.421Z"
   },
   {
    "duration": 17,
    "start_time": "2023-08-22T19:38:35.252Z"
   },
   {
    "duration": 13,
    "start_time": "2023-08-22T19:38:36.384Z"
   },
   {
    "duration": 6,
    "start_time": "2023-08-22T19:39:51.296Z"
   },
   {
    "duration": 18,
    "start_time": "2023-08-22T19:40:00.390Z"
   },
   {
    "duration": 5,
    "start_time": "2023-08-22T19:40:08.143Z"
   },
   {
    "duration": 19,
    "start_time": "2023-08-22T19:40:10.307Z"
   },
   {
    "duration": 15,
    "start_time": "2023-08-22T19:40:17.552Z"
   },
   {
    "duration": 5,
    "start_time": "2023-08-22T19:41:32.824Z"
   },
   {
    "duration": 113,
    "start_time": "2023-08-22T19:41:58.155Z"
   },
   {
    "duration": 11,
    "start_time": "2023-08-22T19:42:04.925Z"
   },
   {
    "duration": 7,
    "start_time": "2023-08-22T19:42:19.059Z"
   },
   {
    "duration": 6,
    "start_time": "2023-08-22T19:43:11.603Z"
   },
   {
    "duration": 8,
    "start_time": "2023-08-22T19:43:15.107Z"
   },
   {
    "duration": 8958,
    "start_time": "2023-08-22T19:44:02.598Z"
   },
   {
    "duration": 20,
    "start_time": "2023-08-22T19:44:11.558Z"
   },
   {
    "duration": 207,
    "start_time": "2023-08-22T19:44:11.579Z"
   },
   {
    "duration": 15,
    "start_time": "2023-08-22T19:44:11.789Z"
   },
   {
    "duration": 15,
    "start_time": "2023-08-22T19:44:11.805Z"
   },
   {
    "duration": 11,
    "start_time": "2023-08-22T19:44:11.821Z"
   },
   {
    "duration": 13,
    "start_time": "2023-08-22T19:44:11.833Z"
   },
   {
    "duration": 26,
    "start_time": "2023-08-22T19:44:11.848Z"
   },
   {
    "duration": 16,
    "start_time": "2023-08-22T19:44:11.875Z"
   },
   {
    "duration": 14,
    "start_time": "2023-08-22T19:44:11.893Z"
   },
   {
    "duration": 11,
    "start_time": "2023-08-22T19:44:11.909Z"
   },
   {
    "duration": 12,
    "start_time": "2023-08-22T19:44:11.922Z"
   },
   {
    "duration": 35,
    "start_time": "2023-08-22T19:44:11.935Z"
   },
   {
    "duration": 6,
    "start_time": "2023-08-22T19:45:23.334Z"
   },
   {
    "duration": 19,
    "start_time": "2023-08-22T19:45:25.004Z"
   },
   {
    "duration": 20,
    "start_time": "2023-08-22T19:45:31.543Z"
   },
   {
    "duration": 9,
    "start_time": "2023-08-22T19:45:32.080Z"
   },
   {
    "duration": 20,
    "start_time": "2023-08-22T19:45:32.744Z"
   },
   {
    "duration": 21,
    "start_time": "2023-08-22T19:45:34.922Z"
   },
   {
    "duration": 15,
    "start_time": "2023-08-22T19:45:40.480Z"
   },
   {
    "duration": 7,
    "start_time": "2023-08-22T19:45:41.232Z"
   },
   {
    "duration": 10,
    "start_time": "2023-08-22T19:45:45.223Z"
   },
   {
    "duration": 5,
    "start_time": "2023-08-22T19:52:04.312Z"
   },
   {
    "duration": 5,
    "start_time": "2023-08-22T19:52:04.532Z"
   },
   {
    "duration": 146,
    "start_time": "2023-08-22T19:52:06.442Z"
   },
   {
    "duration": 9,
    "start_time": "2023-08-22T20:00:45.576Z"
   },
   {
    "duration": 9,
    "start_time": "2023-08-22T20:00:52.015Z"
   },
   {
    "duration": 4,
    "start_time": "2023-08-22T20:00:52.346Z"
   },
   {
    "duration": 5,
    "start_time": "2023-08-22T20:00:52.609Z"
   },
   {
    "duration": 10,
    "start_time": "2023-08-22T20:00:52.931Z"
   },
   {
    "duration": 9950,
    "start_time": "2023-08-22T20:01:27.945Z"
   },
   {
    "duration": 23,
    "start_time": "2023-08-22T20:01:37.897Z"
   },
   {
    "duration": 250,
    "start_time": "2023-08-22T20:01:37.922Z"
   },
   {
    "duration": 16,
    "start_time": "2023-08-22T20:01:38.174Z"
   },
   {
    "duration": 21,
    "start_time": "2023-08-22T20:01:38.192Z"
   },
   {
    "duration": 18,
    "start_time": "2023-08-22T20:01:38.215Z"
   },
   {
    "duration": 22,
    "start_time": "2023-08-22T20:01:38.235Z"
   },
   {
    "duration": 17,
    "start_time": "2023-08-22T20:01:38.259Z"
   },
   {
    "duration": 63,
    "start_time": "2023-08-22T20:01:38.278Z"
   },
   {
    "duration": 18,
    "start_time": "2023-08-22T20:01:38.343Z"
   },
   {
    "duration": 25,
    "start_time": "2023-08-22T20:01:38.363Z"
   },
   {
    "duration": 12,
    "start_time": "2023-08-22T20:01:38.390Z"
   },
   {
    "duration": 8,
    "start_time": "2023-08-22T20:01:38.403Z"
   },
   {
    "duration": 6,
    "start_time": "2023-08-22T20:01:40.939Z"
   },
   {
    "duration": 7,
    "start_time": "2023-08-22T20:01:41.114Z"
   },
   {
    "duration": 4,
    "start_time": "2023-08-22T20:01:41.279Z"
   },
   {
    "duration": 11,
    "start_time": "2023-08-22T20:01:41.425Z"
   },
   {
    "duration": 6,
    "start_time": "2023-08-22T20:01:41.581Z"
   },
   {
    "duration": 5,
    "start_time": "2023-08-22T20:01:42.909Z"
   },
   {
    "duration": 21,
    "start_time": "2023-08-22T20:01:47.890Z"
   },
   {
    "duration": 13,
    "start_time": "2023-08-22T20:01:50.986Z"
   },
   {
    "duration": 13,
    "start_time": "2023-08-22T20:01:53.733Z"
   },
   {
    "duration": 13,
    "start_time": "2023-08-22T20:01:57.482Z"
   },
   {
    "duration": 3,
    "start_time": "2023-08-22T20:02:16.912Z"
   },
   {
    "duration": 4,
    "start_time": "2023-08-22T20:02:17.200Z"
   },
   {
    "duration": 7,
    "start_time": "2023-08-22T20:02:17.484Z"
   },
   {
    "duration": 9,
    "start_time": "2023-08-22T20:02:19.375Z"
   },
   {
    "duration": 36,
    "start_time": "2023-08-22T20:02:24.421Z"
   },
   {
    "duration": 115,
    "start_time": "2023-08-22T20:02:33.728Z"
   },
   {
    "duration": 8804,
    "start_time": "2023-08-22T20:02:43.411Z"
   },
   {
    "duration": 23,
    "start_time": "2023-08-22T20:02:52.217Z"
   },
   {
    "duration": 247,
    "start_time": "2023-08-22T20:02:52.242Z"
   },
   {
    "duration": 19,
    "start_time": "2023-08-22T20:02:52.490Z"
   },
   {
    "duration": 13,
    "start_time": "2023-08-22T20:02:52.511Z"
   },
   {
    "duration": 19,
    "start_time": "2023-08-22T20:02:52.526Z"
   },
   {
    "duration": 25,
    "start_time": "2023-08-22T20:02:52.547Z"
   },
   {
    "duration": 47,
    "start_time": "2023-08-22T20:02:52.574Z"
   },
   {
    "duration": 29,
    "start_time": "2023-08-22T20:02:52.623Z"
   },
   {
    "duration": 23,
    "start_time": "2023-08-22T20:02:52.654Z"
   },
   {
    "duration": 12,
    "start_time": "2023-08-22T20:02:52.679Z"
   },
   {
    "duration": 20,
    "start_time": "2023-08-22T20:02:52.693Z"
   },
   {
    "duration": 11,
    "start_time": "2023-08-22T20:02:52.715Z"
   },
   {
    "duration": 9,
    "start_time": "2023-08-22T20:02:52.729Z"
   },
   {
    "duration": 31,
    "start_time": "2023-08-22T20:02:52.740Z"
   },
   {
    "duration": 40,
    "start_time": "2023-08-22T20:02:52.773Z"
   },
   {
    "duration": 13,
    "start_time": "2023-08-22T20:02:52.815Z"
   },
   {
    "duration": 25,
    "start_time": "2023-08-22T20:02:52.830Z"
   },
   {
    "duration": 30,
    "start_time": "2023-08-22T20:02:52.856Z"
   },
   {
    "duration": 23,
    "start_time": "2023-08-22T20:02:52.888Z"
   },
   {
    "duration": 11,
    "start_time": "2023-08-22T20:02:52.913Z"
   },
   {
    "duration": 12,
    "start_time": "2023-08-22T20:02:52.926Z"
   },
   {
    "duration": 0,
    "start_time": "2023-08-22T20:02:53.077Z"
   },
   {
    "duration": 0,
    "start_time": "2023-08-22T20:02:53.079Z"
   },
   {
    "duration": 40,
    "start_time": "2023-08-22T20:02:57.478Z"
   },
   {
    "duration": 50,
    "start_time": "2023-08-22T20:02:57.713Z"
   },
   {
    "duration": 38,
    "start_time": "2023-08-22T20:03:04.180Z"
   },
   {
    "duration": 23,
    "start_time": "2023-08-22T20:03:34.743Z"
   },
   {
    "duration": 5,
    "start_time": "2023-08-22T20:03:56.471Z"
   },
   {
    "duration": 15,
    "start_time": "2023-08-22T20:05:06.930Z"
   },
   {
    "duration": 7,
    "start_time": "2023-08-22T20:07:14.041Z"
   },
   {
    "duration": 7,
    "start_time": "2023-08-22T20:07:30.992Z"
   },
   {
    "duration": 6,
    "start_time": "2023-08-22T20:07:31.191Z"
   },
   {
    "duration": 6,
    "start_time": "2023-08-22T20:07:31.590Z"
   },
   {
    "duration": 8,
    "start_time": "2023-08-22T20:07:49.396Z"
   },
   {
    "duration": 14,
    "start_time": "2023-08-22T20:09:56.121Z"
   },
   {
    "duration": 39,
    "start_time": "2023-08-22T20:09:56.336Z"
   },
   {
    "duration": 22,
    "start_time": "2023-08-22T20:09:56.549Z"
   },
   {
    "duration": 16,
    "start_time": "2023-08-22T20:09:59.923Z"
   },
   {
    "duration": 49,
    "start_time": "2023-08-22T21:12:37.167Z"
   },
   {
    "duration": 10060,
    "start_time": "2023-08-22T21:13:29.465Z"
   },
   {
    "duration": 105,
    "start_time": "2023-08-22T21:13:46.015Z"
   },
   {
    "duration": 10887,
    "start_time": "2023-08-22T21:15:04.846Z"
   },
   {
    "duration": 22,
    "start_time": "2023-08-22T21:15:15.735Z"
   },
   {
    "duration": 312,
    "start_time": "2023-08-22T21:15:15.759Z"
   },
   {
    "duration": 27,
    "start_time": "2023-08-22T21:15:16.074Z"
   },
   {
    "duration": 17,
    "start_time": "2023-08-22T21:15:16.103Z"
   },
   {
    "duration": 62,
    "start_time": "2023-08-22T21:15:16.122Z"
   },
   {
    "duration": 14,
    "start_time": "2023-08-22T21:15:16.187Z"
   },
   {
    "duration": 32,
    "start_time": "2023-08-22T21:15:16.203Z"
   },
   {
    "duration": 30,
    "start_time": "2023-08-22T21:15:16.237Z"
   },
   {
    "duration": 15,
    "start_time": "2023-08-22T21:15:16.271Z"
   },
   {
    "duration": 26,
    "start_time": "2023-08-22T21:15:16.289Z"
   },
   {
    "duration": 30,
    "start_time": "2023-08-22T21:15:16.317Z"
   },
   {
    "duration": 23,
    "start_time": "2023-08-22T21:15:16.349Z"
   },
   {
    "duration": 15,
    "start_time": "2023-08-22T21:15:16.374Z"
   },
   {
    "duration": 10,
    "start_time": "2023-08-22T21:15:16.393Z"
   },
   {
    "duration": 5,
    "start_time": "2023-08-22T21:15:16.406Z"
   },
   {
    "duration": 24,
    "start_time": "2023-08-22T21:15:16.413Z"
   },
   {
    "duration": 28,
    "start_time": "2023-08-22T21:15:16.439Z"
   },
   {
    "duration": 4,
    "start_time": "2023-08-22T21:15:16.468Z"
   },
   {
    "duration": 14,
    "start_time": "2023-08-22T21:15:16.473Z"
   },
   {
    "duration": 8,
    "start_time": "2023-08-22T21:15:16.489Z"
   },
   {
    "duration": 17,
    "start_time": "2023-08-22T21:15:16.499Z"
   },
   {
    "duration": 75,
    "start_time": "2023-08-22T21:15:16.519Z"
   },
   {
    "duration": 25,
    "start_time": "2023-08-22T21:15:16.597Z"
   },
   {
    "duration": 29,
    "start_time": "2023-08-22T21:15:16.624Z"
   },
   {
    "duration": 33,
    "start_time": "2023-08-22T21:15:16.655Z"
   },
   {
    "duration": 50,
    "start_time": "2023-08-22T21:15:16.690Z"
   },
   {
    "duration": 34,
    "start_time": "2023-08-22T21:15:16.743Z"
   },
   {
    "duration": 1196,
    "start_time": "2023-08-22T21:18:16.165Z"
   },
   {
    "duration": 130060,
    "start_time": "2023-08-22T21:18:39.770Z"
   },
   {
    "duration": 22,
    "start_time": "2023-08-22T21:20:49.832Z"
   },
   {
    "duration": 1595,
    "start_time": "2023-08-22T21:21:07.468Z"
   },
   {
    "duration": 132019,
    "start_time": "2023-08-22T21:23:18.302Z"
   },
   {
    "duration": 650,
    "start_time": "2023-08-22T21:27:04.783Z"
   },
   {
    "duration": 16,
    "start_time": "2023-08-22T21:28:05.671Z"
   },
   {
    "duration": 1005,
    "start_time": "2023-08-22T21:45:40.055Z"
   },
   {
    "duration": 812,
    "start_time": "2023-08-22T21:45:46.437Z"
   },
   {
    "duration": 2726,
    "start_time": "2023-08-22T21:45:52.135Z"
   },
   {
    "duration": 887,
    "start_time": "2023-08-22T21:46:00.080Z"
   },
   {
    "duration": 1053,
    "start_time": "2023-08-22T21:46:05.877Z"
   },
   {
    "duration": 1862,
    "start_time": "2023-08-22T21:47:13.035Z"
   },
   {
    "duration": 1177,
    "start_time": "2023-08-22T21:47:51.872Z"
   },
   {
    "duration": 1813,
    "start_time": "2023-08-22T21:47:56.170Z"
   },
   {
    "duration": 1341,
    "start_time": "2023-08-22T21:48:01.116Z"
   },
   {
    "duration": 1369,
    "start_time": "2023-08-22T21:48:06.613Z"
   },
   {
    "duration": 866,
    "start_time": "2023-08-22T21:48:13.237Z"
   },
   {
    "duration": 1144,
    "start_time": "2023-08-22T21:48:16.418Z"
   },
   {
    "duration": 2258,
    "start_time": "2023-08-22T21:49:00.187Z"
   },
   {
    "duration": 2347,
    "start_time": "2023-08-22T21:49:16.538Z"
   },
   {
    "duration": 3,
    "start_time": "2023-08-22T21:50:02.079Z"
   },
   {
    "duration": 1572,
    "start_time": "2023-08-22T21:50:03.915Z"
   },
   {
    "duration": 49,
    "start_time": "2023-08-22T21:54:41.114Z"
   },
   {
    "duration": 8,
    "start_time": "2023-08-22T21:55:31.034Z"
   },
   {
    "duration": 119,
    "start_time": "2023-08-22T21:55:47.987Z"
   },
   {
    "duration": 13,
    "start_time": "2023-08-22T21:55:57.446Z"
   },
   {
    "duration": 102,
    "start_time": "2023-08-22T21:56:32.486Z"
   },
   {
    "duration": 92,
    "start_time": "2023-08-22T21:57:15.498Z"
   },
   {
    "duration": 136,
    "start_time": "2023-08-22T21:57:21.025Z"
   },
   {
    "duration": 81,
    "start_time": "2023-08-22T21:57:31.350Z"
   },
   {
    "duration": 78,
    "start_time": "2023-08-22T21:57:56.886Z"
   },
   {
    "duration": 83,
    "start_time": "2023-08-22T21:58:07.821Z"
   },
   {
    "duration": 82,
    "start_time": "2023-08-22T21:58:11.904Z"
   },
   {
    "duration": 84,
    "start_time": "2023-08-22T21:58:17.303Z"
   },
   {
    "duration": 5,
    "start_time": "2023-08-22T22:02:17.174Z"
   },
   {
    "duration": 10,
    "start_time": "2023-08-22T22:02:37.169Z"
   },
   {
    "duration": 5,
    "start_time": "2023-08-22T22:03:46.307Z"
   },
   {
    "duration": 25,
    "start_time": "2023-08-22T22:03:55.777Z"
   },
   {
    "duration": 26,
    "start_time": "2023-08-22T22:14:45.672Z"
   },
   {
    "duration": 26,
    "start_time": "2023-08-22T22:16:06.069Z"
   },
   {
    "duration": 12,
    "start_time": "2023-08-22T22:16:23.067Z"
   },
   {
    "duration": 4,
    "start_time": "2023-08-22T22:16:37.323Z"
   },
   {
    "duration": 10,
    "start_time": "2023-08-22T22:16:43.579Z"
   },
   {
    "duration": 23,
    "start_time": "2023-08-22T22:16:45.078Z"
   },
   {
    "duration": 23,
    "start_time": "2023-08-22T22:16:45.294Z"
   },
   {
    "duration": 10373,
    "start_time": "2023-08-22T22:17:03.787Z"
   },
   {
    "duration": 26,
    "start_time": "2023-08-22T22:17:14.163Z"
   },
   {
    "duration": 255,
    "start_time": "2023-08-22T22:17:14.191Z"
   },
   {
    "duration": 16,
    "start_time": "2023-08-22T22:17:14.448Z"
   },
   {
    "duration": 16,
    "start_time": "2023-08-22T22:17:14.466Z"
   },
   {
    "duration": 19,
    "start_time": "2023-08-22T22:17:14.483Z"
   },
   {
    "duration": 25,
    "start_time": "2023-08-22T22:17:14.504Z"
   },
   {
    "duration": 15,
    "start_time": "2023-08-22T22:17:14.532Z"
   },
   {
    "duration": 15,
    "start_time": "2023-08-22T22:17:14.566Z"
   },
   {
    "duration": 12,
    "start_time": "2023-08-22T22:17:14.584Z"
   },
   {
    "duration": 18,
    "start_time": "2023-08-22T22:17:14.598Z"
   },
   {
    "duration": 15,
    "start_time": "2023-08-22T22:17:14.618Z"
   },
   {
    "duration": 38,
    "start_time": "2023-08-22T22:17:14.635Z"
   },
   {
    "duration": 14,
    "start_time": "2023-08-22T22:17:14.675Z"
   },
   {
    "duration": 29,
    "start_time": "2023-08-22T22:17:14.691Z"
   },
   {
    "duration": 23,
    "start_time": "2023-08-22T22:17:14.722Z"
   },
   {
    "duration": 19,
    "start_time": "2023-08-22T22:17:14.747Z"
   },
   {
    "duration": 35,
    "start_time": "2023-08-22T22:17:14.768Z"
   },
   {
    "duration": 11,
    "start_time": "2023-08-22T22:17:14.805Z"
   },
   {
    "duration": 22,
    "start_time": "2023-08-22T22:17:14.818Z"
   },
   {
    "duration": 16,
    "start_time": "2023-08-22T22:17:14.843Z"
   },
   {
    "duration": 14,
    "start_time": "2023-08-22T22:17:14.861Z"
   },
   {
    "duration": 78,
    "start_time": "2023-08-22T22:17:14.877Z"
   },
   {
    "duration": 21,
    "start_time": "2023-08-22T22:17:14.957Z"
   },
   {
    "duration": 18,
    "start_time": "2023-08-22T22:17:14.979Z"
   },
   {
    "duration": 55,
    "start_time": "2023-08-22T22:17:15.000Z"
   },
   {
    "duration": 50,
    "start_time": "2023-08-22T22:17:15.057Z"
   },
   {
    "duration": 16,
    "start_time": "2023-08-22T22:17:15.110Z"
   },
   {
    "duration": 32,
    "start_time": "2023-08-22T22:17:15.127Z"
   },
   {
    "duration": 1248,
    "start_time": "2023-08-22T22:17:15.167Z"
   },
   {
    "duration": 1408,
    "start_time": "2023-08-22T22:17:16.417Z"
   },
   {
    "duration": 1814,
    "start_time": "2023-08-22T22:17:17.827Z"
   },
   {
    "duration": 66,
    "start_time": "2023-08-22T22:17:19.643Z"
   },
   {
    "duration": 94,
    "start_time": "2023-08-22T22:17:19.711Z"
   },
   {
    "duration": 10,
    "start_time": "2023-08-22T22:17:19.807Z"
   },
   {
    "duration": 21,
    "start_time": "2023-08-22T22:17:19.819Z"
   },
   {
    "duration": 164,
    "start_time": "2023-08-22T22:17:19.842Z"
   },
   {
    "duration": 15,
    "start_time": "2023-08-22T22:17:46.887Z"
   },
   {
    "duration": 7,
    "start_time": "2023-08-22T22:19:07.783Z"
   },
   {
    "duration": 7,
    "start_time": "2023-08-22T22:19:13.418Z"
   },
   {
    "duration": 7,
    "start_time": "2023-08-22T22:19:19.005Z"
   },
   {
    "duration": 10264,
    "start_time": "2023-08-22T22:21:37.326Z"
   },
   {
    "duration": 21,
    "start_time": "2023-08-22T22:21:47.592Z"
   },
   {
    "duration": 218,
    "start_time": "2023-08-22T22:21:47.614Z"
   },
   {
    "duration": 15,
    "start_time": "2023-08-22T22:21:47.834Z"
   },
   {
    "duration": 14,
    "start_time": "2023-08-22T22:21:47.851Z"
   },
   {
    "duration": 25,
    "start_time": "2023-08-22T22:21:47.867Z"
   },
   {
    "duration": 18,
    "start_time": "2023-08-22T22:21:47.894Z"
   },
   {
    "duration": 36,
    "start_time": "2023-08-22T22:21:47.913Z"
   },
   {
    "duration": 28,
    "start_time": "2023-08-22T22:21:47.950Z"
   },
   {
    "duration": 19,
    "start_time": "2023-08-22T22:21:47.982Z"
   },
   {
    "duration": 26,
    "start_time": "2023-08-22T22:21:48.002Z"
   },
   {
    "duration": 43,
    "start_time": "2023-08-22T22:21:48.029Z"
   },
   {
    "duration": 27,
    "start_time": "2023-08-22T22:21:48.074Z"
   },
   {
    "duration": 17,
    "start_time": "2023-08-22T22:21:48.102Z"
   },
   {
    "duration": 12,
    "start_time": "2023-08-22T22:21:48.121Z"
   },
   {
    "duration": 10,
    "start_time": "2023-08-22T22:21:48.134Z"
   },
   {
    "duration": 22,
    "start_time": "2023-08-22T22:21:48.146Z"
   },
   {
    "duration": 6,
    "start_time": "2023-08-22T22:21:48.169Z"
   },
   {
    "duration": 23,
    "start_time": "2023-08-22T22:21:48.176Z"
   },
   {
    "duration": 37,
    "start_time": "2023-08-22T22:21:48.200Z"
   },
   {
    "duration": 59,
    "start_time": "2023-08-22T22:21:48.239Z"
   },
   {
    "duration": 108,
    "start_time": "2023-08-22T22:21:48.300Z"
   },
   {
    "duration": 39,
    "start_time": "2023-08-22T22:21:48.409Z"
   },
   {
    "duration": 20,
    "start_time": "2023-08-22T22:21:48.450Z"
   },
   {
    "duration": 5,
    "start_time": "2023-08-22T22:21:48.472Z"
   },
   {
    "duration": 49,
    "start_time": "2023-08-22T22:21:48.479Z"
   },
   {
    "duration": 35,
    "start_time": "2023-08-22T22:21:48.530Z"
   },
   {
    "duration": 52,
    "start_time": "2023-08-22T22:21:48.569Z"
   },
   {
    "duration": 39,
    "start_time": "2023-08-22T22:21:48.624Z"
   },
   {
    "duration": 1255,
    "start_time": "2023-08-22T22:21:48.665Z"
   },
   {
    "duration": 1394,
    "start_time": "2023-08-22T22:21:49.922Z"
   },
   {
    "duration": 1716,
    "start_time": "2023-08-22T22:21:51.318Z"
   },
   {
    "duration": 63,
    "start_time": "2023-08-22T22:21:53.036Z"
   },
   {
    "duration": 104,
    "start_time": "2023-08-22T22:21:53.101Z"
   },
   {
    "duration": 13,
    "start_time": "2023-08-22T22:21:53.207Z"
   },
   {
    "duration": 47,
    "start_time": "2023-08-22T22:21:53.222Z"
   },
   {
    "duration": 16,
    "start_time": "2023-08-22T22:21:53.271Z"
   },
   {
    "duration": 6,
    "start_time": "2023-08-22T22:21:53.289Z"
   },
   {
    "duration": 152,
    "start_time": "2023-08-22T22:21:53.297Z"
   },
   {
    "duration": 41,
    "start_time": "2023-08-22T22:22:23.391Z"
   },
   {
    "duration": 36,
    "start_time": "2023-08-22T22:23:09.468Z"
   },
   {
    "duration": 57,
    "start_time": "2023-08-22T22:23:27.004Z"
   },
   {
    "duration": 49,
    "start_time": "2023-08-22T22:23:31.906Z"
   },
   {
    "duration": 47,
    "start_time": "2023-08-22T22:24:09.314Z"
   },
   {
    "duration": 27,
    "start_time": "2023-08-22T22:24:18.757Z"
   },
   {
    "duration": 12,
    "start_time": "2023-08-22T22:24:31.709Z"
   },
   {
    "duration": 48,
    "start_time": "2023-08-22T22:26:16.314Z"
   },
   {
    "duration": 9083,
    "start_time": "2023-08-22T22:26:22.713Z"
   },
   {
    "duration": 24,
    "start_time": "2023-08-22T22:26:31.799Z"
   },
   {
    "duration": 212,
    "start_time": "2023-08-22T22:26:31.824Z"
   },
   {
    "duration": 15,
    "start_time": "2023-08-22T22:26:32.038Z"
   },
   {
    "duration": 24,
    "start_time": "2023-08-22T22:26:32.055Z"
   },
   {
    "duration": 28,
    "start_time": "2023-08-22T22:26:32.080Z"
   },
   {
    "duration": 24,
    "start_time": "2023-08-22T22:26:32.110Z"
   },
   {
    "duration": 10,
    "start_time": "2023-08-22T22:26:32.136Z"
   },
   {
    "duration": 45,
    "start_time": "2023-08-22T22:26:32.148Z"
   },
   {
    "duration": 14,
    "start_time": "2023-08-22T22:26:32.195Z"
   },
   {
    "duration": 25,
    "start_time": "2023-08-22T22:26:32.211Z"
   },
   {
    "duration": 24,
    "start_time": "2023-08-22T22:26:32.238Z"
   },
   {
    "duration": 32,
    "start_time": "2023-08-22T22:26:32.264Z"
   },
   {
    "duration": 7,
    "start_time": "2023-08-22T22:26:32.301Z"
   },
   {
    "duration": 15,
    "start_time": "2023-08-22T22:26:32.310Z"
   },
   {
    "duration": 8,
    "start_time": "2023-08-22T22:26:32.327Z"
   },
   {
    "duration": 22,
    "start_time": "2023-08-22T22:26:32.338Z"
   },
   {
    "duration": 10,
    "start_time": "2023-08-22T22:26:32.362Z"
   },
   {
    "duration": 17,
    "start_time": "2023-08-22T22:26:32.374Z"
   },
   {
    "duration": 9,
    "start_time": "2023-08-22T22:26:32.393Z"
   },
   {
    "duration": 11,
    "start_time": "2023-08-22T22:26:32.404Z"
   },
   {
    "duration": 22,
    "start_time": "2023-08-22T22:26:32.417Z"
   },
   {
    "duration": 51,
    "start_time": "2023-08-22T22:26:32.441Z"
   },
   {
    "duration": 21,
    "start_time": "2023-08-22T22:26:32.494Z"
   },
   {
    "duration": 8,
    "start_time": "2023-08-22T22:26:32.517Z"
   },
   {
    "duration": 46,
    "start_time": "2023-08-22T22:26:32.527Z"
   },
   {
    "duration": 34,
    "start_time": "2023-08-22T22:26:32.575Z"
   },
   {
    "duration": 14,
    "start_time": "2023-08-22T22:26:32.611Z"
   },
   {
    "duration": 47,
    "start_time": "2023-08-22T22:26:32.627Z"
   },
   {
    "duration": 1147,
    "start_time": "2023-08-22T22:26:32.676Z"
   },
   {
    "duration": 1402,
    "start_time": "2023-08-22T22:26:33.825Z"
   },
   {
    "duration": 1663,
    "start_time": "2023-08-22T22:26:35.229Z"
   },
   {
    "duration": 76,
    "start_time": "2023-08-22T22:26:36.894Z"
   },
   {
    "duration": 99,
    "start_time": "2023-08-22T22:26:36.972Z"
   },
   {
    "duration": 4,
    "start_time": "2023-08-22T22:26:37.073Z"
   },
   {
    "duration": 56,
    "start_time": "2023-08-22T22:26:37.078Z"
   },
   {
    "duration": 11,
    "start_time": "2023-08-22T22:26:37.136Z"
   },
   {
    "duration": 5,
    "start_time": "2023-08-22T22:29:39.226Z"
   },
   {
    "duration": 75,
    "start_time": "2023-08-22T22:29:54.768Z"
   },
   {
    "duration": 6,
    "start_time": "2023-08-22T22:29:58.036Z"
   },
   {
    "duration": 6,
    "start_time": "2023-08-22T22:30:03.810Z"
   },
   {
    "duration": 7,
    "start_time": "2023-08-22T22:30:54.829Z"
   },
   {
    "duration": 6,
    "start_time": "2023-08-22T22:31:36.613Z"
   },
   {
    "duration": 15,
    "start_time": "2023-08-22T22:31:46.845Z"
   },
   {
    "duration": 122,
    "start_time": "2023-08-22T22:31:51.166Z"
   },
   {
    "duration": 19,
    "start_time": "2023-08-22T22:32:10.006Z"
   },
   {
    "duration": 9992,
    "start_time": "2023-08-22T22:32:26.314Z"
   },
   {
    "duration": 22,
    "start_time": "2023-08-22T22:32:36.308Z"
   },
   {
    "duration": 213,
    "start_time": "2023-08-22T22:32:36.331Z"
   },
   {
    "duration": 16,
    "start_time": "2023-08-22T22:32:36.546Z"
   },
   {
    "duration": 16,
    "start_time": "2023-08-22T22:32:36.564Z"
   },
   {
    "duration": 15,
    "start_time": "2023-08-22T22:32:36.582Z"
   },
   {
    "duration": 14,
    "start_time": "2023-08-22T22:32:36.600Z"
   },
   {
    "duration": 16,
    "start_time": "2023-08-22T22:32:36.616Z"
   },
   {
    "duration": 44,
    "start_time": "2023-08-22T22:32:36.634Z"
   },
   {
    "duration": 25,
    "start_time": "2023-08-22T22:32:36.680Z"
   },
   {
    "duration": 18,
    "start_time": "2023-08-22T22:32:36.707Z"
   },
   {
    "duration": 12,
    "start_time": "2023-08-22T22:32:36.726Z"
   },
   {
    "duration": 32,
    "start_time": "2023-08-22T22:32:36.740Z"
   },
   {
    "duration": 7,
    "start_time": "2023-08-22T22:32:36.775Z"
   },
   {
    "duration": 25,
    "start_time": "2023-08-22T22:32:36.784Z"
   },
   {
    "duration": 38,
    "start_time": "2023-08-22T22:32:36.811Z"
   },
   {
    "duration": 19,
    "start_time": "2023-08-22T22:32:36.852Z"
   },
   {
    "duration": 8,
    "start_time": "2023-08-22T22:32:36.873Z"
   },
   {
    "duration": 131,
    "start_time": "2023-08-22T22:32:36.883Z"
   },
   {
    "duration": 0,
    "start_time": "2023-08-22T22:32:37.016Z"
   },
   {
    "duration": 0,
    "start_time": "2023-08-22T22:32:37.017Z"
   },
   {
    "duration": 0,
    "start_time": "2023-08-22T22:32:37.018Z"
   },
   {
    "duration": 0,
    "start_time": "2023-08-22T22:32:37.020Z"
   },
   {
    "duration": 0,
    "start_time": "2023-08-22T22:32:37.021Z"
   },
   {
    "duration": 0,
    "start_time": "2023-08-22T22:32:37.022Z"
   },
   {
    "duration": 0,
    "start_time": "2023-08-22T22:32:37.023Z"
   },
   {
    "duration": 0,
    "start_time": "2023-08-22T22:32:37.024Z"
   },
   {
    "duration": 0,
    "start_time": "2023-08-22T22:32:37.025Z"
   },
   {
    "duration": 0,
    "start_time": "2023-08-22T22:32:37.027Z"
   },
   {
    "duration": 0,
    "start_time": "2023-08-22T22:32:37.028Z"
   },
   {
    "duration": 0,
    "start_time": "2023-08-22T22:32:37.029Z"
   },
   {
    "duration": 0,
    "start_time": "2023-08-22T22:32:37.030Z"
   },
   {
    "duration": 0,
    "start_time": "2023-08-22T22:32:37.031Z"
   },
   {
    "duration": 0,
    "start_time": "2023-08-22T22:32:37.033Z"
   },
   {
    "duration": 0,
    "start_time": "2023-08-22T22:32:37.034Z"
   },
   {
    "duration": 0,
    "start_time": "2023-08-22T22:32:37.067Z"
   },
   {
    "duration": 0,
    "start_time": "2023-08-22T22:32:37.068Z"
   },
   {
    "duration": 0,
    "start_time": "2023-08-22T22:32:37.070Z"
   },
   {
    "duration": 0,
    "start_time": "2023-08-22T22:32:37.070Z"
   },
   {
    "duration": 0,
    "start_time": "2023-08-22T22:32:37.071Z"
   },
   {
    "duration": 0,
    "start_time": "2023-08-22T22:32:37.073Z"
   },
   {
    "duration": 10245,
    "start_time": "2023-08-22T22:33:12.631Z"
   },
   {
    "duration": 24,
    "start_time": "2023-08-22T22:33:22.879Z"
   },
   {
    "duration": 205,
    "start_time": "2023-08-22T22:33:22.905Z"
   },
   {
    "duration": 16,
    "start_time": "2023-08-22T22:33:23.113Z"
   },
   {
    "duration": 37,
    "start_time": "2023-08-22T22:33:23.131Z"
   },
   {
    "duration": 49,
    "start_time": "2023-08-22T22:33:23.170Z"
   },
   {
    "duration": 54,
    "start_time": "2023-08-22T22:33:23.221Z"
   },
   {
    "duration": 40,
    "start_time": "2023-08-22T22:33:23.278Z"
   },
   {
    "duration": 23,
    "start_time": "2023-08-22T22:33:23.320Z"
   },
   {
    "duration": 32,
    "start_time": "2023-08-22T22:33:23.346Z"
   },
   {
    "duration": 28,
    "start_time": "2023-08-22T22:33:23.380Z"
   },
   {
    "duration": 29,
    "start_time": "2023-08-22T22:33:23.410Z"
   },
   {
    "duration": 23,
    "start_time": "2023-08-22T22:33:23.441Z"
   },
   {
    "duration": 34,
    "start_time": "2023-08-22T22:33:23.466Z"
   },
   {
    "duration": 29,
    "start_time": "2023-08-22T22:33:23.502Z"
   },
   {
    "duration": 28,
    "start_time": "2023-08-22T22:33:23.533Z"
   },
   {
    "duration": 31,
    "start_time": "2023-08-22T22:33:23.563Z"
   },
   {
    "duration": 7,
    "start_time": "2023-08-22T22:33:23.596Z"
   },
   {
    "duration": 37,
    "start_time": "2023-08-22T22:33:23.604Z"
   },
   {
    "duration": 17,
    "start_time": "2023-08-22T22:33:23.643Z"
   },
   {
    "duration": 28,
    "start_time": "2023-08-22T22:33:23.662Z"
   },
   {
    "duration": 26,
    "start_time": "2023-08-22T22:33:23.692Z"
   },
   {
    "duration": 28,
    "start_time": "2023-08-22T22:33:23.720Z"
   },
   {
    "duration": 50,
    "start_time": "2023-08-22T22:33:23.750Z"
   },
   {
    "duration": 19,
    "start_time": "2023-08-22T22:33:23.802Z"
   },
   {
    "duration": 5,
    "start_time": "2023-08-22T22:33:23.823Z"
   },
   {
    "duration": 44,
    "start_time": "2023-08-22T22:33:23.830Z"
   },
   {
    "duration": 58,
    "start_time": "2023-08-22T22:33:23.880Z"
   },
   {
    "duration": 36,
    "start_time": "2023-08-22T22:33:23.940Z"
   },
   {
    "duration": 55,
    "start_time": "2023-08-22T22:33:23.978Z"
   },
   {
    "duration": 1155,
    "start_time": "2023-08-22T22:33:24.036Z"
   },
   {
    "duration": 1394,
    "start_time": "2023-08-22T22:33:25.192Z"
   },
   {
    "duration": 1640,
    "start_time": "2023-08-22T22:33:26.588Z"
   },
   {
    "duration": 67,
    "start_time": "2023-08-22T22:33:28.230Z"
   },
   {
    "duration": 5,
    "start_time": "2023-08-22T22:33:28.299Z"
   },
   {
    "duration": 112,
    "start_time": "2023-08-22T22:33:28.306Z"
   },
   {
    "duration": 2,
    "start_time": "2023-08-22T22:33:28.420Z"
   },
   {
    "duration": 10,
    "start_time": "2023-08-22T22:33:28.425Z"
   },
   {
    "duration": 12,
    "start_time": "2023-08-22T22:33:28.436Z"
   },
   {
    "duration": 33,
    "start_time": "2023-08-22T22:33:28.450Z"
   },
   {
    "duration": 140,
    "start_time": "2023-08-22T22:33:28.485Z"
   },
   {
    "duration": 26,
    "start_time": "2023-08-22T22:34:38.960Z"
   },
   {
    "duration": 50,
    "start_time": "2023-08-22T22:34:47.480Z"
   },
   {
    "duration": 10,
    "start_time": "2023-08-22T22:35:00.773Z"
   },
   {
    "duration": 13,
    "start_time": "2023-08-22T22:35:08.344Z"
   },
   {
    "duration": 12,
    "start_time": "2023-08-22T22:35:26.416Z"
   },
   {
    "duration": 51,
    "start_time": "2023-08-22T22:36:34.971Z"
   },
   {
    "duration": 7,
    "start_time": "2023-08-22T22:40:09.449Z"
   },
   {
    "duration": 46,
    "start_time": "2023-08-22T22:47:34.411Z"
   },
   {
    "duration": 24,
    "start_time": "2023-08-22T22:48:13.904Z"
   },
   {
    "duration": 12,
    "start_time": "2023-08-22T22:48:50.387Z"
   },
   {
    "duration": 5,
    "start_time": "2023-08-22T22:48:55.167Z"
   },
   {
    "duration": 17,
    "start_time": "2023-08-22T22:49:39.087Z"
   },
   {
    "duration": 18,
    "start_time": "2023-08-22T22:50:17.493Z"
   },
   {
    "duration": 9559,
    "start_time": "2023-08-22T22:50:54.865Z"
   },
   {
    "duration": 21,
    "start_time": "2023-08-22T22:51:04.426Z"
   },
   {
    "duration": 233,
    "start_time": "2023-08-22T22:51:04.450Z"
   },
   {
    "duration": 16,
    "start_time": "2023-08-22T22:51:04.685Z"
   },
   {
    "duration": 46,
    "start_time": "2023-08-22T22:51:04.703Z"
   },
   {
    "duration": 17,
    "start_time": "2023-08-22T22:51:04.751Z"
   },
   {
    "duration": 23,
    "start_time": "2023-08-22T22:51:04.769Z"
   },
   {
    "duration": 25,
    "start_time": "2023-08-22T22:51:04.794Z"
   },
   {
    "duration": 21,
    "start_time": "2023-08-22T22:51:04.822Z"
   },
   {
    "duration": 17,
    "start_time": "2023-08-22T22:51:04.845Z"
   },
   {
    "duration": 36,
    "start_time": "2023-08-22T22:51:04.864Z"
   },
   {
    "duration": 28,
    "start_time": "2023-08-22T22:51:04.902Z"
   },
   {
    "duration": 25,
    "start_time": "2023-08-22T22:51:04.932Z"
   },
   {
    "duration": 12,
    "start_time": "2023-08-22T22:51:04.960Z"
   },
   {
    "duration": 16,
    "start_time": "2023-08-22T22:51:04.974Z"
   },
   {
    "duration": 26,
    "start_time": "2023-08-22T22:51:04.992Z"
   },
   {
    "duration": 48,
    "start_time": "2023-08-22T22:51:05.020Z"
   },
   {
    "duration": 6,
    "start_time": "2023-08-22T22:51:05.069Z"
   },
   {
    "duration": 26,
    "start_time": "2023-08-22T22:51:05.077Z"
   },
   {
    "duration": 22,
    "start_time": "2023-08-22T22:51:05.105Z"
   },
   {
    "duration": 17,
    "start_time": "2023-08-22T22:51:05.129Z"
   },
   {
    "duration": 22,
    "start_time": "2023-08-22T22:51:05.148Z"
   },
   {
    "duration": 29,
    "start_time": "2023-08-22T22:51:05.172Z"
   },
   {
    "duration": 52,
    "start_time": "2023-08-22T22:51:05.203Z"
   },
   {
    "duration": 20,
    "start_time": "2023-08-22T22:51:05.257Z"
   },
   {
    "duration": 22,
    "start_time": "2023-08-22T22:51:05.279Z"
   },
   {
    "duration": 46,
    "start_time": "2023-08-22T22:51:05.303Z"
   },
   {
    "duration": 36,
    "start_time": "2023-08-22T22:51:05.350Z"
   },
   {
    "duration": 15,
    "start_time": "2023-08-22T22:51:05.388Z"
   },
   {
    "duration": 45,
    "start_time": "2023-08-22T22:51:05.405Z"
   },
   {
    "duration": 1185,
    "start_time": "2023-08-22T22:51:05.452Z"
   },
   {
    "duration": 1366,
    "start_time": "2023-08-22T22:51:06.639Z"
   },
   {
    "duration": 1642,
    "start_time": "2023-08-22T22:51:08.007Z"
   },
   {
    "duration": 68,
    "start_time": "2023-08-22T22:51:09.651Z"
   },
   {
    "duration": 107,
    "start_time": "2023-08-22T22:51:09.721Z"
   },
   {
    "duration": 8,
    "start_time": "2023-08-22T22:51:09.830Z"
   },
   {
    "duration": 69,
    "start_time": "2023-08-22T22:51:09.840Z"
   },
   {
    "duration": 6,
    "start_time": "2023-08-22T22:51:09.911Z"
   },
   {
    "duration": 151,
    "start_time": "2023-08-22T22:51:09.919Z"
   },
   {
    "duration": 4,
    "start_time": "2023-08-22T22:51:22.623Z"
   },
   {
    "duration": 5,
    "start_time": "2023-08-22T22:52:07.648Z"
   },
   {
    "duration": 4,
    "start_time": "2023-08-22T22:52:15.189Z"
   },
   {
    "duration": 6,
    "start_time": "2023-08-22T22:52:40.075Z"
   },
   {
    "duration": 67,
    "start_time": "2023-08-22T22:54:12.982Z"
   },
   {
    "duration": 55,
    "start_time": "2023-08-22T22:55:48.836Z"
   },
   {
    "duration": 4,
    "start_time": "2023-08-22T22:55:50.882Z"
   },
   {
    "duration": 60,
    "start_time": "2023-08-22T22:56:07.090Z"
   },
   {
    "duration": 31,
    "start_time": "2023-08-22T22:58:35.176Z"
   },
   {
    "duration": 16,
    "start_time": "2023-08-22T22:58:43.275Z"
   },
   {
    "duration": 10,
    "start_time": "2023-08-22T22:59:04.684Z"
   },
   {
    "duration": 5,
    "start_time": "2023-08-22T22:59:16.810Z"
   },
   {
    "duration": 6,
    "start_time": "2023-08-22T22:59:23.004Z"
   },
   {
    "duration": 7,
    "start_time": "2023-08-22T22:59:25.520Z"
   },
   {
    "duration": 5,
    "start_time": "2023-08-22T22:59:57.778Z"
   },
   {
    "duration": 6,
    "start_time": "2023-08-22T23:00:16.812Z"
   },
   {
    "duration": 6,
    "start_time": "2023-08-22T23:00:19.600Z"
   },
   {
    "duration": 3,
    "start_time": "2023-08-22T23:01:23.479Z"
   },
   {
    "duration": 6,
    "start_time": "2023-08-22T23:01:30.729Z"
   },
   {
    "duration": 8,
    "start_time": "2023-08-22T23:01:41.871Z"
   },
   {
    "duration": 19,
    "start_time": "2023-08-22T23:01:49.129Z"
   },
   {
    "duration": 19,
    "start_time": "2023-08-22T23:02:07.289Z"
   },
   {
    "duration": 13,
    "start_time": "2023-08-22T23:02:19.777Z"
   },
   {
    "duration": 4,
    "start_time": "2023-08-22T23:02:30.278Z"
   },
   {
    "duration": 17,
    "start_time": "2023-08-22T23:03:15.942Z"
   },
   {
    "duration": 17,
    "start_time": "2023-08-22T23:03:16.995Z"
   },
   {
    "duration": 10391,
    "start_time": "2023-08-22T23:03:24.072Z"
   },
   {
    "duration": 23,
    "start_time": "2023-08-22T23:03:34.465Z"
   },
   {
    "duration": 210,
    "start_time": "2023-08-22T23:03:34.490Z"
   },
   {
    "duration": 16,
    "start_time": "2023-08-22T23:03:34.702Z"
   },
   {
    "duration": 50,
    "start_time": "2023-08-22T23:03:34.719Z"
   },
   {
    "duration": 32,
    "start_time": "2023-08-22T23:03:34.771Z"
   },
   {
    "duration": 22,
    "start_time": "2023-08-22T23:03:34.805Z"
   },
   {
    "duration": 19,
    "start_time": "2023-08-22T23:03:34.829Z"
   },
   {
    "duration": 27,
    "start_time": "2023-08-22T23:03:34.850Z"
   },
   {
    "duration": 26,
    "start_time": "2023-08-22T23:03:34.879Z"
   },
   {
    "duration": 37,
    "start_time": "2023-08-22T23:03:34.907Z"
   },
   {
    "duration": 19,
    "start_time": "2023-08-22T23:03:34.946Z"
   },
   {
    "duration": 21,
    "start_time": "2023-08-22T23:03:34.967Z"
   },
   {
    "duration": 32,
    "start_time": "2023-08-22T23:03:34.990Z"
   },
   {
    "duration": 55,
    "start_time": "2023-08-22T23:03:35.024Z"
   },
   {
    "duration": 29,
    "start_time": "2023-08-22T23:03:35.081Z"
   },
   {
    "duration": 19,
    "start_time": "2023-08-22T23:03:35.111Z"
   },
   {
    "duration": 41,
    "start_time": "2023-08-22T23:03:35.132Z"
   },
   {
    "duration": 54,
    "start_time": "2023-08-22T23:03:35.176Z"
   },
   {
    "duration": 21,
    "start_time": "2023-08-22T23:03:35.232Z"
   },
   {
    "duration": 35,
    "start_time": "2023-08-22T23:03:35.254Z"
   },
   {
    "duration": 55,
    "start_time": "2023-08-22T23:03:35.290Z"
   },
   {
    "duration": 56,
    "start_time": "2023-08-22T23:03:35.347Z"
   },
   {
    "duration": 70,
    "start_time": "2023-08-22T23:03:35.405Z"
   },
   {
    "duration": 27,
    "start_time": "2023-08-22T23:03:35.477Z"
   },
   {
    "duration": 5,
    "start_time": "2023-08-22T23:03:35.506Z"
   },
   {
    "duration": 54,
    "start_time": "2023-08-22T23:03:35.513Z"
   },
   {
    "duration": 54,
    "start_time": "2023-08-22T23:03:35.570Z"
   },
   {
    "duration": 24,
    "start_time": "2023-08-22T23:03:35.625Z"
   },
   {
    "duration": 41,
    "start_time": "2023-08-22T23:03:35.651Z"
   },
   {
    "duration": 1282,
    "start_time": "2023-08-22T23:03:35.694Z"
   },
   {
    "duration": 1390,
    "start_time": "2023-08-22T23:03:36.978Z"
   },
   {
    "duration": 1700,
    "start_time": "2023-08-22T23:03:38.370Z"
   },
   {
    "duration": 53,
    "start_time": "2023-08-22T23:03:40.072Z"
   },
   {
    "duration": 106,
    "start_time": "2023-08-22T23:03:40.127Z"
   },
   {
    "duration": 41,
    "start_time": "2023-08-22T23:03:40.235Z"
   },
   {
    "duration": 14,
    "start_time": "2023-08-22T23:03:40.277Z"
   },
   {
    "duration": 6,
    "start_time": "2023-08-22T23:03:40.293Z"
   },
   {
    "duration": 27,
    "start_time": "2023-08-22T23:03:40.300Z"
   },
   {
    "duration": 33,
    "start_time": "2023-08-22T23:03:40.329Z"
   },
   {
    "duration": 27,
    "start_time": "2023-08-22T23:03:40.364Z"
   },
   {
    "duration": 27,
    "start_time": "2023-08-22T23:03:40.393Z"
   },
   {
    "duration": 19,
    "start_time": "2023-08-22T23:03:40.421Z"
   },
   {
    "duration": 9,
    "start_time": "2023-08-22T23:03:40.442Z"
   },
   {
    "duration": 35,
    "start_time": "2023-08-22T23:03:40.452Z"
   },
   {
    "duration": 14,
    "start_time": "2023-08-22T23:04:21.950Z"
   },
   {
    "duration": 4,
    "start_time": "2023-08-22T23:04:23.576Z"
   },
   {
    "duration": 126,
    "start_time": "2023-08-22T23:04:25.780Z"
   },
   {
    "duration": 11,
    "start_time": "2023-08-22T23:04:39.476Z"
   },
   {
    "duration": 15,
    "start_time": "2023-08-22T23:04:40.182Z"
   },
   {
    "duration": 15,
    "start_time": "2023-08-22T23:04:40.557Z"
   },
   {
    "duration": 10030,
    "start_time": "2023-08-22T23:04:45.379Z"
   },
   {
    "duration": 19,
    "start_time": "2023-08-22T23:04:55.412Z"
   },
   {
    "duration": 255,
    "start_time": "2023-08-22T23:04:55.433Z"
   },
   {
    "duration": 17,
    "start_time": "2023-08-22T23:04:55.690Z"
   },
   {
    "duration": 38,
    "start_time": "2023-08-22T23:04:55.709Z"
   },
   {
    "duration": 13,
    "start_time": "2023-08-22T23:04:55.749Z"
   },
   {
    "duration": 34,
    "start_time": "2023-08-22T23:04:55.764Z"
   },
   {
    "duration": 46,
    "start_time": "2023-08-22T23:04:55.799Z"
   },
   {
    "duration": 40,
    "start_time": "2023-08-22T23:04:55.847Z"
   },
   {
    "duration": 20,
    "start_time": "2023-08-22T23:04:55.889Z"
   },
   {
    "duration": 49,
    "start_time": "2023-08-22T23:04:55.911Z"
   },
   {
    "duration": 11,
    "start_time": "2023-08-22T23:04:55.963Z"
   },
   {
    "duration": 29,
    "start_time": "2023-08-22T23:04:55.976Z"
   },
   {
    "duration": 14,
    "start_time": "2023-08-22T23:04:56.010Z"
   },
   {
    "duration": 22,
    "start_time": "2023-08-22T23:04:56.026Z"
   },
   {
    "duration": 8,
    "start_time": "2023-08-22T23:04:56.050Z"
   },
   {
    "duration": 31,
    "start_time": "2023-08-22T23:04:56.060Z"
   },
   {
    "duration": 7,
    "start_time": "2023-08-22T23:04:56.093Z"
   },
   {
    "duration": 13,
    "start_time": "2023-08-22T23:04:56.102Z"
   },
   {
    "duration": 18,
    "start_time": "2023-08-22T23:04:56.117Z"
   },
   {
    "duration": 5,
    "start_time": "2023-08-22T23:04:56.137Z"
   },
   {
    "duration": 7,
    "start_time": "2023-08-22T23:04:56.144Z"
   },
   {
    "duration": 33,
    "start_time": "2023-08-22T23:04:56.153Z"
   },
   {
    "duration": 53,
    "start_time": "2023-08-22T23:04:56.188Z"
   },
   {
    "duration": 23,
    "start_time": "2023-08-22T23:04:56.243Z"
   },
   {
    "duration": 6,
    "start_time": "2023-08-22T23:04:56.268Z"
   },
   {
    "duration": 38,
    "start_time": "2023-08-22T23:04:56.276Z"
   },
   {
    "duration": 37,
    "start_time": "2023-08-22T23:04:56.316Z"
   },
   {
    "duration": 22,
    "start_time": "2023-08-22T23:04:56.356Z"
   },
   {
    "duration": 51,
    "start_time": "2023-08-22T23:04:56.380Z"
   },
   {
    "duration": 1180,
    "start_time": "2023-08-22T23:04:56.432Z"
   },
   {
    "duration": 1368,
    "start_time": "2023-08-22T23:04:57.614Z"
   },
   {
    "duration": 1623,
    "start_time": "2023-08-22T23:04:58.983Z"
   },
   {
    "duration": 65,
    "start_time": "2023-08-22T23:05:00.608Z"
   },
   {
    "duration": 95,
    "start_time": "2023-08-22T23:05:00.675Z"
   },
   {
    "duration": 32,
    "start_time": "2023-08-22T23:05:00.772Z"
   },
   {
    "duration": 38,
    "start_time": "2023-08-22T23:05:00.805Z"
   },
   {
    "duration": 74,
    "start_time": "2023-08-22T23:05:00.845Z"
   },
   {
    "duration": 52,
    "start_time": "2023-08-22T23:05:00.921Z"
   },
   {
    "duration": 56,
    "start_time": "2023-08-22T23:05:00.975Z"
   },
   {
    "duration": 48,
    "start_time": "2023-08-22T23:05:01.035Z"
   },
   {
    "duration": 53,
    "start_time": "2023-08-22T23:05:01.085Z"
   },
   {
    "duration": 35,
    "start_time": "2023-08-22T23:05:01.140Z"
   },
   {
    "duration": 11,
    "start_time": "2023-08-22T23:05:01.177Z"
   },
   {
    "duration": 36,
    "start_time": "2023-08-22T23:05:01.189Z"
   },
   {
    "duration": 131,
    "start_time": "2023-08-22T23:07:00.821Z"
   },
   {
    "duration": 20,
    "start_time": "2023-08-22T23:07:16.874Z"
   },
   {
    "duration": 18,
    "start_time": "2023-08-22T23:07:54.282Z"
   },
   {
    "duration": 10295,
    "start_time": "2023-08-22T23:08:02.666Z"
   },
   {
    "duration": 19,
    "start_time": "2023-08-22T23:08:12.962Z"
   },
   {
    "duration": 218,
    "start_time": "2023-08-22T23:08:12.983Z"
   },
   {
    "duration": 16,
    "start_time": "2023-08-22T23:08:13.203Z"
   },
   {
    "duration": 17,
    "start_time": "2023-08-22T23:08:13.222Z"
   },
   {
    "duration": 30,
    "start_time": "2023-08-22T23:08:13.241Z"
   },
   {
    "duration": 20,
    "start_time": "2023-08-22T23:08:13.273Z"
   },
   {
    "duration": 15,
    "start_time": "2023-08-22T23:08:13.294Z"
   },
   {
    "duration": 17,
    "start_time": "2023-08-22T23:08:13.311Z"
   },
   {
    "duration": 10,
    "start_time": "2023-08-22T23:08:13.330Z"
   },
   {
    "duration": 37,
    "start_time": "2023-08-22T23:08:13.342Z"
   },
   {
    "duration": 13,
    "start_time": "2023-08-22T23:08:13.381Z"
   },
   {
    "duration": 26,
    "start_time": "2023-08-22T23:08:13.395Z"
   },
   {
    "duration": 11,
    "start_time": "2023-08-22T23:08:13.424Z"
   },
   {
    "duration": 12,
    "start_time": "2023-08-22T23:08:13.436Z"
   },
   {
    "duration": 21,
    "start_time": "2023-08-22T23:08:13.450Z"
   },
   {
    "duration": 12,
    "start_time": "2023-08-22T23:08:13.473Z"
   },
   {
    "duration": 13,
    "start_time": "2023-08-22T23:08:13.487Z"
   },
   {
    "duration": 7,
    "start_time": "2023-08-22T23:08:13.502Z"
   },
   {
    "duration": 13,
    "start_time": "2023-08-22T23:08:13.510Z"
   },
   {
    "duration": 12,
    "start_time": "2023-08-22T23:08:13.524Z"
   },
   {
    "duration": 22,
    "start_time": "2023-08-22T23:08:13.538Z"
   },
   {
    "duration": 43,
    "start_time": "2023-08-22T23:08:13.562Z"
   },
   {
    "duration": 49,
    "start_time": "2023-08-22T23:08:13.606Z"
   },
   {
    "duration": 19,
    "start_time": "2023-08-22T23:08:13.657Z"
   },
   {
    "duration": 41,
    "start_time": "2023-08-22T23:08:13.678Z"
   },
   {
    "duration": 30,
    "start_time": "2023-08-22T23:08:13.721Z"
   },
   {
    "duration": 34,
    "start_time": "2023-08-22T23:08:13.753Z"
   },
   {
    "duration": 13,
    "start_time": "2023-08-22T23:08:13.789Z"
   },
   {
    "duration": 27,
    "start_time": "2023-08-22T23:08:13.803Z"
   },
   {
    "duration": 1185,
    "start_time": "2023-08-22T23:08:13.832Z"
   },
   {
    "duration": 1390,
    "start_time": "2023-08-22T23:08:15.019Z"
   },
   {
    "duration": 1691,
    "start_time": "2023-08-22T23:08:16.411Z"
   },
   {
    "duration": 65,
    "start_time": "2023-08-22T23:08:18.104Z"
   },
   {
    "duration": 97,
    "start_time": "2023-08-22T23:08:18.170Z"
   },
   {
    "duration": 35,
    "start_time": "2023-08-22T23:08:18.269Z"
   },
   {
    "duration": 16,
    "start_time": "2023-08-22T23:08:18.306Z"
   },
   {
    "duration": 5,
    "start_time": "2023-08-22T23:08:18.324Z"
   },
   {
    "duration": 163,
    "start_time": "2023-08-22T23:08:18.331Z"
   },
   {
    "duration": 18,
    "start_time": "2023-08-22T23:09:07.877Z"
   },
   {
    "duration": 22,
    "start_time": "2023-08-22T23:09:22.305Z"
   },
   {
    "duration": 1246,
    "start_time": "2023-08-22T23:09:30.529Z"
   },
   {
    "duration": 10510,
    "start_time": "2023-08-22T23:09:45.237Z"
   },
   {
    "duration": 20,
    "start_time": "2023-08-22T23:09:55.750Z"
   },
   {
    "duration": 226,
    "start_time": "2023-08-22T23:09:55.771Z"
   },
   {
    "duration": 16,
    "start_time": "2023-08-22T23:09:55.998Z"
   },
   {
    "duration": 19,
    "start_time": "2023-08-22T23:09:56.016Z"
   },
   {
    "duration": 9,
    "start_time": "2023-08-22T23:09:56.036Z"
   },
   {
    "duration": 32,
    "start_time": "2023-08-22T23:09:56.047Z"
   },
   {
    "duration": 36,
    "start_time": "2023-08-22T23:09:56.081Z"
   },
   {
    "duration": 31,
    "start_time": "2023-08-22T23:09:56.119Z"
   },
   {
    "duration": 29,
    "start_time": "2023-08-22T23:09:56.152Z"
   },
   {
    "duration": 31,
    "start_time": "2023-08-22T23:09:56.183Z"
   },
   {
    "duration": 20,
    "start_time": "2023-08-22T23:09:56.216Z"
   },
   {
    "duration": 51,
    "start_time": "2023-08-22T23:09:56.238Z"
   },
   {
    "duration": 17,
    "start_time": "2023-08-22T23:09:56.292Z"
   },
   {
    "duration": 24,
    "start_time": "2023-08-22T23:09:56.311Z"
   },
   {
    "duration": 12,
    "start_time": "2023-08-22T23:09:56.337Z"
   },
   {
    "duration": 27,
    "start_time": "2023-08-22T23:09:56.350Z"
   },
   {
    "duration": 9,
    "start_time": "2023-08-22T23:09:56.378Z"
   },
   {
    "duration": 20,
    "start_time": "2023-08-22T23:09:56.389Z"
   },
   {
    "duration": 21,
    "start_time": "2023-08-22T23:09:56.410Z"
   },
   {
    "duration": 15,
    "start_time": "2023-08-22T23:09:56.433Z"
   },
   {
    "duration": 16,
    "start_time": "2023-08-22T23:09:56.450Z"
   },
   {
    "duration": 20,
    "start_time": "2023-08-22T23:09:56.468Z"
   },
   {
    "duration": 44,
    "start_time": "2023-08-22T23:09:56.489Z"
   },
   {
    "duration": 18,
    "start_time": "2023-08-22T23:09:56.535Z"
   },
   {
    "duration": 5,
    "start_time": "2023-08-22T23:09:56.555Z"
   },
   {
    "duration": 43,
    "start_time": "2023-08-22T23:09:56.567Z"
   },
   {
    "duration": 42,
    "start_time": "2023-08-22T23:09:56.612Z"
   },
   {
    "duration": 14,
    "start_time": "2023-08-22T23:09:56.656Z"
   },
   {
    "duration": 21,
    "start_time": "2023-08-22T23:09:56.671Z"
   },
   {
    "duration": 1118,
    "start_time": "2023-08-22T23:09:56.693Z"
   },
   {
    "duration": 1309,
    "start_time": "2023-08-22T23:09:57.813Z"
   },
   {
    "duration": 1663,
    "start_time": "2023-08-22T23:09:59.123Z"
   },
   {
    "duration": 52,
    "start_time": "2023-08-22T23:10:00.788Z"
   },
   {
    "duration": 103,
    "start_time": "2023-08-22T23:10:00.843Z"
   },
   {
    "duration": 47,
    "start_time": "2023-08-22T23:10:00.948Z"
   },
   {
    "duration": 15,
    "start_time": "2023-08-22T23:10:00.997Z"
   },
   {
    "duration": 33,
    "start_time": "2023-08-22T23:10:01.014Z"
   },
   {
    "duration": 66,
    "start_time": "2023-08-22T23:10:01.049Z"
   },
   {
    "duration": 24,
    "start_time": "2023-08-22T23:10:06.975Z"
   },
   {
    "duration": 21,
    "start_time": "2023-08-22T23:10:40.962Z"
   },
   {
    "duration": 43,
    "start_time": "2023-08-22T23:14:23.125Z"
   },
   {
    "duration": 21,
    "start_time": "2023-08-22T23:14:24.263Z"
   },
   {
    "duration": 23,
    "start_time": "2023-08-22T23:14:30.036Z"
   },
   {
    "duration": 4,
    "start_time": "2023-08-22T23:14:50.387Z"
   },
   {
    "duration": 6,
    "start_time": "2023-08-22T23:16:42.540Z"
   },
   {
    "duration": 10888,
    "start_time": "2023-08-22T23:20:40.127Z"
   },
   {
    "duration": 20,
    "start_time": "2023-08-22T23:20:51.016Z"
   },
   {
    "duration": 233,
    "start_time": "2023-08-22T23:20:51.038Z"
   },
   {
    "duration": 19,
    "start_time": "2023-08-22T23:20:51.273Z"
   },
   {
    "duration": 14,
    "start_time": "2023-08-22T23:20:51.295Z"
   },
   {
    "duration": 30,
    "start_time": "2023-08-22T23:20:51.310Z"
   },
   {
    "duration": 25,
    "start_time": "2023-08-22T23:20:51.342Z"
   },
   {
    "duration": 15,
    "start_time": "2023-08-22T23:20:51.369Z"
   },
   {
    "duration": 28,
    "start_time": "2023-08-22T23:20:51.385Z"
   },
   {
    "duration": 13,
    "start_time": "2023-08-22T23:20:51.415Z"
   },
   {
    "duration": 44,
    "start_time": "2023-08-22T23:20:51.430Z"
   },
   {
    "duration": 25,
    "start_time": "2023-08-22T23:20:51.475Z"
   },
   {
    "duration": 31,
    "start_time": "2023-08-22T23:20:51.501Z"
   },
   {
    "duration": 34,
    "start_time": "2023-08-22T23:20:51.535Z"
   },
   {
    "duration": 32,
    "start_time": "2023-08-22T23:20:51.571Z"
   },
   {
    "duration": 7,
    "start_time": "2023-08-22T23:20:51.605Z"
   },
   {
    "duration": 22,
    "start_time": "2023-08-22T23:20:51.613Z"
   },
   {
    "duration": 8,
    "start_time": "2023-08-22T23:20:51.636Z"
   },
   {
    "duration": 31,
    "start_time": "2023-08-22T23:20:51.645Z"
   },
   {
    "duration": 22,
    "start_time": "2023-08-22T23:20:51.678Z"
   },
   {
    "duration": 14,
    "start_time": "2023-08-22T23:20:51.701Z"
   },
   {
    "duration": 10,
    "start_time": "2023-08-22T23:20:51.717Z"
   },
   {
    "duration": 26,
    "start_time": "2023-08-22T23:20:51.728Z"
   },
   {
    "duration": 62,
    "start_time": "2023-08-22T23:20:51.755Z"
   },
   {
    "duration": 21,
    "start_time": "2023-08-22T23:20:51.818Z"
   },
   {
    "duration": 33,
    "start_time": "2023-08-22T23:20:51.840Z"
   },
   {
    "duration": 34,
    "start_time": "2023-08-22T23:20:51.874Z"
   },
   {
    "duration": 59,
    "start_time": "2023-08-22T23:20:51.910Z"
   },
   {
    "duration": 14,
    "start_time": "2023-08-22T23:20:51.970Z"
   },
   {
    "duration": 20,
    "start_time": "2023-08-22T23:20:51.985Z"
   },
   {
    "duration": 1149,
    "start_time": "2023-08-22T23:20:52.007Z"
   },
   {
    "duration": 1365,
    "start_time": "2023-08-22T23:20:53.158Z"
   },
   {
    "duration": 1619,
    "start_time": "2023-08-22T23:20:54.525Z"
   },
   {
    "duration": 59,
    "start_time": "2023-08-22T23:20:56.146Z"
   },
   {
    "duration": 98,
    "start_time": "2023-08-22T23:20:56.207Z"
   },
   {
    "duration": 6,
    "start_time": "2023-08-22T23:20:56.306Z"
   },
   {
    "duration": 35,
    "start_time": "2023-08-22T23:20:56.313Z"
   },
   {
    "duration": 25,
    "start_time": "2023-08-22T23:20:56.349Z"
   },
   {
    "duration": 11,
    "start_time": "2023-08-22T23:20:56.376Z"
   },
   {
    "duration": 55,
    "start_time": "2023-08-22T23:20:56.388Z"
   },
   {
    "duration": 4,
    "start_time": "2023-08-22T23:20:56.447Z"
   },
   {
    "duration": 499,
    "start_time": "2023-08-22T23:20:56.452Z"
   },
   {
    "duration": 183,
    "start_time": "2023-08-22T23:24:31.490Z"
   },
   {
    "duration": 5,
    "start_time": "2023-08-22T23:24:41.921Z"
   },
   {
    "duration": 12921,
    "start_time": "2023-08-22T23:24:47.320Z"
   },
   {
    "duration": 19486,
    "start_time": "2023-08-22T23:25:48.902Z"
   },
   {
    "duration": 14,
    "start_time": "2023-08-22T23:26:38.182Z"
   },
   {
    "duration": 20,
    "start_time": "2023-08-22T23:26:59.995Z"
   },
   {
    "duration": 546830,
    "start_time": "2023-08-22T23:27:54.044Z"
   },
   {
    "duration": 89,
    "start_time": "2023-08-23T00:07:32.034Z"
   },
   {
    "duration": 82,
    "start_time": "2023-08-23T00:07:37.782Z"
   },
   {
    "duration": 47,
    "start_time": "2023-08-23T00:07:43.838Z"
   },
   {
    "duration": 53,
    "start_time": "2023-08-23T00:07:51.462Z"
   },
   {
    "duration": 5,
    "start_time": "2023-08-23T00:08:28.414Z"
   },
   {
    "duration": 199,
    "start_time": "2023-08-23T00:08:33.577Z"
   },
   {
    "duration": 46,
    "start_time": "2023-08-23T00:08:44.983Z"
   },
   {
    "duration": 306,
    "start_time": "2023-08-23T00:08:56.746Z"
   },
   {
    "duration": 160,
    "start_time": "2023-08-23T00:09:19.243Z"
   },
   {
    "duration": 51,
    "start_time": "2023-08-23T00:09:50.285Z"
   },
   {
    "duration": 13,
    "start_time": "2023-08-23T00:10:37.682Z"
   },
   {
    "duration": 292,
    "start_time": "2023-08-23T00:10:54.056Z"
   },
   {
    "duration": 30,
    "start_time": "2023-08-23T00:11:06.267Z"
   },
   {
    "duration": 173,
    "start_time": "2023-08-23T00:11:13.962Z"
   },
   {
    "duration": 129,
    "start_time": "2023-08-23T00:11:38.344Z"
   },
   {
    "duration": 278,
    "start_time": "2023-08-23T00:12:14.221Z"
   },
   {
    "duration": 123,
    "start_time": "2023-08-24T17:05:03.426Z"
   },
   {
    "duration": 88,
    "start_time": "2023-08-24T17:07:50.858Z"
   },
   {
    "duration": 14416,
    "start_time": "2023-08-24T17:10:26.163Z"
   },
   {
    "duration": 18,
    "start_time": "2023-08-24T17:10:40.581Z"
   },
   {
    "duration": 648,
    "start_time": "2023-08-24T17:10:40.601Z"
   },
   {
    "duration": 13,
    "start_time": "2023-08-24T17:10:41.251Z"
   },
   {
    "duration": 24,
    "start_time": "2023-08-24T17:10:41.266Z"
   },
   {
    "duration": 29,
    "start_time": "2023-08-24T17:10:41.292Z"
   },
   {
    "duration": 45,
    "start_time": "2023-08-24T17:10:41.323Z"
   },
   {
    "duration": 37,
    "start_time": "2023-08-24T17:10:41.370Z"
   },
   {
    "duration": 41,
    "start_time": "2023-08-24T17:10:41.409Z"
   },
   {
    "duration": 36,
    "start_time": "2023-08-24T17:10:41.453Z"
   },
   {
    "duration": 39,
    "start_time": "2023-08-24T17:10:41.491Z"
   },
   {
    "duration": 26,
    "start_time": "2023-08-24T17:10:41.532Z"
   },
   {
    "duration": 25,
    "start_time": "2023-08-24T17:10:41.559Z"
   },
   {
    "duration": 21,
    "start_time": "2023-08-24T17:10:41.586Z"
   },
   {
    "duration": 33,
    "start_time": "2023-08-24T17:10:41.608Z"
   },
   {
    "duration": 22,
    "start_time": "2023-08-24T17:10:41.643Z"
   },
   {
    "duration": 27,
    "start_time": "2023-08-24T17:10:41.667Z"
   },
   {
    "duration": 25,
    "start_time": "2023-08-24T17:10:41.695Z"
   },
   {
    "duration": 16,
    "start_time": "2023-08-24T17:10:41.722Z"
   },
   {
    "duration": 18,
    "start_time": "2023-08-24T17:10:41.739Z"
   },
   {
    "duration": 20,
    "start_time": "2023-08-24T17:10:41.759Z"
   },
   {
    "duration": 15,
    "start_time": "2023-08-24T17:10:41.781Z"
   },
   {
    "duration": 51,
    "start_time": "2023-08-24T17:10:41.797Z"
   },
   {
    "duration": 5,
    "start_time": "2023-08-24T17:10:41.850Z"
   },
   {
    "duration": 26,
    "start_time": "2023-08-24T17:10:41.856Z"
   },
   {
    "duration": 39,
    "start_time": "2023-08-24T17:10:41.883Z"
   },
   {
    "duration": 12,
    "start_time": "2023-08-24T17:10:41.923Z"
   },
   {
    "duration": 34,
    "start_time": "2023-08-24T17:10:41.937Z"
   },
   {
    "duration": 417,
    "start_time": "2023-08-24T17:11:02.254Z"
   },
   {
    "duration": 615,
    "start_time": "2023-08-24T17:12:26.366Z"
   },
   {
    "duration": 341,
    "start_time": "2023-08-24T17:14:23.328Z"
   },
   {
    "duration": 1293,
    "start_time": "2023-08-24T17:21:43.266Z"
   },
   {
    "duration": 3,
    "start_time": "2023-08-24T17:22:17.319Z"
   },
   {
    "duration": 1548,
    "start_time": "2023-08-24T17:22:22.310Z"
   },
   {
    "duration": 1635,
    "start_time": "2023-08-24T17:22:55.303Z"
   },
   {
    "duration": 55,
    "start_time": "2023-08-24T17:24:03.647Z"
   },
   {
    "duration": 76,
    "start_time": "2023-08-24T17:24:09.114Z"
   },
   {
    "duration": 6,
    "start_time": "2023-08-24T17:24:32.518Z"
   },
   {
    "duration": 28,
    "start_time": "2023-08-24T17:24:35.151Z"
   },
   {
    "duration": 19,
    "start_time": "2023-08-24T17:24:37.110Z"
   },
   {
    "duration": 4,
    "start_time": "2023-08-24T17:24:41.861Z"
   },
   {
    "duration": 37,
    "start_time": "2023-08-24T17:25:18.014Z"
   },
   {
    "duration": 4,
    "start_time": "2023-08-24T17:25:21.037Z"
   },
   {
    "duration": 12187,
    "start_time": "2023-08-24T17:26:41.605Z"
   },
   {
    "duration": 12141,
    "start_time": "2023-08-24T17:28:41.660Z"
   },
   {
    "duration": 18,
    "start_time": "2023-08-24T17:28:53.803Z"
   },
   {
    "duration": 660,
    "start_time": "2023-08-24T17:28:53.822Z"
   },
   {
    "duration": 13,
    "start_time": "2023-08-24T17:28:54.485Z"
   },
   {
    "duration": 17,
    "start_time": "2023-08-24T17:28:54.500Z"
   },
   {
    "duration": 11,
    "start_time": "2023-08-24T17:28:54.518Z"
   },
   {
    "duration": 19,
    "start_time": "2023-08-24T17:28:54.531Z"
   },
   {
    "duration": 10,
    "start_time": "2023-08-24T17:28:54.552Z"
   },
   {
    "duration": 24,
    "start_time": "2023-08-24T17:28:54.564Z"
   },
   {
    "duration": 14,
    "start_time": "2023-08-24T17:28:54.591Z"
   },
   {
    "duration": 17,
    "start_time": "2023-08-24T17:28:54.607Z"
   },
   {
    "duration": 7,
    "start_time": "2023-08-24T17:28:54.626Z"
   },
   {
    "duration": 25,
    "start_time": "2023-08-24T17:28:54.635Z"
   },
   {
    "duration": 9,
    "start_time": "2023-08-24T17:28:54.662Z"
   },
   {
    "duration": 10,
    "start_time": "2023-08-24T17:28:54.673Z"
   },
   {
    "duration": 3,
    "start_time": "2023-08-24T17:28:54.685Z"
   },
   {
    "duration": 18,
    "start_time": "2023-08-24T17:28:54.689Z"
   },
   {
    "duration": 11,
    "start_time": "2023-08-24T17:28:54.708Z"
   },
   {
    "duration": 7,
    "start_time": "2023-08-24T17:28:54.721Z"
   },
   {
    "duration": 20,
    "start_time": "2023-08-24T17:28:54.729Z"
   },
   {
    "duration": 19,
    "start_time": "2023-08-24T17:28:54.751Z"
   },
   {
    "duration": 11,
    "start_time": "2023-08-24T17:28:54.771Z"
   },
   {
    "duration": 61,
    "start_time": "2023-08-24T17:28:54.783Z"
   },
   {
    "duration": 5,
    "start_time": "2023-08-24T17:28:54.846Z"
   },
   {
    "duration": 21,
    "start_time": "2023-08-24T17:28:54.853Z"
   },
   {
    "duration": 55,
    "start_time": "2023-08-24T17:28:54.876Z"
   },
   {
    "duration": 20,
    "start_time": "2023-08-24T17:28:54.934Z"
   },
   {
    "duration": 25,
    "start_time": "2023-08-24T17:28:54.958Z"
   },
   {
    "duration": 296,
    "start_time": "2023-08-24T17:28:54.984Z"
   },
   {
    "duration": 712,
    "start_time": "2023-08-24T17:28:55.282Z"
   },
   {
    "duration": 3,
    "start_time": "2023-08-24T17:28:55.996Z"
   },
   {
    "duration": 1515,
    "start_time": "2023-08-24T17:28:56.002Z"
   },
   {
    "duration": 67,
    "start_time": "2023-08-24T17:28:57.519Z"
   },
   {
    "duration": 115,
    "start_time": "2023-08-24T17:28:57.589Z"
   },
   {
    "duration": 4,
    "start_time": "2023-08-24T17:28:57.706Z"
   },
   {
    "duration": 68,
    "start_time": "2023-08-24T17:28:57.711Z"
   },
   {
    "duration": 5,
    "start_time": "2023-08-24T17:28:57.781Z"
   },
   {
    "duration": 12625,
    "start_time": "2023-08-24T17:28:57.788Z"
   },
   {
    "duration": 21427,
    "start_time": "2023-08-24T17:29:10.414Z"
   },
   {
    "duration": 1335911,
    "start_time": "2023-08-24T17:29:31.843Z"
   },
   {
    "duration": 90,
    "start_time": "2023-08-24T17:51:47.760Z"
   },
   {
    "duration": 84,
    "start_time": "2023-08-24T17:54:09.812Z"
   },
   {
    "duration": 236,
    "start_time": "2023-08-24T18:06:31.286Z"
   },
   {
    "duration": 267,
    "start_time": "2023-08-24T18:09:58.003Z"
   },
   {
    "duration": 238,
    "start_time": "2023-08-24T18:13:40.648Z"
   },
   {
    "duration": 305,
    "start_time": "2023-08-24T18:15:23.180Z"
   },
   {
    "duration": 233,
    "start_time": "2023-08-24T18:15:28.316Z"
   },
   {
    "duration": 237,
    "start_time": "2023-08-24T18:16:14.961Z"
   },
   {
    "duration": 255,
    "start_time": "2023-08-24T18:16:34.548Z"
   },
   {
    "duration": 48,
    "start_time": "2023-08-25T16:47:46.560Z"
   },
   {
    "duration": 11065,
    "start_time": "2023-08-25T16:47:56.511Z"
   },
   {
    "duration": 21,
    "start_time": "2023-08-25T16:48:07.578Z"
   },
   {
    "duration": 676,
    "start_time": "2023-08-25T16:48:07.601Z"
   },
   {
    "duration": 15,
    "start_time": "2023-08-25T16:48:08.279Z"
   },
   {
    "duration": 16,
    "start_time": "2023-08-25T16:48:08.295Z"
   },
   {
    "duration": 34,
    "start_time": "2023-08-25T16:48:08.312Z"
   },
   {
    "duration": 32,
    "start_time": "2023-08-25T16:48:08.348Z"
   },
   {
    "duration": 18,
    "start_time": "2023-08-25T16:48:08.382Z"
   },
   {
    "duration": 23,
    "start_time": "2023-08-25T16:48:08.401Z"
   },
   {
    "duration": 49,
    "start_time": "2023-08-25T16:48:08.426Z"
   },
   {
    "duration": 13,
    "start_time": "2023-08-25T16:48:08.476Z"
   },
   {
    "duration": 6,
    "start_time": "2023-08-25T16:48:08.491Z"
   },
   {
    "duration": 10,
    "start_time": "2023-08-25T16:48:08.499Z"
   },
   {
    "duration": 6,
    "start_time": "2023-08-25T16:48:08.510Z"
   },
   {
    "duration": 8,
    "start_time": "2023-08-25T16:48:08.518Z"
   },
   {
    "duration": 4,
    "start_time": "2023-08-25T16:48:08.527Z"
   },
   {
    "duration": 11,
    "start_time": "2023-08-25T16:48:08.532Z"
   },
   {
    "duration": 4,
    "start_time": "2023-08-25T16:48:08.544Z"
   },
   {
    "duration": 7,
    "start_time": "2023-08-25T16:48:08.550Z"
   },
   {
    "duration": 5,
    "start_time": "2023-08-25T16:48:08.558Z"
   },
   {
    "duration": 5,
    "start_time": "2023-08-25T16:48:08.564Z"
   },
   {
    "duration": 5,
    "start_time": "2023-08-25T16:48:08.570Z"
   },
   {
    "duration": 66,
    "start_time": "2023-08-25T16:48:08.576Z"
   },
   {
    "duration": 5,
    "start_time": "2023-08-25T16:48:08.643Z"
   },
   {
    "duration": 15,
    "start_time": "2023-08-25T16:48:08.650Z"
   },
   {
    "duration": 32,
    "start_time": "2023-08-25T16:48:08.667Z"
   },
   {
    "duration": 30,
    "start_time": "2023-08-25T16:48:08.701Z"
   },
   {
    "duration": 18,
    "start_time": "2023-08-25T16:48:08.734Z"
   },
   {
    "duration": 282,
    "start_time": "2023-08-25T16:48:09.013Z"
   },
   {
    "duration": 671,
    "start_time": "2023-08-25T16:48:10.916Z"
   },
   {
    "duration": 2,
    "start_time": "2023-08-25T16:48:17.476Z"
   },
   {
    "duration": 119,
    "start_time": "2023-08-25T16:48:17.905Z"
   },
   {
    "duration": 11,
    "start_time": "2023-08-25T16:48:27.860Z"
   },
   {
    "duration": 929,
    "start_time": "2023-08-25T16:48:49.673Z"
   },
   {
    "duration": 3114,
    "start_time": "2023-08-25T16:48:56.520Z"
   },
   {
    "duration": 15,
    "start_time": "2023-08-25T16:49:05.161Z"
   },
   {
    "duration": 36048,
    "start_time": "2023-08-25T16:49:11.250Z"
   },
   {
    "duration": 35694,
    "start_time": "2023-08-25T16:49:59.722Z"
   },
   {
    "duration": 4,
    "start_time": "2023-08-25T16:51:42.386Z"
   },
   {
    "duration": 12,
    "start_time": "2023-08-25T16:51:56.874Z"
   },
   {
    "duration": 86,
    "start_time": "2023-08-25T16:52:21.847Z"
   },
   {
    "duration": 115,
    "start_time": "2023-08-25T16:52:29.178Z"
   },
   {
    "duration": 151,
    "start_time": "2023-08-25T16:52:37.360Z"
   },
   {
    "duration": 5,
    "start_time": "2023-08-25T16:52:50.028Z"
   },
   {
    "duration": 345,
    "start_time": "2023-08-25T16:52:54.366Z"
   },
   {
    "duration": 1586,
    "start_time": "2023-08-25T16:54:32.375Z"
   },
   {
    "duration": 525,
    "start_time": "2023-08-25T16:55:57.798Z"
   },
   {
    "duration": 1742,
    "start_time": "2023-08-25T16:56:44.477Z"
   },
   {
    "duration": 1483,
    "start_time": "2023-08-25T16:56:55.512Z"
   },
   {
    "duration": 33,
    "start_time": "2023-08-25T17:00:54.576Z"
   },
   {
    "duration": 15,
    "start_time": "2023-08-25T17:02:08.083Z"
   },
   {
    "duration": 23,
    "start_time": "2023-08-25T17:02:12.728Z"
   },
   {
    "duration": 39,
    "start_time": "2023-08-25T17:03:47.392Z"
   },
   {
    "duration": 50,
    "start_time": "2023-08-25T17:03:54.976Z"
   },
   {
    "duration": 79,
    "start_time": "2023-08-25T17:03:56.075Z"
   },
   {
    "duration": 5,
    "start_time": "2023-08-25T17:03:57.545Z"
   },
   {
    "duration": 37,
    "start_time": "2023-08-25T17:03:59.284Z"
   },
   {
    "duration": 36,
    "start_time": "2023-08-25T17:04:57.900Z"
   },
   {
    "duration": 21,
    "start_time": "2023-08-25T17:06:01.855Z"
   },
   {
    "duration": 145,
    "start_time": "2023-08-25T17:06:19.596Z"
   },
   {
    "duration": 37,
    "start_time": "2023-08-25T17:06:38.370Z"
   },
   {
    "duration": 2112,
    "start_time": "2023-08-25T17:13:48.237Z"
   },
   {
    "duration": 10990,
    "start_time": "2023-08-25T17:13:50.353Z"
   },
   {
    "duration": 18,
    "start_time": "2023-08-25T17:14:01.345Z"
   },
   {
    "duration": 709,
    "start_time": "2023-08-25T17:14:01.365Z"
   },
   {
    "duration": 15,
    "start_time": "2023-08-25T17:14:02.075Z"
   },
   {
    "duration": 63,
    "start_time": "2023-08-25T17:14:02.091Z"
   },
   {
    "duration": 74,
    "start_time": "2023-08-25T17:14:02.156Z"
   },
   {
    "duration": 33,
    "start_time": "2023-08-25T17:14:02.232Z"
   },
   {
    "duration": 15,
    "start_time": "2023-08-25T17:14:02.269Z"
   },
   {
    "duration": 28,
    "start_time": "2023-08-25T17:14:02.287Z"
   },
   {
    "duration": 26,
    "start_time": "2023-08-25T17:14:02.317Z"
   },
   {
    "duration": 41,
    "start_time": "2023-08-25T17:14:02.345Z"
   },
   {
    "duration": 70,
    "start_time": "2023-08-25T17:14:02.388Z"
   },
   {
    "duration": 66,
    "start_time": "2023-08-25T17:14:02.460Z"
   },
   {
    "duration": 17,
    "start_time": "2023-08-25T17:14:02.527Z"
   },
   {
    "duration": 18,
    "start_time": "2023-08-25T17:14:02.546Z"
   },
   {
    "duration": 6,
    "start_time": "2023-08-25T17:14:02.566Z"
   },
   {
    "duration": 22,
    "start_time": "2023-08-25T17:14:02.573Z"
   },
   {
    "duration": 19,
    "start_time": "2023-08-25T17:14:02.596Z"
   },
   {
    "duration": 15,
    "start_time": "2023-08-25T17:14:02.617Z"
   },
   {
    "duration": 19,
    "start_time": "2023-08-25T17:14:02.634Z"
   },
   {
    "duration": 26,
    "start_time": "2023-08-25T17:14:02.654Z"
   },
   {
    "duration": 10,
    "start_time": "2023-08-25T17:14:02.682Z"
   },
   {
    "duration": 52,
    "start_time": "2023-08-25T17:14:02.693Z"
   },
   {
    "duration": 4,
    "start_time": "2023-08-25T17:14:02.747Z"
   },
   {
    "duration": 20,
    "start_time": "2023-08-25T17:14:02.753Z"
   },
   {
    "duration": 51,
    "start_time": "2023-08-25T17:14:02.774Z"
   },
   {
    "duration": 14,
    "start_time": "2023-08-25T17:14:02.829Z"
   },
   {
    "duration": 20,
    "start_time": "2023-08-25T17:14:02.845Z"
   },
   {
    "duration": 318,
    "start_time": "2023-08-25T17:14:02.867Z"
   },
   {
    "duration": 707,
    "start_time": "2023-08-25T17:14:03.187Z"
   },
   {
    "duration": 1478,
    "start_time": "2023-08-25T17:14:03.895Z"
   },
   {
    "duration": 37660,
    "start_time": "2023-08-25T17:14:05.374Z"
   },
   {
    "duration": 48,
    "start_time": "2023-08-25T17:14:43.036Z"
   },
   {
    "duration": 88,
    "start_time": "2023-08-25T17:14:43.086Z"
   },
   {
    "duration": 5,
    "start_time": "2023-08-25T17:14:43.175Z"
   },
   {
    "duration": 22,
    "start_time": "2023-08-25T17:18:07.586Z"
   },
   {
    "duration": 7,
    "start_time": "2023-08-25T17:18:08.479Z"
   },
   {
    "duration": 152,
    "start_time": "2023-08-25T17:18:08.985Z"
   },
   {
    "duration": 2331,
    "start_time": "2023-08-25T17:19:50.292Z"
   },
   {
    "duration": 11544,
    "start_time": "2023-08-25T17:19:52.626Z"
   },
   {
    "duration": 19,
    "start_time": "2023-08-25T17:20:04.172Z"
   },
   {
    "duration": 672,
    "start_time": "2023-08-25T17:20:04.193Z"
   },
   {
    "duration": 16,
    "start_time": "2023-08-25T17:20:04.866Z"
   },
   {
    "duration": 17,
    "start_time": "2023-08-25T17:20:04.884Z"
   },
   {
    "duration": 24,
    "start_time": "2023-08-25T17:20:04.903Z"
   },
   {
    "duration": 38,
    "start_time": "2023-08-25T17:20:04.929Z"
   },
   {
    "duration": 20,
    "start_time": "2023-08-25T17:20:04.969Z"
   },
   {
    "duration": 54,
    "start_time": "2023-08-25T17:20:04.992Z"
   },
   {
    "duration": 31,
    "start_time": "2023-08-25T17:20:05.047Z"
   },
   {
    "duration": 35,
    "start_time": "2023-08-25T17:20:05.080Z"
   },
   {
    "duration": 33,
    "start_time": "2023-08-25T17:20:05.116Z"
   },
   {
    "duration": 37,
    "start_time": "2023-08-25T17:20:05.151Z"
   },
   {
    "duration": 41,
    "start_time": "2023-08-25T17:20:05.190Z"
   },
   {
    "duration": 28,
    "start_time": "2023-08-25T17:20:05.233Z"
   },
   {
    "duration": 5,
    "start_time": "2023-08-25T17:20:05.263Z"
   },
   {
    "duration": 55,
    "start_time": "2023-08-25T17:20:05.270Z"
   },
   {
    "duration": 39,
    "start_time": "2023-08-25T17:20:05.326Z"
   },
   {
    "duration": 48,
    "start_time": "2023-08-25T17:20:05.367Z"
   },
   {
    "duration": 42,
    "start_time": "2023-08-25T17:20:05.417Z"
   },
   {
    "duration": 24,
    "start_time": "2023-08-25T17:20:05.462Z"
   },
   {
    "duration": 66,
    "start_time": "2023-08-25T17:20:05.488Z"
   },
   {
    "duration": 55,
    "start_time": "2023-08-25T17:20:05.557Z"
   },
   {
    "duration": 5,
    "start_time": "2023-08-25T17:20:05.614Z"
   },
   {
    "duration": 40,
    "start_time": "2023-08-25T17:20:05.621Z"
   },
   {
    "duration": 53,
    "start_time": "2023-08-25T17:20:05.662Z"
   },
   {
    "duration": 15,
    "start_time": "2023-08-25T17:20:05.718Z"
   },
   {
    "duration": 49,
    "start_time": "2023-08-25T17:20:05.736Z"
   },
   {
    "duration": 402,
    "start_time": "2023-08-25T17:20:05.788Z"
   },
   {
    "duration": 758,
    "start_time": "2023-08-25T17:20:06.191Z"
   },
   {
    "duration": 2,
    "start_time": "2023-08-25T17:20:06.951Z"
   },
   {
    "duration": 42,
    "start_time": "2023-08-25T17:20:06.954Z"
   },
   {
    "duration": 1457,
    "start_time": "2023-08-25T17:20:06.998Z"
   },
   {
    "duration": 37390,
    "start_time": "2023-08-25T17:20:08.456Z"
   },
   {
    "duration": 45,
    "start_time": "2023-08-25T17:20:45.847Z"
   },
   {
    "duration": 272,
    "start_time": "2023-08-25T17:20:45.894Z"
   },
   {
    "duration": 5,
    "start_time": "2023-08-25T17:20:46.169Z"
   },
   {
    "duration": 21,
    "start_time": "2023-08-25T17:20:46.177Z"
   },
   {
    "duration": 23,
    "start_time": "2023-08-25T17:20:58.655Z"
   },
   {
    "duration": 22,
    "start_time": "2023-08-25T17:21:08.189Z"
   },
   {
    "duration": 25,
    "start_time": "2023-08-25T17:21:14.375Z"
   },
   {
    "duration": 6,
    "start_time": "2023-08-25T17:21:19.944Z"
   },
   {
    "duration": 12,
    "start_time": "2023-08-25T17:21:24.133Z"
   },
   {
    "duration": 19,
    "start_time": "2023-08-25T17:21:27.891Z"
   },
   {
    "duration": 6,
    "start_time": "2023-08-25T17:21:30.847Z"
   },
   {
    "duration": 8835,
    "start_time": "2023-08-25T17:21:41.190Z"
   },
   {
    "duration": 6,
    "start_time": "2023-08-25T17:22:59.928Z"
   },
   {
    "duration": 38,
    "start_time": "2023-08-25T17:23:05.753Z"
   },
   {
    "duration": 2119,
    "start_time": "2023-08-25T17:23:18.004Z"
   },
   {
    "duration": 11522,
    "start_time": "2023-08-25T17:23:20.125Z"
   },
   {
    "duration": 19,
    "start_time": "2023-08-25T17:23:31.649Z"
   },
   {
    "duration": 679,
    "start_time": "2023-08-25T17:23:31.670Z"
   },
   {
    "duration": 17,
    "start_time": "2023-08-25T17:23:32.351Z"
   },
   {
    "duration": 13,
    "start_time": "2023-08-25T17:23:32.369Z"
   },
   {
    "duration": 22,
    "start_time": "2023-08-25T17:23:32.384Z"
   },
   {
    "duration": 18,
    "start_time": "2023-08-25T17:23:32.407Z"
   },
   {
    "duration": 12,
    "start_time": "2023-08-25T17:23:32.426Z"
   },
   {
    "duration": 20,
    "start_time": "2023-08-25T17:23:32.442Z"
   },
   {
    "duration": 23,
    "start_time": "2023-08-25T17:23:32.463Z"
   },
   {
    "duration": 26,
    "start_time": "2023-08-25T17:23:32.488Z"
   },
   {
    "duration": 25,
    "start_time": "2023-08-25T17:23:32.516Z"
   },
   {
    "duration": 18,
    "start_time": "2023-08-25T17:23:32.543Z"
   },
   {
    "duration": 10,
    "start_time": "2023-08-25T17:23:32.563Z"
   },
   {
    "duration": 24,
    "start_time": "2023-08-25T17:23:32.574Z"
   },
   {
    "duration": 8,
    "start_time": "2023-08-25T17:23:32.599Z"
   },
   {
    "duration": 14,
    "start_time": "2023-08-25T17:23:32.608Z"
   },
   {
    "duration": 14,
    "start_time": "2023-08-25T17:23:32.623Z"
   },
   {
    "duration": 30,
    "start_time": "2023-08-25T17:23:32.638Z"
   },
   {
    "duration": 26,
    "start_time": "2023-08-25T17:23:32.669Z"
   },
   {
    "duration": 6,
    "start_time": "2023-08-25T17:23:32.697Z"
   },
   {
    "duration": 9,
    "start_time": "2023-08-25T17:23:32.704Z"
   },
   {
    "duration": 38,
    "start_time": "2023-08-25T17:23:32.715Z"
   },
   {
    "duration": 5,
    "start_time": "2023-08-25T17:23:32.755Z"
   },
   {
    "duration": 21,
    "start_time": "2023-08-25T17:23:32.761Z"
   },
   {
    "duration": 45,
    "start_time": "2023-08-25T17:23:32.784Z"
   },
   {
    "duration": 13,
    "start_time": "2023-08-25T17:23:32.832Z"
   },
   {
    "duration": 18,
    "start_time": "2023-08-25T17:23:32.847Z"
   },
   {
    "duration": 306,
    "start_time": "2023-08-25T17:23:32.867Z"
   },
   {
    "duration": 722,
    "start_time": "2023-08-25T17:23:33.175Z"
   },
   {
    "duration": 3,
    "start_time": "2023-08-25T17:23:33.898Z"
   },
   {
    "duration": 52,
    "start_time": "2023-08-25T17:23:33.902Z"
   },
   {
    "duration": 1526,
    "start_time": "2023-08-25T17:23:33.956Z"
   },
   {
    "duration": 37035,
    "start_time": "2023-08-25T17:23:35.483Z"
   },
   {
    "duration": 47,
    "start_time": "2023-08-25T17:24:12.519Z"
   },
   {
    "duration": 85,
    "start_time": "2023-08-25T17:24:12.568Z"
   },
   {
    "duration": 5,
    "start_time": "2023-08-25T17:24:12.654Z"
   },
   {
    "duration": 18,
    "start_time": "2023-08-25T17:24:12.661Z"
   },
   {
    "duration": 43,
    "start_time": "2023-08-25T17:24:12.681Z"
   },
   {
    "duration": 7,
    "start_time": "2023-08-25T17:24:12.725Z"
   },
   {
    "duration": 11,
    "start_time": "2023-08-25T17:24:12.733Z"
   },
   {
    "duration": 26,
    "start_time": "2023-08-25T17:24:20.582Z"
   },
   {
    "duration": 3,
    "start_time": "2023-08-25T17:24:22.149Z"
   },
   {
    "duration": 3,
    "start_time": "2023-08-25T17:24:22.314Z"
   },
   {
    "duration": 4,
    "start_time": "2023-08-25T17:24:23.525Z"
   },
   {
    "duration": 8854,
    "start_time": "2023-08-25T17:24:27.118Z"
   },
   {
    "duration": 2064,
    "start_time": "2023-08-25T17:25:30.950Z"
   },
   {
    "duration": 10304,
    "start_time": "2023-08-25T17:25:33.016Z"
   },
   {
    "duration": 18,
    "start_time": "2023-08-25T17:25:43.322Z"
   },
   {
    "duration": 657,
    "start_time": "2023-08-25T17:25:43.343Z"
   },
   {
    "duration": 15,
    "start_time": "2023-08-25T17:25:44.001Z"
   },
   {
    "duration": 30,
    "start_time": "2023-08-25T17:25:44.017Z"
   },
   {
    "duration": 22,
    "start_time": "2023-08-25T17:25:44.049Z"
   },
   {
    "duration": 46,
    "start_time": "2023-08-25T17:25:44.073Z"
   },
   {
    "duration": 11,
    "start_time": "2023-08-25T17:25:44.120Z"
   },
   {
    "duration": 34,
    "start_time": "2023-08-25T17:25:44.133Z"
   },
   {
    "duration": 10,
    "start_time": "2023-08-25T17:25:44.169Z"
   },
   {
    "duration": 26,
    "start_time": "2023-08-25T17:25:44.180Z"
   },
   {
    "duration": 11,
    "start_time": "2023-08-25T17:25:44.207Z"
   },
   {
    "duration": 21,
    "start_time": "2023-08-25T17:25:44.220Z"
   },
   {
    "duration": 10,
    "start_time": "2023-08-25T17:25:44.243Z"
   },
   {
    "duration": 9,
    "start_time": "2023-08-25T17:25:44.254Z"
   },
   {
    "duration": 3,
    "start_time": "2023-08-25T17:25:44.265Z"
   },
   {
    "duration": 13,
    "start_time": "2023-08-25T17:25:44.269Z"
   },
   {
    "duration": 5,
    "start_time": "2023-08-25T17:25:44.283Z"
   },
   {
    "duration": 9,
    "start_time": "2023-08-25T17:25:44.289Z"
   },
   {
    "duration": 14,
    "start_time": "2023-08-25T17:25:44.299Z"
   },
   {
    "duration": 8,
    "start_time": "2023-08-25T17:25:44.314Z"
   },
   {
    "duration": 14,
    "start_time": "2023-08-25T17:25:44.324Z"
   },
   {
    "duration": 60,
    "start_time": "2023-08-25T17:25:44.339Z"
   },
   {
    "duration": 5,
    "start_time": "2023-08-25T17:25:44.401Z"
   },
   {
    "duration": 29,
    "start_time": "2023-08-25T17:25:44.408Z"
   },
   {
    "duration": 36,
    "start_time": "2023-08-25T17:25:44.438Z"
   },
   {
    "duration": 13,
    "start_time": "2023-08-25T17:25:44.477Z"
   },
   {
    "duration": 38,
    "start_time": "2023-08-25T17:25:44.492Z"
   },
   {
    "duration": 291,
    "start_time": "2023-08-25T17:25:44.532Z"
   },
   {
    "duration": 699,
    "start_time": "2023-08-25T17:25:44.825Z"
   },
   {
    "duration": 2,
    "start_time": "2023-08-25T17:25:45.526Z"
   },
   {
    "duration": 23,
    "start_time": "2023-08-25T17:25:45.529Z"
   },
   {
    "duration": 1544,
    "start_time": "2023-08-25T17:25:45.554Z"
   },
   {
    "duration": 36671,
    "start_time": "2023-08-25T17:25:47.099Z"
   },
   {
    "duration": 47,
    "start_time": "2023-08-25T17:26:23.772Z"
   },
   {
    "duration": 79,
    "start_time": "2023-08-25T17:26:23.821Z"
   },
   {
    "duration": 5,
    "start_time": "2023-08-25T17:26:23.901Z"
   },
   {
    "duration": 28,
    "start_time": "2023-08-25T17:26:23.907Z"
   },
   {
    "duration": 23,
    "start_time": "2023-08-25T17:26:27.550Z"
   },
   {
    "duration": 7,
    "start_time": "2023-08-25T17:26:28.745Z"
   },
   {
    "duration": 11,
    "start_time": "2023-08-25T17:26:29.184Z"
   },
   {
    "duration": 27,
    "start_time": "2023-08-25T17:26:29.640Z"
   },
   {
    "duration": 4,
    "start_time": "2023-08-25T17:26:34.919Z"
   },
   {
    "duration": 13050,
    "start_time": "2023-08-25T17:26:37.186Z"
   },
   {
    "duration": 13476,
    "start_time": "2023-08-25T17:28:59.894Z"
   },
   {
    "duration": 13583,
    "start_time": "2023-08-25T17:31:17.502Z"
   },
   {
    "duration": 13245,
    "start_time": "2023-08-25T17:32:26.321Z"
   },
   {
    "duration": 13548,
    "start_time": "2023-08-25T17:33:14.447Z"
   },
   {
    "duration": 21898,
    "start_time": "2023-08-25T17:43:14.135Z"
   },
   {
    "duration": 877922,
    "start_time": "2023-08-25T17:43:50.207Z"
   },
   {
    "duration": 98,
    "start_time": "2023-08-25T18:10:46.091Z"
   },
   {
    "duration": 4,
    "start_time": "2023-08-25T18:10:50.968Z"
   },
   {
    "duration": 4,
    "start_time": "2023-08-25T18:11:14.684Z"
   },
   {
    "duration": 68,
    "start_time": "2023-08-25T18:12:44.093Z"
   },
   {
    "duration": 73,
    "start_time": "2023-08-25T18:12:56.980Z"
   },
   {
    "duration": 72,
    "start_time": "2023-08-25T18:13:56.590Z"
   },
   {
    "duration": 285,
    "start_time": "2023-08-25T18:15:13.712Z"
   },
   {
    "duration": 160,
    "start_time": "2023-08-25T18:15:14.202Z"
   },
   {
    "duration": 294,
    "start_time": "2023-08-25T18:15:14.589Z"
   },
   {
    "duration": 2228,
    "start_time": "2023-08-25T18:27:20.986Z"
   },
   {
    "duration": 12065,
    "start_time": "2023-08-25T18:27:23.217Z"
   },
   {
    "duration": 20,
    "start_time": "2023-08-25T18:27:35.283Z"
   },
   {
    "duration": 792,
    "start_time": "2023-08-25T18:27:35.305Z"
   },
   {
    "duration": 15,
    "start_time": "2023-08-25T18:27:36.099Z"
   },
   {
    "duration": 16,
    "start_time": "2023-08-25T18:27:36.116Z"
   },
   {
    "duration": 13,
    "start_time": "2023-08-25T18:27:36.134Z"
   },
   {
    "duration": 13,
    "start_time": "2023-08-25T18:27:36.149Z"
   },
   {
    "duration": 11,
    "start_time": "2023-08-25T18:27:36.163Z"
   },
   {
    "duration": 16,
    "start_time": "2023-08-25T18:27:36.175Z"
   },
   {
    "duration": 42,
    "start_time": "2023-08-25T18:27:36.193Z"
   },
   {
    "duration": 16,
    "start_time": "2023-08-25T18:27:36.237Z"
   },
   {
    "duration": 15,
    "start_time": "2023-08-25T18:27:36.255Z"
   },
   {
    "duration": 10,
    "start_time": "2023-08-25T18:27:36.273Z"
   },
   {
    "duration": 7,
    "start_time": "2023-08-25T18:27:36.285Z"
   },
   {
    "duration": 14,
    "start_time": "2023-08-25T18:27:36.293Z"
   },
   {
    "duration": 18,
    "start_time": "2023-08-25T18:27:36.308Z"
   },
   {
    "duration": 13,
    "start_time": "2023-08-25T18:27:36.333Z"
   },
   {
    "duration": 6,
    "start_time": "2023-08-25T18:27:36.348Z"
   },
   {
    "duration": 8,
    "start_time": "2023-08-25T18:27:36.355Z"
   },
   {
    "duration": 3,
    "start_time": "2023-08-25T18:27:36.364Z"
   },
   {
    "duration": 4,
    "start_time": "2023-08-25T18:27:36.369Z"
   },
   {
    "duration": 6,
    "start_time": "2023-08-25T18:27:36.375Z"
   },
   {
    "duration": 69,
    "start_time": "2023-08-25T18:27:36.382Z"
   },
   {
    "duration": 6,
    "start_time": "2023-08-25T18:27:36.453Z"
   },
   {
    "duration": 23,
    "start_time": "2023-08-25T18:27:36.460Z"
   },
   {
    "duration": 45,
    "start_time": "2023-08-25T18:27:36.485Z"
   },
   {
    "duration": 15,
    "start_time": "2023-08-25T18:27:36.536Z"
   },
   {
    "duration": 25,
    "start_time": "2023-08-25T18:27:36.553Z"
   },
   {
    "duration": 334,
    "start_time": "2023-08-25T18:27:36.580Z"
   },
   {
    "duration": 758,
    "start_time": "2023-08-25T18:27:36.915Z"
   },
   {
    "duration": 3,
    "start_time": "2023-08-25T18:27:37.675Z"
   },
   {
    "duration": 7,
    "start_time": "2023-08-25T18:27:37.679Z"
   },
   {
    "duration": 1585,
    "start_time": "2023-08-25T18:27:37.687Z"
   },
   {
    "duration": 39588,
    "start_time": "2023-08-25T18:27:39.274Z"
   },
   {
    "duration": 55,
    "start_time": "2023-08-25T18:28:18.864Z"
   },
   {
    "duration": 86,
    "start_time": "2023-08-25T18:28:18.924Z"
   },
   {
    "duration": 6,
    "start_time": "2023-08-25T18:28:19.013Z"
   },
   {
    "duration": 24,
    "start_time": "2023-08-25T18:28:19.026Z"
   },
   {
    "duration": 26,
    "start_time": "2023-08-25T18:28:19.052Z"
   },
   {
    "duration": 7,
    "start_time": "2023-08-25T18:28:19.083Z"
   },
   {
    "duration": 11,
    "start_time": "2023-08-25T18:28:19.091Z"
   },
   {
    "duration": 49,
    "start_time": "2023-08-25T18:28:19.104Z"
   },
   {
    "duration": 29,
    "start_time": "2023-08-25T18:28:19.154Z"
   },
   {
    "duration": 13762,
    "start_time": "2023-08-25T18:28:19.185Z"
   },
   {
    "duration": 24130,
    "start_time": "2023-08-25T18:28:32.949Z"
   },
   {
    "duration": 1527952,
    "start_time": "2023-08-25T18:28:57.081Z"
   },
   {
    "duration": 90,
    "start_time": "2023-08-25T18:54:25.037Z"
   },
   {
    "duration": 153,
    "start_time": "2023-08-25T18:54:25.128Z"
   },
   {
    "duration": 305,
    "start_time": "2023-08-25T18:54:25.282Z"
   },
   {
    "duration": 143,
    "start_time": "2023-08-25T18:54:25.589Z"
   },
   {
    "duration": 0,
    "start_time": "2023-08-25T18:54:25.734Z"
   },
   {
    "duration": 266,
    "start_time": "2023-08-25T21:55:09.412Z"
   },
   {
    "duration": 260,
    "start_time": "2023-08-25T21:55:28.922Z"
   },
   {
    "duration": 3274,
    "start_time": "2023-08-26T17:36:05.447Z"
   },
   {
    "duration": 8952,
    "start_time": "2023-08-26T17:36:08.724Z"
   },
   {
    "duration": 20,
    "start_time": "2023-08-26T17:36:17.678Z"
   },
   {
    "duration": 224,
    "start_time": "2023-08-26T17:36:17.700Z"
   },
   {
    "duration": 14,
    "start_time": "2023-08-26T17:36:17.926Z"
   },
   {
    "duration": 23,
    "start_time": "2023-08-26T17:36:17.942Z"
   },
   {
    "duration": 30,
    "start_time": "2023-08-26T17:36:17.967Z"
   },
   {
    "duration": 40,
    "start_time": "2023-08-26T17:36:17.998Z"
   },
   {
    "duration": 26,
    "start_time": "2023-08-26T17:36:18.040Z"
   },
   {
    "duration": 39,
    "start_time": "2023-08-26T17:36:18.069Z"
   },
   {
    "duration": 10,
    "start_time": "2023-08-26T17:36:18.109Z"
   },
   {
    "duration": 39,
    "start_time": "2023-08-26T17:36:18.121Z"
   },
   {
    "duration": 10,
    "start_time": "2023-08-26T17:36:18.162Z"
   },
   {
    "duration": 14,
    "start_time": "2023-08-26T17:36:18.174Z"
   },
   {
    "duration": 6,
    "start_time": "2023-08-26T17:36:18.190Z"
   },
   {
    "duration": 8,
    "start_time": "2023-08-26T17:36:18.198Z"
   },
   {
    "duration": 15,
    "start_time": "2023-08-26T17:36:18.207Z"
   },
   {
    "duration": 22,
    "start_time": "2023-08-26T17:36:18.223Z"
   },
   {
    "duration": 11,
    "start_time": "2023-08-26T17:36:18.247Z"
   },
   {
    "duration": 9,
    "start_time": "2023-08-26T17:36:18.260Z"
   },
   {
    "duration": 35,
    "start_time": "2023-08-26T17:36:18.271Z"
   },
   {
    "duration": 25,
    "start_time": "2023-08-26T17:36:18.308Z"
   },
   {
    "duration": 13,
    "start_time": "2023-08-26T17:36:18.335Z"
   },
   {
    "duration": 45,
    "start_time": "2023-08-26T17:36:18.349Z"
   },
   {
    "duration": 8,
    "start_time": "2023-08-26T17:36:18.396Z"
   },
   {
    "duration": 27,
    "start_time": "2023-08-26T17:36:18.406Z"
   },
   {
    "duration": 51,
    "start_time": "2023-08-26T17:36:18.435Z"
   },
   {
    "duration": 14,
    "start_time": "2023-08-26T17:36:18.490Z"
   },
   {
    "duration": 29,
    "start_time": "2023-08-26T17:36:18.506Z"
   },
   {
    "duration": 326,
    "start_time": "2023-08-26T17:36:18.537Z"
   },
   {
    "duration": 796,
    "start_time": "2023-08-26T17:36:18.865Z"
   },
   {
    "duration": 3,
    "start_time": "2023-08-26T17:36:19.663Z"
   },
   {
    "duration": 19,
    "start_time": "2023-08-26T17:36:19.668Z"
   },
   {
    "duration": 1538,
    "start_time": "2023-08-26T17:36:19.689Z"
   },
   {
    "duration": 37396,
    "start_time": "2023-08-26T17:36:21.229Z"
   },
   {
    "duration": 46,
    "start_time": "2023-08-26T17:36:58.627Z"
   },
   {
    "duration": 85,
    "start_time": "2023-08-26T17:36:58.675Z"
   },
   {
    "duration": 6,
    "start_time": "2023-08-26T17:36:58.763Z"
   },
   {
    "duration": 22,
    "start_time": "2023-08-26T17:36:58.771Z"
   },
   {
    "duration": 3,
    "start_time": "2023-08-26T17:36:58.794Z"
   },
   {
    "duration": 8,
    "start_time": "2023-08-26T17:36:58.798Z"
   },
   {
    "duration": 8,
    "start_time": "2023-08-26T17:36:58.808Z"
   },
   {
    "duration": 66,
    "start_time": "2023-08-26T17:36:58.818Z"
   },
   {
    "duration": 6,
    "start_time": "2023-08-26T17:36:58.886Z"
   },
   {
    "duration": 13131,
    "start_time": "2023-08-26T17:36:58.894Z"
   },
   {
    "duration": 18344,
    "start_time": "2023-08-26T17:37:12.027Z"
   },
   {
    "duration": 562687,
    "start_time": "2023-08-26T17:37:30.374Z"
   },
   {
    "duration": 93,
    "start_time": "2023-08-26T17:46:53.064Z"
   },
   {
    "duration": 114,
    "start_time": "2023-08-26T17:46:53.160Z"
   },
   {
    "duration": 260,
    "start_time": "2023-08-26T17:46:53.276Z"
   },
   {
    "duration": 149,
    "start_time": "2023-08-26T17:46:53.538Z"
   },
   {
    "duration": 0,
    "start_time": "2023-08-26T17:46:53.689Z"
   },
   {
    "duration": 727,
    "start_time": "2023-08-27T13:43:02.998Z"
   },
   {
    "duration": 12,
    "start_time": "2023-08-27T13:45:20.990Z"
   },
   {
    "duration": 4123,
    "start_time": "2023-08-27T13:45:31.807Z"
   },
   {
    "duration": 13800,
    "start_time": "2023-08-27T13:45:35.932Z"
   },
   {
    "duration": 21,
    "start_time": "2023-08-27T13:45:49.733Z"
   },
   {
    "duration": 366,
    "start_time": "2023-08-27T13:45:49.758Z"
   },
   {
    "duration": 15,
    "start_time": "2023-08-27T13:45:50.126Z"
   },
   {
    "duration": 29,
    "start_time": "2023-08-27T13:45:50.143Z"
   },
   {
    "duration": 18,
    "start_time": "2023-08-27T13:45:50.174Z"
   },
   {
    "duration": 22,
    "start_time": "2023-08-27T13:45:50.193Z"
   },
   {
    "duration": 13,
    "start_time": "2023-08-27T13:45:50.217Z"
   },
   {
    "duration": 14,
    "start_time": "2023-08-27T13:45:50.233Z"
   },
   {
    "duration": 41,
    "start_time": "2023-08-27T13:45:50.248Z"
   },
   {
    "duration": 25,
    "start_time": "2023-08-27T13:45:50.293Z"
   },
   {
    "duration": 8,
    "start_time": "2023-08-27T13:45:50.321Z"
   },
   {
    "duration": 15,
    "start_time": "2023-08-27T13:45:50.331Z"
   },
   {
    "duration": 24,
    "start_time": "2023-08-27T13:45:50.348Z"
   },
   {
    "duration": 9,
    "start_time": "2023-08-27T13:45:50.374Z"
   },
   {
    "duration": 4,
    "start_time": "2023-08-27T13:45:50.384Z"
   },
   {
    "duration": 18,
    "start_time": "2023-08-27T13:45:50.389Z"
   },
   {
    "duration": 4,
    "start_time": "2023-08-27T13:45:50.409Z"
   },
   {
    "duration": 16,
    "start_time": "2023-08-27T13:45:50.414Z"
   },
   {
    "duration": 5,
    "start_time": "2023-08-27T13:45:50.432Z"
   },
   {
    "duration": 14,
    "start_time": "2023-08-27T13:45:50.439Z"
   },
   {
    "duration": 13,
    "start_time": "2023-08-27T13:45:50.454Z"
   },
   {
    "duration": 58,
    "start_time": "2023-08-27T13:45:50.468Z"
   },
   {
    "duration": 6,
    "start_time": "2023-08-27T13:45:50.528Z"
   },
   {
    "duration": 42,
    "start_time": "2023-08-27T13:45:50.536Z"
   },
   {
    "duration": 58,
    "start_time": "2023-08-27T13:45:50.580Z"
   },
   {
    "duration": 25,
    "start_time": "2023-08-27T13:45:50.642Z"
   },
   {
    "duration": 40,
    "start_time": "2023-08-27T13:45:50.669Z"
   },
   {
    "duration": 389,
    "start_time": "2023-08-27T13:45:50.711Z"
   },
   {
    "duration": 825,
    "start_time": "2023-08-27T13:45:51.102Z"
   },
   {
    "duration": 3,
    "start_time": "2023-08-27T13:45:51.929Z"
   },
   {
    "duration": 11,
    "start_time": "2023-08-27T13:45:51.933Z"
   },
   {
    "duration": 1726,
    "start_time": "2023-08-27T13:45:51.945Z"
   },
   {
    "duration": 47614,
    "start_time": "2023-08-27T13:45:53.675Z"
   },
   {
    "duration": 50,
    "start_time": "2023-08-27T13:46:41.293Z"
   },
   {
    "duration": 93,
    "start_time": "2023-08-27T13:46:41.344Z"
   },
   {
    "duration": 4,
    "start_time": "2023-08-27T13:46:41.439Z"
   },
   {
    "duration": 21,
    "start_time": "2023-08-27T13:46:41.445Z"
   },
   {
    "duration": 15,
    "start_time": "2023-08-27T13:46:41.476Z"
   },
   {
    "duration": 14,
    "start_time": "2023-08-27T13:46:41.493Z"
   },
   {
    "duration": 12,
    "start_time": "2023-08-27T13:46:41.509Z"
   },
   {
    "duration": 60,
    "start_time": "2023-08-27T13:46:41.523Z"
   },
   {
    "duration": 5,
    "start_time": "2023-08-27T13:46:41.589Z"
   },
   {
    "duration": 15129,
    "start_time": "2023-08-27T13:46:41.595Z"
   },
   {
    "duration": 26786,
    "start_time": "2023-08-27T13:46:56.727Z"
   },
   {
    "duration": 2969880,
    "start_time": "2023-08-27T13:47:23.515Z"
   },
   {
    "duration": 88,
    "start_time": "2023-08-27T14:36:53.403Z"
   },
   {
    "duration": 82,
    "start_time": "2023-08-27T14:36:53.493Z"
   },
   {
    "duration": 137,
    "start_time": "2023-08-27T14:36:53.577Z"
   },
   {
    "duration": 0,
    "start_time": "2023-08-27T14:36:53.716Z"
   },
   {
    "duration": 0,
    "start_time": "2023-08-27T14:36:53.717Z"
   },
   {
    "duration": 9,
    "start_time": "2023-08-27T14:39:13.315Z"
   },
   {
    "duration": 260,
    "start_time": "2023-08-27T14:39:15.807Z"
   },
   {
    "duration": 21,
    "start_time": "2023-08-27T14:39:43.588Z"
   },
   {
    "duration": 13,
    "start_time": "2023-08-27T14:40:10.935Z"
   },
   {
    "duration": 23,
    "start_time": "2023-08-27T14:40:40.972Z"
   },
   {
    "duration": 20,
    "start_time": "2023-08-27T14:40:45.810Z"
   },
   {
    "duration": 34,
    "start_time": "2023-08-27T14:41:46.544Z"
   },
   {
    "duration": 24,
    "start_time": "2023-08-27T14:42:06.048Z"
   },
   {
    "duration": 9,
    "start_time": "2023-08-27T14:42:31.576Z"
   },
   {
    "duration": 4,
    "start_time": "2023-08-27T14:43:01.302Z"
   },
   {
    "duration": 6,
    "start_time": "2023-08-27T14:43:04.245Z"
   },
   {
    "duration": 18,
    "start_time": "2023-08-27T14:46:21.631Z"
   },
   {
    "duration": 390,
    "start_time": "2023-08-27T14:47:18.619Z"
   },
   {
    "duration": 357,
    "start_time": "2023-08-27T14:47:25.850Z"
   },
   {
    "duration": 111,
    "start_time": "2023-08-27T14:49:13.994Z"
   },
   {
    "duration": 2511,
    "start_time": "2023-08-27T14:51:40.955Z"
   },
   {
    "duration": 11875,
    "start_time": "2023-08-27T14:51:43.469Z"
   },
   {
    "duration": 29,
    "start_time": "2023-08-27T14:51:55.346Z"
   },
   {
    "duration": 325,
    "start_time": "2023-08-27T14:51:55.383Z"
   },
   {
    "duration": 17,
    "start_time": "2023-08-27T14:51:55.712Z"
   },
   {
    "duration": 21,
    "start_time": "2023-08-27T14:51:55.731Z"
   },
   {
    "duration": 33,
    "start_time": "2023-08-27T14:51:55.754Z"
   },
   {
    "duration": 20,
    "start_time": "2023-08-27T14:51:55.789Z"
   },
   {
    "duration": 11,
    "start_time": "2023-08-27T14:51:55.810Z"
   },
   {
    "duration": 40,
    "start_time": "2023-08-27T14:51:55.823Z"
   },
   {
    "duration": 132,
    "start_time": "2023-08-27T14:51:55.870Z"
   },
   {
    "duration": 15,
    "start_time": "2023-08-27T14:51:56.004Z"
   },
   {
    "duration": 9,
    "start_time": "2023-08-27T14:51:56.021Z"
   },
   {
    "duration": 18,
    "start_time": "2023-08-27T14:51:56.031Z"
   },
   {
    "duration": 29,
    "start_time": "2023-08-27T14:51:56.050Z"
   },
   {
    "duration": 19,
    "start_time": "2023-08-27T14:51:56.080Z"
   },
   {
    "duration": 4,
    "start_time": "2023-08-27T14:51:56.101Z"
   },
   {
    "duration": 17,
    "start_time": "2023-08-27T14:51:56.107Z"
   },
   {
    "duration": 7,
    "start_time": "2023-08-27T14:51:56.126Z"
   },
   {
    "duration": 9,
    "start_time": "2023-08-27T14:51:56.135Z"
   },
   {
    "duration": 9,
    "start_time": "2023-08-27T14:51:56.146Z"
   },
   {
    "duration": 8,
    "start_time": "2023-08-27T14:51:56.160Z"
   },
   {
    "duration": 6,
    "start_time": "2023-08-27T14:51:56.171Z"
   },
   {
    "duration": 47,
    "start_time": "2023-08-27T14:51:56.178Z"
   },
   {
    "duration": 5,
    "start_time": "2023-08-27T14:51:56.227Z"
   },
   {
    "duration": 27,
    "start_time": "2023-08-27T14:51:56.233Z"
   },
   {
    "duration": 54,
    "start_time": "2023-08-27T14:51:56.265Z"
   },
   {
    "duration": 16,
    "start_time": "2023-08-27T14:51:56.324Z"
   },
   {
    "duration": 38,
    "start_time": "2023-08-27T14:51:56.342Z"
   },
   {
    "duration": 390,
    "start_time": "2023-08-27T14:51:56.382Z"
   },
   {
    "duration": 842,
    "start_time": "2023-08-27T14:51:56.776Z"
   },
   {
    "duration": 3,
    "start_time": "2023-08-27T14:51:57.620Z"
   },
   {
    "duration": 31,
    "start_time": "2023-08-27T14:51:57.624Z"
   },
   {
    "duration": 1877,
    "start_time": "2023-08-27T14:51:57.660Z"
   },
   {
    "duration": 45951,
    "start_time": "2023-08-27T14:51:59.539Z"
   },
   {
    "duration": 94,
    "start_time": "2023-08-27T14:52:45.493Z"
   },
   {
    "duration": 106,
    "start_time": "2023-08-27T14:52:45.589Z"
   },
   {
    "duration": 6,
    "start_time": "2023-08-27T14:52:45.698Z"
   },
   {
    "duration": 23,
    "start_time": "2023-08-27T14:52:45.705Z"
   },
   {
    "duration": 5,
    "start_time": "2023-08-27T14:52:45.730Z"
   },
   {
    "duration": 7,
    "start_time": "2023-08-27T14:52:45.737Z"
   },
   {
    "duration": 6,
    "start_time": "2023-08-27T14:52:45.746Z"
   },
   {
    "duration": 79,
    "start_time": "2023-08-27T14:52:45.756Z"
   },
   {
    "duration": 6,
    "start_time": "2023-08-27T14:52:45.838Z"
   },
   {
    "duration": 16032,
    "start_time": "2023-08-27T14:52:45.846Z"
   },
   {
    "duration": 24259,
    "start_time": "2023-08-27T14:53:01.884Z"
   },
   {
    "duration": 1557750,
    "start_time": "2023-08-27T14:53:26.146Z"
   },
   {
    "duration": 70,
    "start_time": "2023-08-27T15:19:23.905Z"
   },
   {
    "duration": 85,
    "start_time": "2023-08-27T15:19:23.977Z"
   },
   {
    "duration": 310,
    "start_time": "2023-08-27T15:19:24.064Z"
   },
   {
    "duration": 317,
    "start_time": "2023-08-27T15:19:24.376Z"
   },
   {
    "duration": 324,
    "start_time": "2023-08-27T15:19:24.694Z"
   }
  ],
  "kernelspec": {
   "display_name": "Python 3 (ipykernel)",
   "language": "python",
   "name": "python3"
  },
  "language_info": {
   "codemirror_mode": {
    "name": "ipython",
    "version": 3
   },
   "file_extension": ".py",
   "mimetype": "text/x-python",
   "name": "python",
   "nbconvert_exporter": "python",
   "pygments_lexer": "ipython3",
   "version": "3.11.4"
  },
  "toc": {
   "base_numbering": 1,
   "nav_menu": {},
   "number_sections": true,
   "sideBar": true,
   "skip_h1_title": true,
   "title_cell": "Table of Contents",
   "title_sidebar": "Contents",
   "toc_cell": false,
   "toc_position": {
    "height": "calc(100% - 180px)",
    "left": "10px",
    "top": "150px",
    "width": "232px"
   },
   "toc_section_display": true,
   "toc_window_display": true
  }
 },
 "nbformat": 4,
 "nbformat_minor": 2
}
